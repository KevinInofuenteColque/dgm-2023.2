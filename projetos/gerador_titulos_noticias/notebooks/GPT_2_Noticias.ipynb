{
  "cells": [
    {
      "cell_type": "markdown",
      "metadata": {
        "id": "DRHEjKRJbNjY"
      },
      "source": [
        "## Geração de Notícias utilizadndo GPT-2\n",
        "\n",
        "Neste notebook iremos realizar treinamento (finetunning) do modelo GPT-2 treinado em PT-BR para gerar títulos de notícias de economia."
      ]
    },
    {
      "cell_type": "code",
      "execution_count": null,
      "metadata": {
        "colab": {
          "base_uri": "https://localhost:8080/"
        },
        "id": "S7_e3GBMPX_M",
        "outputId": "dadc7da2-804e-40fd-fab9-00c508ea1943"
      },
      "outputs": [
        {
          "output_type": "stream",
          "name": "stdout",
          "text": [
            "Collecting transformers[torch]\n",
            "  Downloading transformers-4.34.0-py3-none-any.whl (7.7 MB)\n",
            "\u001b[2K     \u001b[90m━━━━━━━━━━━━━━━━━━━━━━━━━━━━━━━━━━━━━━━━\u001b[0m \u001b[32m7.7/7.7 MB\u001b[0m \u001b[31m21.4 MB/s\u001b[0m eta \u001b[36m0:00:00\u001b[0m\n",
            "\u001b[?25hRequirement already satisfied: filelock in /usr/local/lib/python3.10/dist-packages (from transformers[torch]) (3.12.4)\n",
            "Collecting huggingface-hub<1.0,>=0.16.4 (from transformers[torch])\n",
            "  Downloading huggingface_hub-0.18.0-py3-none-any.whl (301 kB)\n",
            "\u001b[2K     \u001b[90m━━━━━━━━━━━━━━━━━━━━━━━━━━━━━━━━━━━━━━━━\u001b[0m \u001b[32m302.0/302.0 kB\u001b[0m \u001b[31m32.8 MB/s\u001b[0m eta \u001b[36m0:00:00\u001b[0m\n",
            "\u001b[?25hRequirement already satisfied: numpy>=1.17 in /usr/local/lib/python3.10/dist-packages (from transformers[torch]) (1.23.5)\n",
            "Requirement already satisfied: packaging>=20.0 in /usr/local/lib/python3.10/dist-packages (from transformers[torch]) (23.2)\n",
            "Requirement already satisfied: pyyaml>=5.1 in /usr/local/lib/python3.10/dist-packages (from transformers[torch]) (6.0.1)\n",
            "Requirement already satisfied: regex!=2019.12.17 in /usr/local/lib/python3.10/dist-packages (from transformers[torch]) (2023.6.3)\n",
            "Requirement already satisfied: requests in /usr/local/lib/python3.10/dist-packages (from transformers[torch]) (2.31.0)\n",
            "Collecting tokenizers<0.15,>=0.14 (from transformers[torch])\n",
            "  Downloading tokenizers-0.14.1-cp310-cp310-manylinux_2_17_x86_64.manylinux2014_x86_64.whl (3.8 MB)\n",
            "\u001b[2K     \u001b[90m━━━━━━━━━━━━━━━━━━━━━━━━━━━━━━━━━━━━━━━━\u001b[0m \u001b[32m3.8/3.8 MB\u001b[0m \u001b[31m49.6 MB/s\u001b[0m eta \u001b[36m0:00:00\u001b[0m\n",
            "\u001b[?25hCollecting safetensors>=0.3.1 (from transformers[torch])\n",
            "  Downloading safetensors-0.4.0-cp310-cp310-manylinux_2_17_x86_64.manylinux2014_x86_64.whl (1.3 MB)\n",
            "\u001b[2K     \u001b[90m━━━━━━━━━━━━━━━━━━━━━━━━━━━━━━━━━━━━━━━━\u001b[0m \u001b[32m1.3/1.3 MB\u001b[0m \u001b[31m59.8 MB/s\u001b[0m eta \u001b[36m0:00:00\u001b[0m\n",
            "\u001b[?25hRequirement already satisfied: tqdm>=4.27 in /usr/local/lib/python3.10/dist-packages (from transformers[torch]) (4.66.1)\n",
            "Requirement already satisfied: torch!=1.12.0,>=1.10 in /usr/local/lib/python3.10/dist-packages (from transformers[torch]) (2.0.1+cu118)\n",
            "Collecting accelerate>=0.20.3 (from transformers[torch])\n",
            "  Downloading accelerate-0.23.0-py3-none-any.whl (258 kB)\n",
            "\u001b[2K     \u001b[90m━━━━━━━━━━━━━━━━━━━━━━━━━━━━━━━━━━━━━━━━\u001b[0m \u001b[32m258.1/258.1 kB\u001b[0m \u001b[31m27.8 MB/s\u001b[0m eta \u001b[36m0:00:00\u001b[0m\n",
            "\u001b[?25hRequirement already satisfied: psutil in /usr/local/lib/python3.10/dist-packages (from accelerate>=0.20.3->transformers[torch]) (5.9.5)\n",
            "Requirement already satisfied: fsspec>=2023.5.0 in /usr/local/lib/python3.10/dist-packages (from huggingface-hub<1.0,>=0.16.4->transformers[torch]) (2023.6.0)\n",
            "Requirement already satisfied: typing-extensions>=3.7.4.3 in /usr/local/lib/python3.10/dist-packages (from huggingface-hub<1.0,>=0.16.4->transformers[torch]) (4.5.0)\n",
            "Collecting huggingface-hub<1.0,>=0.16.4 (from transformers[torch])\n",
            "  Downloading huggingface_hub-0.17.3-py3-none-any.whl (295 kB)\n",
            "\u001b[2K     \u001b[90m━━━━━━━━━━━━━━━━━━━━━━━━━━━━━━━━━━━━━━━━\u001b[0m \u001b[32m295.0/295.0 kB\u001b[0m \u001b[31m33.8 MB/s\u001b[0m eta \u001b[36m0:00:00\u001b[0m\n",
            "\u001b[?25hRequirement already satisfied: sympy in /usr/local/lib/python3.10/dist-packages (from torch!=1.12.0,>=1.10->transformers[torch]) (1.12)\n",
            "Requirement already satisfied: networkx in /usr/local/lib/python3.10/dist-packages (from torch!=1.12.0,>=1.10->transformers[torch]) (3.1)\n",
            "Requirement already satisfied: jinja2 in /usr/local/lib/python3.10/dist-packages (from torch!=1.12.0,>=1.10->transformers[torch]) (3.1.2)\n",
            "Requirement already satisfied: triton==2.0.0 in /usr/local/lib/python3.10/dist-packages (from torch!=1.12.0,>=1.10->transformers[torch]) (2.0.0)\n",
            "Requirement already satisfied: cmake in /usr/local/lib/python3.10/dist-packages (from triton==2.0.0->torch!=1.12.0,>=1.10->transformers[torch]) (3.27.6)\n",
            "Requirement already satisfied: lit in /usr/local/lib/python3.10/dist-packages (from triton==2.0.0->torch!=1.12.0,>=1.10->transformers[torch]) (17.0.2)\n",
            "Requirement already satisfied: charset-normalizer<4,>=2 in /usr/local/lib/python3.10/dist-packages (from requests->transformers[torch]) (3.3.0)\n",
            "Requirement already satisfied: idna<4,>=2.5 in /usr/local/lib/python3.10/dist-packages (from requests->transformers[torch]) (3.4)\n",
            "Requirement already satisfied: urllib3<3,>=1.21.1 in /usr/local/lib/python3.10/dist-packages (from requests->transformers[torch]) (2.0.6)\n",
            "Requirement already satisfied: certifi>=2017.4.17 in /usr/local/lib/python3.10/dist-packages (from requests->transformers[torch]) (2023.7.22)\n",
            "Requirement already satisfied: MarkupSafe>=2.0 in /usr/local/lib/python3.10/dist-packages (from jinja2->torch!=1.12.0,>=1.10->transformers[torch]) (2.1.3)\n",
            "Requirement already satisfied: mpmath>=0.19 in /usr/local/lib/python3.10/dist-packages (from sympy->torch!=1.12.0,>=1.10->transformers[torch]) (1.3.0)\n",
            "Installing collected packages: safetensors, huggingface-hub, tokenizers, transformers, accelerate\n",
            "Successfully installed accelerate-0.23.0 huggingface-hub-0.17.3 safetensors-0.4.0 tokenizers-0.14.1 transformers-4.34.0\n"
          ]
        }
      ],
      "source": [
        "!pip install transformers[torch]"
      ]
    },
    {
      "cell_type": "code",
      "execution_count": null,
      "metadata": {
        "colab": {
          "base_uri": "https://localhost:8080/"
        },
        "id": "JH0JtdCeE1n2",
        "outputId": "5f483f4f-ec62-4355-ac57-5a98b6e41471"
      },
      "outputs": [
        {
          "output_type": "stream",
          "name": "stdout",
          "text": [
            "Tue Oct 17 00:00:45 2023       \n",
            "+-----------------------------------------------------------------------------+\n",
            "| NVIDIA-SMI 525.105.17   Driver Version: 525.105.17   CUDA Version: 12.0     |\n",
            "|-------------------------------+----------------------+----------------------+\n",
            "| GPU  Name        Persistence-M| Bus-Id        Disp.A | Volatile Uncorr. ECC |\n",
            "| Fan  Temp  Perf  Pwr:Usage/Cap|         Memory-Usage | GPU-Util  Compute M. |\n",
            "|                               |                      |               MIG M. |\n",
            "|===============================+======================+======================|\n",
            "|   0  Tesla T4            Off  | 00000000:00:04.0 Off |                    0 |\n",
            "| N/A   49C    P8     9W /  70W |      0MiB / 15360MiB |      0%      Default |\n",
            "|                               |                      |                  N/A |\n",
            "+-------------------------------+----------------------+----------------------+\n",
            "                                                                               \n",
            "+-----------------------------------------------------------------------------+\n",
            "| Processes:                                                                  |\n",
            "|  GPU   GI   CI        PID   Type   Process name                  GPU Memory |\n",
            "|        ID   ID                                                   Usage      |\n",
            "|=============================================================================|\n",
            "|  No running processes found                                                 |\n",
            "+-----------------------------------------------------------------------------+\n"
          ]
        }
      ],
      "source": [
        "!nvidia-smi"
      ]
    },
    {
      "cell_type": "markdown",
      "metadata": {
        "id": "bH1W6YrdjNSp"
      },
      "source": [
        "# Preparação do dataset utilizando ``TextDataset``\n",
        "\n",
        "A suite do huggingface contém funções específicas para utilização de dataset textual.\n",
        "\n",
        "O conteúdo é carregado do Google Drive, e divido em conjunto de treinamento e teste sendo que 85% do conjunto é destinado a treinamento e 15% para teste"
      ]
    },
    {
      "cell_type": "code",
      "execution_count": null,
      "metadata": {
        "colab": {
          "base_uri": "https://localhost:8080/"
        },
        "id": "5_mNwcXzB79m",
        "outputId": "a39215db-0146-43fa-8cf1-1917a1ab62d3"
      },
      "outputs": [
        {
          "output_type": "stream",
          "name": "stdout",
          "text": [
            "Mounted at /content/drive\n"
          ]
        }
      ],
      "source": [
        "from google.colab import drive\n",
        "import os\n",
        "\n",
        "drive.mount('/content/drive')"
      ]
    },
    {
      "cell_type": "code",
      "execution_count": null,
      "metadata": {
        "colab": {
          "base_uri": "https://localhost:8080/"
        },
        "id": "EeYSdGtrBhPz",
        "outputId": "3c5f1c2c-f0bb-4fd5-f16b-1e50060ff233"
      },
      "outputs": [
        {
          "output_type": "stream",
          "name": "stdout",
          "text": [
            "['Na disputa loira, Devassa levou a melhor\\n', 'Espumante quer vender como cerveja\\n', 'Cinco novas marcas de cerveja na praça\\n', 'Mea culpa, contradições & mais Devassa\\n', 'Nizan Guanaes deixa o comando da Africa\\n', 'Cade vive um clima de guerra civil\\n', 'AmBev amplia fábrica no Amazonas\\n', 'Heineken se insinua na guerra das cervejas\\n', 'Brasil ganha cerveja de mosteiro\\n', 'Correção: governo estuda correção da tabela do IRPF\\n']\n",
            "141388\n"
          ]
        }
      ],
      "source": [
        "text_file = open(\"/content/drive/MyDrive/gpt2-noticias/dataset_full_preprocessed_labeled.txt\", \"r\")\n",
        "#text_file = open(\"/content/drive/MyDrive/gpt2-noticias/dataset_pos.txt\", \"r\")\n",
        "#text_file = open(\"/content/drive/MyDrive/gpt2-noticias/dataset_neg.txt\", \"r\")\n",
        "\n",
        "lines = text_file.readlines()\n",
        "print(lines[0:10])\n",
        "print(len(lines))\n",
        "text_file.close()"
      ]
    },
    {
      "cell_type": "code",
      "execution_count": null,
      "metadata": {
        "colab": {
          "base_uri": "https://localhost:8080/"
        },
        "id": "V36gOIOfLHvB",
        "outputId": "b7625888-74c6-410f-ac97-64618e1a3546"
      },
      "outputs": [
        {
          "output_type": "stream",
          "name": "stdout",
          "text": [
            "Train dataset length: 120179\n",
            "Test dataset length: 21209\n"
          ]
        }
      ],
      "source": [
        "import re\n",
        "import json\n",
        "from sklearn.model_selection import train_test_split\n",
        "\n",
        "#with open('recipes.json') as f:\n",
        "#    data = json.load(f)\n",
        "\n",
        "def build_text_files(data_json, dest_path):\n",
        "    f = open(dest_path, 'w')\n",
        "    data = ''\n",
        "    for texts in data_json:\n",
        "        summary = str(texts).strip()\n",
        "        summary = re.sub(r\"\\s\", \" \", summary)\n",
        "        data += summary + \"  \"\n",
        "    f.write(data)\n",
        "\n",
        "train, test = train_test_split(lines,test_size=0.15)\n",
        "\n",
        "train_path = 'train_dataset.txt'\n",
        "test_path = 'test_dataset.txt'\n",
        "\n",
        "build_text_files(train,train_path)\n",
        "build_text_files(test,test_path)\n",
        "\n",
        "print(\"Train dataset length: \"+str(len(train)))\n",
        "print(\"Test dataset length: \"+ str(len(test)))"
      ]
    },
    {
      "cell_type": "markdown",
      "metadata": {
        "id": "Jg78wNnTl305"
      },
      "source": [
        "### Carregamento de tokenizador\n",
        "Para o projeto, utilizaremos o tokenizador do modelo `pierreguillou/gpt2-small-portuguese` disponível no [huggingface](https://huggingface.co/pierreguillou/gpt2-small-portuguese)."
      ]
    },
    {
      "cell_type": "code",
      "execution_count": null,
      "metadata": {
        "id": "m9lHS0mIMak4"
      },
      "outputs": [],
      "source": [
        "from transformers import TextDataset,DataCollatorForLanguageModeling\n",
        "from transformers import AutoTokenizer\n",
        "\n",
        "def load_dataset(train_path,test_path,tokenizer):\n",
        "    train_dataset = TextDataset(\n",
        "          tokenizer=tokenizer,\n",
        "          file_path=train_path,\n",
        "          block_size=128)\n",
        "\n",
        "    test_dataset = TextDataset(\n",
        "          tokenizer=tokenizer,\n",
        "          file_path=test_path,\n",
        "          block_size=128)\n",
        "\n",
        "    data_collator = DataCollatorForLanguageModeling(\n",
        "        tokenizer=tokenizer, mlm=False,\n",
        "    )\n",
        "    return train_dataset,test_dataset,data_collator\n",
        "\n"
      ]
    },
    {
      "cell_type": "code",
      "execution_count": null,
      "metadata": {
        "colab": {
          "base_uri": "https://localhost:8080/"
        },
        "id": "zJAqtMNLIqe1",
        "outputId": "69346287-a5c5-4fd7-a727-220f154441b0"
      },
      "outputs": [
        {
          "output_type": "execute_result",
          "data": {
            "text/plain": [
              "('pierreguillou/gpt2-small-portuguese',\n",
              " '/content/drive/MyDrive/gpt2-noticias/pierreguillou/gpt2-small-portuguese/')"
            ]
          },
          "metadata": {},
          "execution_count": 7
        }
      ],
      "source": [
        "start_from_epoch = False\n",
        "project_name = 'gpt2-noticias'\n",
        "\n",
        "model_name = \"pierreguillou/gpt2-small-portuguese\"\n",
        "\n",
        "model_path = '/content/drive/MyDrive/gpt2-noticias/pierreguillou/gpt2-small-portuguese/2023_10_06_1511/epoch_'+str(start_from_epoch)\n",
        "model_path = '/content/drive/MyDrive/gpt2-noticias/pierreguillou/gpt2-small-portuguese/'\n",
        "#model_path = 'H:\\My Drive/gpt2-noticias/pierreguillou/gpt2-small-portuguese/2023_10_06_1511/epoch_'+str(start_from_epoch)\n",
        "\n",
        "(model_name, model_path)"
      ]
    },
    {
      "cell_type": "code",
      "execution_count": null,
      "metadata": {
        "id": "SFy5uOlVSdZB"
      },
      "outputs": [],
      "source": [
        "if(os.path.isdir('/content/drive/MyDrive/gpt2-noticias/') == False ):\n",
        "  os.makedirs('/content/drive/MyDrive/gpt2-noticias/')"
      ]
    },
    {
      "cell_type": "code",
      "execution_count": null,
      "metadata": {
        "colab": {
          "base_uri": "https://localhost:8080/",
          "height": 232,
          "referenced_widgets": [
            "4d32e544f7504f67bb62c9f04870bf71",
            "735f3b6330bb46d6893cbd64fae236c1",
            "2bf029c8769d428b82884ba2f99ca01a",
            "8d36e1db24dd4ad5a074bf9d60645fd4",
            "aa32d651ebea48038c1e36448278c6ea",
            "3f3efa0c0d934d58a2bdcc3c9720b8b0",
            "2c037928e28e4b34bab396d7534358ef",
            "7f3ae047d5e74ef1968ce3e99b82c529",
            "4aabda273ac04e5e92f06442991c151d",
            "81aba38e2cff4f29b24bfc738a3081d5",
            "ac4644bc83864b64bc95bb73fcfa95aa",
            "0723ba08975e4cc7971014067b032aa3",
            "323a1f07e60c4b05bf65e448dd8c3f8e",
            "25df6d26ec31494bb78caabc4c0ae615",
            "a7c31625bc68449ebcf8e319751d9ce4",
            "584e28ae21964e0a894fdada58e4fc57",
            "112c3428c5e44466928074ed2cea6317",
            "60564489b3574c9f820a88336f6bfa9e",
            "8397c6b281e74749b097782eb9af1dca",
            "9781bd462c0942a3a88d8ed984f215fe",
            "4de1050752154f72b0a3aa3c93eb6dac",
            "968c10c70a5748fe9758d05bdae326d2",
            "75b59e1c872b42e4a94d12bc6f661abb",
            "a4272e5700a44ab695a4141814aec22e",
            "d2100ae9bb66484e9163b0c396bafce8",
            "a55a502145ff41c0a237857fa34b5616",
            "c53f4be15b604896ad736ade698ba690",
            "63949a269dda423bb9846d7066414900",
            "fab92313d4134de1b70c7bb047c4814e",
            "0ebcb0bf7bac4ee797f7bb405891bd95",
            "7f5767c3bece43f8989213069b18cf15",
            "a96084ae823049708f90555f47c92193",
            "b408903d7c1f454e8efeadc912d50cce",
            "4e6642cb92b84f3c84f2bc2f0487bd2f",
            "78980779dc29480aa034f1740ba120b5",
            "97e2c62d6fe14a578f96dc18fd64e511",
            "9ffd3ecedde04e9b8f692488d5b5c443",
            "52c15fe1751d4f5cbffef77856f2012c",
            "e2bb18de331241d28a75d30b4a2141b3",
            "728d3955afd24d3ca5a2bf58cc01815c",
            "2811efff7d7740ecbd18da4d339488d3",
            "fb193ead35c146c4861ef92933efc3fd",
            "be6f6aa85866431cb2573be6d36af5b8",
            "fb42e354eac744c18f6853e8b4b3ef98",
            "ff8eeb63ecc0492398796637055a37a8",
            "ac238d844a3a482a9ca6a9b894da156b",
            "7902d976410e4c0db305b13342ba9b96",
            "fb335ee33a734169bdc122ac0ed2e61b",
            "0517f19a6c704e10a89b911bbeb4ac0b",
            "1f79911a57ba42b1b425b57dfc4c6e40",
            "1d02624bfdf1412e8ca88dd5a4cb2dcf",
            "df34237fec0f46cebf25d03480096de4",
            "eba5e7a2cfe446cba8c43b6a8cf7c4fe",
            "72a55c1e45cd4b959653171d293f00e7",
            "ddad9518ed2e41f387cc159fc21b77e1"
          ]
        },
        "id": "2b8W-0d5nhev",
        "outputId": "b56d842d-c7c5-4202-c741-8a64f3b3c696"
      },
      "outputs": [
        {
          "output_type": "display_data",
          "data": {
            "text/plain": [
              "Downloading (…)okenizer_config.json:   0%|          | 0.00/92.0 [00:00<?, ?B/s]"
            ],
            "application/vnd.jupyter.widget-view+json": {
              "version_major": 2,
              "version_minor": 0,
              "model_id": "4d32e544f7504f67bb62c9f04870bf71"
            }
          },
          "metadata": {}
        },
        {
          "output_type": "display_data",
          "data": {
            "text/plain": [
              "Downloading (…)lve/main/config.json:   0%|          | 0.00/666 [00:00<?, ?B/s]"
            ],
            "application/vnd.jupyter.widget-view+json": {
              "version_major": 2,
              "version_minor": 0,
              "model_id": "0723ba08975e4cc7971014067b032aa3"
            }
          },
          "metadata": {}
        },
        {
          "output_type": "display_data",
          "data": {
            "text/plain": [
              "Downloading (…)olve/main/vocab.json:   0%|          | 0.00/850k [00:00<?, ?B/s]"
            ],
            "application/vnd.jupyter.widget-view+json": {
              "version_major": 2,
              "version_minor": 0,
              "model_id": "75b59e1c872b42e4a94d12bc6f661abb"
            }
          },
          "metadata": {}
        },
        {
          "output_type": "display_data",
          "data": {
            "text/plain": [
              "Downloading (…)olve/main/merges.txt:   0%|          | 0.00/508k [00:00<?, ?B/s]"
            ],
            "application/vnd.jupyter.widget-view+json": {
              "version_major": 2,
              "version_minor": 0,
              "model_id": "4e6642cb92b84f3c84f2bc2f0487bd2f"
            }
          },
          "metadata": {}
        },
        {
          "output_type": "display_data",
          "data": {
            "text/plain": [
              "Downloading (…)cial_tokens_map.json:   0%|          | 0.00/120 [00:00<?, ?B/s]"
            ],
            "application/vnd.jupyter.widget-view+json": {
              "version_major": 2,
              "version_minor": 0,
              "model_id": "ff8eeb63ecc0492398796637055a37a8"
            }
          },
          "metadata": {}
        },
        {
          "output_type": "stream",
          "name": "stderr",
          "text": [
            "/usr/local/lib/python3.10/dist-packages/transformers/data/datasets/language_modeling.py:53: FutureWarning: This dataset will be removed from the library soon, preprocessing should be handled with the 🤗 Datasets library. You can have a look at this example script for pointers: https://github.com/huggingface/transformers/blob/main/examples/pytorch/language-modeling/run_mlm.py\n",
            "  warnings.warn(\n"
          ]
        }
      ],
      "source": [
        "tokenizer = AutoTokenizer.from_pretrained(model_name)\n",
        "\n",
        "train_dataset,test_dataset,data_collator = load_dataset(train_path,test_path,tokenizer)"
      ]
    },
    {
      "cell_type": "markdown",
      "source": [
        "Criação de pastas para resultados."
      ],
      "metadata": {
        "id": "1RJsCMpCC98T"
      }
    },
    {
      "cell_type": "code",
      "execution_count": null,
      "metadata": {
        "colab": {
          "base_uri": "https://localhost:8080/",
          "height": 36
        },
        "id": "xr-8dFZ1lX2V",
        "outputId": "fdc32932-d915-4402-fcf6-d94c561fa496"
      },
      "outputs": [
        {
          "output_type": "execute_result",
          "data": {
            "text/plain": [
              "'/content/drive/MyDrive/gpt2-noticias/pierreguillou/gpt2-small-portuguese/2023_10_17_0001'"
            ],
            "application/vnd.google.colaboratory.intrinsic+json": {
              "type": "string"
            }
          },
          "metadata": {},
          "execution_count": 10
        }
      ],
      "source": [
        "from datetime import date\n",
        "from datetime import datetime\n",
        "\n",
        "date_str = datetime.now().strftime(\"%Y_%m_%d_%H%M\")\n",
        "\n",
        "model_drive_dir = model_path\n",
        "\n",
        "if(os.path.isdir(model_drive_dir) == False):\n",
        "  model_drive_dir = os.path.join('/content/drive/MyDrive/gpt2-noticias/', model_name)\n",
        "\n",
        "if(start_from_epoch == False):\n",
        "    model_drive_dir = os.path.join(model_drive_dir, date_str)\n",
        "model_drive_dir"
      ]
    },
    {
      "cell_type": "markdown",
      "source": [
        "A seguir, carregamos o modelo, definimos os métodos para treinamento, geração e gravação dos títulos gerados."
      ],
      "metadata": {
        "id": "yPlS33x2DPaJ"
      }
    },
    {
      "cell_type": "code",
      "execution_count": null,
      "metadata": {
        "id": "H7hhmbT2ModI"
      },
      "outputs": [],
      "source": [
        "from transformers import Trainer, TrainingArguments,AutoModelWithLMHead\n",
        "\n",
        "def load_model(model_name,model_drive_dir, data_collator, train_dataset, test_dataset):\n",
        "  model = AutoModelWithLMHead.from_pretrained(model_name)\n",
        "\n",
        "  training_args = TrainingArguments(\n",
        "      output_dir=model_drive_dir, #The output directory\n",
        "      overwrite_output_dir=True, #overwrite the content of the output directory\n",
        "      num_train_epochs=10, # number of training epochs\n",
        "      per_device_train_batch_size=32, # batch size for training\n",
        "      per_device_eval_batch_size=64,  # batch size for evaluation\n",
        "      eval_steps = 200, # Number of update steps between two evaluations.\n",
        "      save_steps=400, # after # steps model is saved\n",
        "      warmup_steps=200,# number of warmup steps for learning rate scheduler\n",
        "      prediction_loss_only=True,\n",
        "  )\n",
        "\n",
        "  return Trainer(\n",
        "      model=model,\n",
        "      args=training_args,\n",
        "      data_collator=data_collator,\n",
        "      train_dataset=train_dataset,\n",
        "      eval_dataset=test_dataset,\n",
        "  )"
      ]
    },
    {
      "cell_type": "code",
      "execution_count": null,
      "metadata": {
        "id": "Fh4Q1BR0OtDo"
      },
      "outputs": [],
      "source": [
        "from transformers import pipeline\n",
        "\n",
        "def generate_noticias(model_drive_dir, model_name, qtde_noticias = 10):\n",
        "  print(\"Gerando \"+str(qtde_noticias)+\" noticias com o modelo: \"+model_drive_dir+', tokenizer='+model_name)\n",
        "  base_str =  '  '\n",
        "  noticias = []\n",
        "\n",
        "  gerador_noticias = pipeline('text-generation', model=model_drive_dir, tokenizer=model_name)\n",
        "\n",
        "  while len(noticias) < qtde_noticias:\n",
        "    noticias_geradas = gerador_noticias(base_str)[0]['generated_text'].split('  ')\n",
        "    if(len(noticias_geradas) == 0):\n",
        "      noticias_geradas = gerador_noticias(base_str)[0]['generated_text'].split('.')\n",
        "\n",
        "    for n in noticias_geradas:\n",
        "      if(len(n.strip()) < 3):\n",
        "        continue;\n",
        "      noticias.append(n.strip());\n",
        "      print(n.strip());\n",
        "\n",
        "    base_str = noticias.pop();\n",
        "    if(len(noticias)<1):\n",
        "      break\n",
        "\n",
        "\n",
        "  return noticias"
      ]
    },
    {
      "cell_type": "code",
      "execution_count": null,
      "metadata": {
        "id": "9sAvvTSMej3Y"
      },
      "outputs": [],
      "source": [
        "def save_noticias_geradas(model_drive_dir, noticias):\n",
        "  file = open(os.path.join(model_drive_dir, 'noticias_geradas_'+date_str+'.txt'),'w+')\n",
        "\n",
        "  for n in noticias:\n",
        "    #print(n)\n",
        "    file.write(n)\n",
        "    file.write(\"\\n\")\n",
        "\n",
        "  file.close()\n",
        "\n",
        "def save_metrics(model_drive_dir, metricas):\n",
        "  file = open(os.path.join(model_drive_dir, 'metricas_'+date_str+'.txt'),'w+')\n",
        "\n",
        "  file.write(str(metricas))\n",
        "\n",
        "  file.close()"
      ]
    },
    {
      "cell_type": "markdown",
      "metadata": {
        "id": "ZyQh0jlTqR6-"
      },
      "source": [
        "## Treinamento do Modelo\n",
        "\n",
        "O modelo pode ser treinado do zero ou continuar o treinamento anterior."
      ]
    },
    {
      "cell_type": "code",
      "execution_count": null,
      "metadata": {
        "colab": {
          "base_uri": "https://localhost:8080/"
        },
        "id": "hKzGDT0tLSpa",
        "outputId": "543999cb-b02f-4099-d8d3-f5bd4a54a3c3"
      },
      "outputs": [
        {
          "output_type": "execute_result",
          "data": {
            "text/plain": [
              "('/content/drive/MyDrive/gpt2-noticias/pierreguillou/gpt2-small-portuguese/2023_10_17_0001',\n",
              " '/content/drive/MyDrive/gpt2-noticias/pierreguillou/gpt2-small-portuguese/2023_10_17_0001/epoch_0')"
            ]
          },
          "metadata": {},
          "execution_count": 14
        }
      ],
      "source": [
        "start_from_epoch=False\n",
        "if(start_from_epoch != False):\n",
        "    saved_model_drive_dir = os.path.join(model_drive_dir, 'epoch_'+str(start_from_epoch))\n",
        "else:\n",
        "    saved_model_drive_dir = os.path.join(model_drive_dir, 'epoch_0')\n",
        "\n",
        "#if(os.path.isdir(model_drive_dir) == False):\n",
        "#    saved_model_drive_dir = model_name\n",
        "\n",
        "(model_drive_dir, saved_model_drive_dir)\n"
      ]
    },
    {
      "cell_type": "code",
      "execution_count": null,
      "metadata": {
        "colab": {
          "base_uri": "https://localhost:8080/",
          "height": 104,
          "referenced_widgets": [
            "b0b4805b3b7b4803ac6a4c4bed4e3ed5",
            "3b985a2103564665a6f7ada52da2a803",
            "e32d148aa02f4e07b6727ebf5573e7a4",
            "dd7e480ef34f41579ef448ad9a90dd74",
            "c04575f47ffd4175b2d9aa51c60d160e",
            "212a05706c924f859d4d6bb9186f926d",
            "58c22e7656fe41aeba5bc7331615eb2f",
            "4dec70bc825e453489fbb0bb2a8689e2",
            "cdc0643e12d945069ea3e3903d3c67f4",
            "bee1536f2ecb4f8f9bc874a15f709805",
            "d27626df1c444508b7e5309d4da26be5"
          ]
        },
        "id": "pgFvv3aQUtLz",
        "outputId": "c7a5c05d-7578-4473-c766-5556b4585e07"
      },
      "outputs": [
        {
          "output_type": "stream",
          "name": "stderr",
          "text": [
            "/usr/local/lib/python3.10/dist-packages/transformers/models/auto/modeling_auto.py:1499: FutureWarning: The class `AutoModelWithLMHead` is deprecated and will be removed in a future version. Please use `AutoModelForCausalLM` for causal language models, `AutoModelForMaskedLM` for masked language models and `AutoModelForSeq2SeqLM` for encoder-decoder models.\n",
            "  warnings.warn(\n"
          ]
        },
        {
          "output_type": "display_data",
          "data": {
            "text/plain": [
              "Downloading pytorch_model.bin:   0%|          | 0.00/510M [00:00<?, ?B/s]"
            ],
            "application/vnd.jupyter.widget-view+json": {
              "version_major": 2,
              "version_minor": 0,
              "model_id": "b0b4805b3b7b4803ac6a4c4bed4e3ed5"
            }
          },
          "metadata": {}
        }
      ],
      "source": [
        "trainer = load_model(model_name,saved_model_drive_dir, data_collator, train_dataset, test_dataset)"
      ]
    },
    {
      "cell_type": "code",
      "execution_count": null,
      "metadata": {
        "colab": {
          "base_uri": "https://localhost:8080/",
          "height": 1000
        },
        "id": "wjIzSWPTKzBf",
        "outputId": "65f9d396-7575-48fc-e9d0-dae21a87e151"
      },
      "outputs": [
        {
          "output_type": "display_data",
          "data": {
            "text/plain": [
              "<IPython.core.display.HTML object>"
            ],
            "text/html": [
              "\n",
              "    <div>\n",
              "      \n",
              "      <progress value='4320' max='4320' style='width:300px; height:20px; vertical-align: middle;'></progress>\n",
              "      [4320/4320 1:24:14, Epoch 10/10]\n",
              "    </div>\n",
              "    <table border=\"1\" class=\"dataframe\">\n",
              "  <thead>\n",
              " <tr style=\"text-align: left;\">\n",
              "      <th>Step</th>\n",
              "      <th>Training Loss</th>\n",
              "    </tr>\n",
              "  </thead>\n",
              "  <tbody>\n",
              "    <tr>\n",
              "      <td>500</td>\n",
              "      <td>4.262400</td>\n",
              "    </tr>\n",
              "    <tr>\n",
              "      <td>1000</td>\n",
              "      <td>3.664100</td>\n",
              "    </tr>\n",
              "    <tr>\n",
              "      <td>1500</td>\n",
              "      <td>3.500900</td>\n",
              "    </tr>\n",
              "    <tr>\n",
              "      <td>2000</td>\n",
              "      <td>3.389000</td>\n",
              "    </tr>\n",
              "    <tr>\n",
              "      <td>2500</td>\n",
              "      <td>3.320400</td>\n",
              "    </tr>\n",
              "    <tr>\n",
              "      <td>3000</td>\n",
              "      <td>3.262600</td>\n",
              "    </tr>\n",
              "    <tr>\n",
              "      <td>3500</td>\n",
              "      <td>3.223100</td>\n",
              "    </tr>\n",
              "    <tr>\n",
              "      <td>4000</td>\n",
              "      <td>3.195200</td>\n",
              "    </tr>\n",
              "  </tbody>\n",
              "</table><p>"
            ]
          },
          "metadata": {}
        },
        {
          "output_type": "stream",
          "name": "stdout",
          "text": [
            "Saving model to: /content/drive/MyDrive/gpt2-noticias/pierreguillou/gpt2-small-portuguese/2023_10_17_0001/epoch_1\n"
          ]
        },
        {
          "output_type": "display_data",
          "data": {
            "text/plain": [
              "<IPython.core.display.HTML object>"
            ],
            "text/html": [
              "\n",
              "    <div>\n",
              "      \n",
              "      <progress value='38' max='38' style='width:300px; height:20px; vertical-align: middle;'></progress>\n",
              "      [38/38 00:25]\n",
              "    </div>\n",
              "    "
            ]
          },
          "metadata": {}
        },
        {
          "output_type": "stream",
          "name": "stdout",
          "text": [
            "{'eval_loss': 3.3646411895751953, 'eval_runtime': 26.7392, 'eval_samples_per_second': 90.953, 'eval_steps_per_second': 1.421, 'epoch': 10.0}\n",
            "Gerando 500 noticias com o modelo: /content/drive/MyDrive/gpt2-noticias/pierreguillou/gpt2-small-portuguese/2023_10_17_0001/epoch_1, tokenizer=pierreguillou/gpt2-small-portuguese\n"
          ]
        },
        {
          "output_type": "stream",
          "name": "stderr",
          "text": [
            "Setting `pad_token_id` to `eos_token_id`:50256 for open-end generation.\n",
            "Setting `pad_token_id` to `eos_token_id`:50256 for open-end generation.\n"
          ]
        },
        {
          "output_type": "stream",
          "name": "stdout",
          "text": [
            "Bovespa opera em queda, abaixo dos 62 mil pontos\n",
            "Presidente do Santander nega acusações de improbidade de cliente\n",
            "Ibovespa fecha pregão com alta de 3,31%, aos 55.642 pontos\n",
            "Ibovespa segue mercados\n"
          ]
        },
        {
          "output_type": "stream",
          "name": "stderr",
          "text": [
            "Setting `pad_token_id` to `eos_token_id`:50256 for open-end generation.\n"
          ]
        },
        {
          "output_type": "stream",
          "name": "stdout",
          "text": [
            "Ibovespa segue mercados externos e fecha no menor nível em mais de 4 meses\n",
            "Dólar recua pelo terceiro dia seguido e fecha em R$ 3,86\n",
            "Ibovespa abre em alta e ensaia retomar os 65 mil pontos\n"
          ]
        },
        {
          "output_type": "stream",
          "name": "stderr",
          "text": [
            "Setting `pad_token_id` to `eos_token_id`:50256 for open-end generation.\n"
          ]
        },
        {
          "output_type": "stream",
          "name": "stdout",
          "text": [
            "Ibovespa abre em alta e ensaia retomar os 65 mil pontos\n",
            "Banco do Brasil tem lucro menor no 3º tri\n",
            "Para economistas, Temer deve pedir aval do Congresso com reforma da Previdência\n",
            "Dólar opera em alta após resultado do Ibo\n"
          ]
        },
        {
          "output_type": "stream",
          "name": "stderr",
          "text": [
            "Setting `pad_token_id` to `eos_token_id`:50256 for open-end generation.\n"
          ]
        },
        {
          "output_type": "stream",
          "name": "stdout",
          "text": [
            "Dólar opera em alta após resultado do Ibovespa amenizarrential, mas tem 3º dia de desvalorização\n",
            "Juros vão ficar bem abaixo de 10% ao ano, diz secretário do Banco Central\n",
            "Receita Federal mantém prazo para restituir restitu\n"
          ]
        },
        {
          "output_type": "stream",
          "name": "stderr",
          "text": [
            "Setting `pad_token_id` to `eos_token_id`:50256 for open-end generation.\n"
          ]
        },
        {
          "output_type": "stream",
          "name": "stdout",
          "text": [
            "Receita Federal mantém prazo para restituir restituições de dinheiro vivo\n",
            "Agência do Bradesco é assaltada em Piraju\n",
            "Com PIB negativo, Brasil perde vaga no G20\n",
            "Após forte queda, Ibovespa recua; dólar tem a maior contração do\n"
          ]
        },
        {
          "output_type": "stream",
          "name": "stderr",
          "text": [
            "Setting `pad_token_id` to `eos_token_id`:50256 for open-end generation.\n"
          ]
        },
        {
          "output_type": "stream",
          "name": "stdout",
          "text": [
            "Após forte queda, Ibovespa recua; dólar tem a maior contração do ano\n",
            "Bolsa opera em alta por Petrobras e siderúrgicas\n",
            "Polícia prende suspeito de roubar agência bancária em João Pessoa\n",
            "Governo deve elevar o preço do petróleo com garantias na Terra\n"
          ]
        },
        {
          "output_type": "stream",
          "name": "stderr",
          "text": [
            "Setting `pad_token_id` to `eos_token_id`:50256 for open-end generation.\n"
          ]
        },
        {
          "output_type": "stream",
          "name": "stdout",
          "text": [
            "Governo deve elevar o preço do petróleo com garantias na Terra Rica e Brasil\n",
            "Grupo explode caixas eletrônicos em SP e furta armas no interior\n",
            "Confira 10 filmes do fim de semana que se apresentam no CCBB deste domingo\n",
            "Para leitor, eleições\n"
          ]
        },
        {
          "output_type": "stream",
          "name": "stderr",
          "text": [
            "Setting `pad_token_id` to `eos_token_id`:50256 for open-end generation.\n"
          ]
        },
        {
          "output_type": "stream",
          "name": "stdout",
          "text": [
            "Para leitor, eleições no Brasil são um bom momento e não ajudam\n",
            "Polícia prende quadrilha que desviou R$ 20 mi em caixas eletrônicos da UFPB\n",
            "Bovespa fecha em queda, pressionada por Vale e OGX\n",
            "Bolsa cai, mas\n"
          ]
        },
        {
          "output_type": "stream",
          "name": "stderr",
          "text": [
            "Setting `pad_token_id` to `eos_token_id`:50256 for open-end generation.\n"
          ]
        },
        {
          "output_type": "stream",
          "name": "stdout",
          "text": [
            "Bolsa cai, mas mercado já esperava alta de 2,6% neste ano\n",
            "Mercado espera alta menor da inflação em 2018, dizem especialistas\n",
            "Concentração não explica saída de JBS de R$ 2 bi\n",
            "Bovespa opera em leve\n"
          ]
        },
        {
          "output_type": "stream",
          "name": "stderr",
          "text": [
            "Setting `pad_token_id` to `eos_token_id`:50256 for open-end generation.\n"
          ]
        },
        {
          "output_type": "stream",
          "name": "stdout",
          "text": [
            "Bovespa opera em leve baixa após atingir maior nível desde janeiro\n",
            "Mercado eleva previsão para o PIB para 2019 de 2,3% para 1,5% para 1,5%\n",
            "Em dia instável, Bovespa fecha em alta pelo 4\n"
          ]
        },
        {
          "output_type": "stream",
          "name": "stderr",
          "text": [
            "Setting `pad_token_id` to `eos_token_id`:50256 for open-end generation.\n"
          ]
        },
        {
          "output_type": "stream",
          "name": "stdout",
          "text": [
            "Em dia instável, Bovespa fecha em alta pelo 4º pregão seguido\n",
            "Bovespa tem forte ganho e termina a semana no azul\n",
            "Bovespa recua 1% em dia de volatilidade e cautela europeia\n",
            "BDIs e Bo\n"
          ]
        },
        {
          "output_type": "stream",
          "name": "stderr",
          "text": [
            "Setting `pad_token_id` to `eos_token_id`:50256 for open-end generation.\n"
          ]
        },
        {
          "output_type": "stream",
          "name": "stdout",
          "text": [
            "BDIs e Bovespa retoma linha-dura com desvalorização\n",
            "Bovespa inverte tendência e se aproxima da estabilidade; dólar bate R$ 1,83\n",
            "Ex-chefe da Petrobras e ex-presidente Michel Temer são liberados de prisão\n"
          ]
        },
        {
          "output_type": "stream",
          "name": "stderr",
          "text": [
            "Setting `pad_token_id` to `eos_token_id`:50256 for open-end generation.\n"
          ]
        },
        {
          "output_type": "stream",
          "name": "stdout",
          "text": [
            "Ex-chefe da Petrobras e ex-presidente Michel Temer são liberados de prisão\n",
            "BB fará IPO e lucro com risco menor para o Brasil\n",
            "Acompanhe os destaques do Tem Notícias desta segunda-feira (23) em Sorocaba e Jundiaí\n"
          ]
        },
        {
          "output_type": "stream",
          "name": "stderr",
          "text": [
            "Setting `pad_token_id` to `eos_token_id`:50256 for open-end generation.\n"
          ]
        },
        {
          "output_type": "stream",
          "name": "stdout",
          "text": [
            "Acompanhe os destaques do Tem Notícias desta segunda-feira (23) em Sorocaba e Jundiaí\n",
            "Em entrevista à Folha, Dilma defende o mercado financeiro\n",
            "Dólar cai ante real após anúncio da redução da Selic\n",
            "Confira lista de empresas\n"
          ]
        },
        {
          "output_type": "stream",
          "name": "stderr",
          "text": [
            "Setting `pad_token_id` to `eos_token_id`:50256 for open-end generation.\n"
          ]
        },
        {
          "output_type": "stream",
          "name": "stdout",
          "text": [
            "Confira lista de empresas com potencial para entrar no IED de MG a partir desta quarta\n",
            "Com quase 50% dos recursos liberados, Ibovespa reabra os 72 mil pontos\n",
            "Confira a ordem para o vestibular 2019 da UCS da região\n"
          ]
        },
        {
          "output_type": "stream",
          "name": "stderr",
          "text": [
            "Setting `pad_token_id` to `eos_token_id`:50256 for open-end generation.\n"
          ]
        },
        {
          "output_type": "stream",
          "name": "stdout",
          "text": [
            "Confira a ordem para o vestibular 2019 da UCS da região de Itapetininga\n",
            "Com ajuda de bancos, bancários e comércio local, Caixa abrirá agências no RN\n",
            "Dólar bate R$ 1,66, segunda maior valor que o início de\n"
          ]
        },
        {
          "output_type": "stream",
          "name": "stderr",
          "text": [
            "Setting `pad_token_id` to `eos_token_id`:50256 for open-end generation.\n"
          ]
        },
        {
          "output_type": "stream",
          "name": "stdout",
          "text": [
            "Dólar bate R$ 1,66, segunda maior valor que o início de dezembro, com tensão política e exterior\n",
            "Ladrões arrombam agência do Banco do Brasil no Centro de Carmo\n",
            "Petrobras é o 2º país em busca de mais capital\n"
          ]
        },
        {
          "output_type": "stream",
          "name": "stderr",
          "text": [
            "Setting `pad_token_id` to `eos_token_id`:50256 for open-end generation.\n"
          ]
        },
        {
          "output_type": "stream",
          "name": "stdout",
          "text": [
            "Petrobras é o 2º país em busca de mais capital em meio à crise na BR Distribuidora\n",
            "Bovespa fecha em alta de mais de desfilou em Wall Street\n",
            "Bovespa cai com cenário externo negativo e com investidor estrangeiro no radar\n"
          ]
        },
        {
          "output_type": "stream",
          "name": "stderr",
          "text": [
            "Setting `pad_token_id` to `eos_token_id`:50256 for open-end generation.\n"
          ]
        },
        {
          "output_type": "stream",
          "name": "stdout",
          "text": [
            "Bovespa cai com cenário externo negativo e com investidor estrangeiro no radar\n",
            "Dólar opera perto da estabilidade em meio a incertezas políticas\n",
            "Justiça suspende processo de privatização da Cetip\n",
            "Brasil vai buscar proteção contra possível corte dos juros em 2013, diz\n"
          ]
        },
        {
          "output_type": "stream",
          "name": "stderr",
          "text": [
            "Setting `pad_token_id` to `eos_token_id`:50256 for open-end generation.\n"
          ]
        },
        {
          "output_type": "stream",
          "name": "stdout",
          "text": [
            "Brasil vai buscar proteção contra possível corte dos juros em 2013, diz Meirelles\n",
            "Confira cinco dicas para evitar acidentes com carros no exterior\n",
            "Bancos e lojas reabrem neste domingo com programação inédita para bancos e comércio\n",
            "Bolsa volta a fechar em alta,\n"
          ]
        },
        {
          "output_type": "stream",
          "name": "stderr",
          "text": [
            "Setting `pad_token_id` to `eos_token_id`:50256 for open-end generation.\n"
          ]
        },
        {
          "output_type": "stream",
          "name": "stdout",
          "text": [
            "Bolsa volta a fechar em alta, após cinco meses de baixa\n",
            "Bovespa vira e passa a operar em baixa nesta terça-feira\n",
            "Presidente pede ajuda no financiamento dos carros no exterior\n",
            "Dólar fecha em alta, cotado a R$\n"
          ]
        },
        {
          "output_type": "stream",
          "name": "stderr",
          "text": [
            "Setting `pad_token_id` to `eos_token_id`:50256 for open-end generation.\n"
          ]
        },
        {
          "output_type": "stream",
          "name": "stdout",
          "text": [
            "Dólar fecha em alta, cotado a R$ 4,22 após decisão do Fed\n",
            "Após ataque, agência bancária fica fechada após fogo em São Domingos do Capibaribe\n",
            "Ações da Petrobras ganham quase US$ 3 bi; ações da Vale\n"
          ]
        },
        {
          "output_type": "stream",
          "name": "stderr",
          "text": [
            "Setting `pad_token_id` to `eos_token_id`:50256 for open-end generation.\n"
          ]
        },
        {
          "output_type": "stream",
          "name": "stdout",
          "text": [
            "Ações da Petrobras ganham quase US$ 3 bi; ações da Vale salvam quase 20%\n",
            "Bovespa opera em leve queda após resultado preliminar\n",
            "Bovespa fecha em alta de 2,4% seguindo movimento externo\n",
            "Confira a previsão\n"
          ]
        },
        {
          "output_type": "stream",
          "name": "stderr",
          "text": [
            "Setting `pad_token_id` to `eos_token_id`:50256 for open-end generation.\n"
          ]
        },
        {
          "output_type": "stream",
          "name": "stdout",
          "text": [
            "Confira a previsão do tempo nas capitais dos EUA\n",
            "Bolsas dos EUA têm dia instável mas sobem com Vale e Copom\n",
            "Com economia estável, dólar fecha em queda, de olho em reunião do Fed e exterior\n",
            "Bovespa fecha em\n"
          ]
        },
        {
          "output_type": "stream",
          "name": "stderr",
          "text": [
            "Setting `pad_token_id` to `eos_token_id`:50256 for open-end generation.\n"
          ]
        },
        {
          "output_type": "stream",
          "name": "stdout",
          "text": [
            "Bovespa fecha em queda após Fed elevar meta de crescimento--analistas\n",
            "Presidente de empresa de tecnologia investe mais de R$ 120 mi em área do meio ambiente, diz jornal\n",
            "Banco Central eleva juros a 5% ao ano após pesquisa e pesquisa\n"
          ]
        },
        {
          "output_type": "stream",
          "name": "stderr",
          "text": [
            "Setting `pad_token_id` to `eos_token_id`:50256 for open-end generation.\n"
          ]
        },
        {
          "output_type": "stream",
          "name": "stdout",
          "text": [
            "Banco Central eleva juros a 5% ao ano após pesquisa e pesquisa eleitoral\n",
            "‘Estou com fome na hora certa’, diz ex-funcionária de clínica\n",
            "Bovespa tem dia de estabilidade, com ajuda de Vale e Petrobras; dólar sobe\n"
          ]
        },
        {
          "output_type": "stream",
          "name": "stderr",
          "text": [
            "Setting `pad_token_id` to `eos_token_id`:50256 for open-end generation.\n"
          ]
        },
        {
          "output_type": "stream",
          "name": "stdout",
          "text": [
            "Bovespa tem dia de estabilidade, com ajuda de Vale e Petrobras; dólar sobe\n",
            "Bolsa dispara no quarto dia, com expectativa de Previdência e alta de juros no mercado de capitais\n",
            "Banco Central mantém estímulos e reduz previsão de crescimento para 2019\n",
            "Veja\n"
          ]
        },
        {
          "output_type": "stream",
          "name": "stderr",
          "text": [
            "Setting `pad_token_id` to `eos_token_id`:50256 for open-end generation.\n"
          ]
        },
        {
          "output_type": "stream",
          "name": "stdout",
          "text": [
            "Veja e debate com os escritores\n",
            "Dólar fecha em queda por temor sobre Europa e EUA; Bolsa sobe\n",
            "Mercado de trabalho brasileiro é negativo em abril de 2015 após duas vezes seguidas\n",
            "‘O país que eu quero é o do mercado’\n",
            "Com\n"
          ]
        },
        {
          "output_type": "stream",
          "name": "stderr",
          "text": [
            "Setting `pad_token_id` to `eos_token_id`:50256 for open-end generation.\n"
          ]
        },
        {
          "output_type": "stream",
          "name": "stdout",
          "text": [
            "Com sobrevida, Ambev muda estratégia para aumentar rentabilidade\n",
            "Bovespa sobe quase 5% em dia de vencimento de opções\n",
            "Dólar fecha em queda pelo 4º pregão seguido com cenário político no radar\n",
            "Bovespa atinge maior nível\n"
          ]
        },
        {
          "output_type": "stream",
          "name": "stderr",
          "text": [
            "Setting `pad_token_id` to `eos_token_id`:50256 for open-end generation.\n"
          ]
        },
        {
          "output_type": "stream",
          "name": "stdout",
          "text": [
            "Bovespa atinge maior nível em quase 48 meses; dólar sobe\n",
            "Brasil começa a crescer menos de 2% neste mês, mostra BC\n",
            "Bovespa opera em baixa nesta quinta\n",
            "Lucro dos bancos brasileiros cresce 29%\n",
            "Governo cria fundos para\n"
          ]
        },
        {
          "output_type": "stream",
          "name": "stderr",
          "text": [
            "Setting `pad_token_id` to `eos_token_id`:50256 for open-end generation.\n"
          ]
        },
        {
          "output_type": "stream",
          "name": "stdout",
          "text": [
            "Governo cria fundos para a formação de profissionais\n",
            "Bancos terão de pagar juros altos em até 16 anos\n",
            "Concessionárias buscam solução para crise da saúde e educação\n",
            "Veja como é produzido o queijo da moradora Santa Rita\n",
            "Bolsas dos EUA\n"
          ]
        },
        {
          "output_type": "stream",
          "name": "stderr",
          "text": [
            "Setting `pad_token_id` to `eos_token_id`:50256 for open-end generation.\n"
          ]
        },
        {
          "output_type": "stream",
          "name": "stdout",
          "text": [
            "Bolsas dos EUA fecham em alta com mercado à espera de decisão do Fed\n",
            "Itaú BBA lidera ranking de marcas com melhor lucro\n",
            "Dólar fecha em queda no 1º dia após duas oscilações consecutivas\n",
            "Após anúncio de rebaixamento da nota, bolsas\n"
          ]
        },
        {
          "output_type": "stream",
          "name": "stderr",
          "text": [
            "Setting `pad_token_id` to `eos_token_id`:50256 for open-end generation.\n"
          ]
        },
        {
          "output_type": "stream",
          "name": "stdout",
          "text": [
            "Após anúncio de rebaixamento da nota, bolsas fecham estáveis\n",
            "Bovespa opera com baixa na abertura da semana\n",
            "‘Oferta em dólares é uma boa indicação para o Brasil’\n",
            "Itaú e Santander lideram alta da Ibovespa em dia\n"
          ]
        },
        {
          "output_type": "stream",
          "name": "stderr",
          "text": [
            "Setting `pad_token_id` to `eos_token_id`:50256 for open-end generation.\n"
          ]
        },
        {
          "output_type": "stream",
          "name": "stdout",
          "text": [
            "Itaú e Santander lideram alta da Ibovespa em dia de ganhos; Petrobras e Petrobras têm baixas\n",
            "Criminosos explodem caixas eletrônicos em São Francisco, SP, e levam dinheiro\n",
            "Ibovespa fecha em alta de 1,43%\n"
          ]
        },
        {
          "output_type": "stream",
          "name": "stderr",
          "text": [
            "Setting `pad_token_id` to `eos_token_id`:50256 for open-end generation.\n"
          ]
        },
        {
          "output_type": "stream",
          "name": "stdout",
          "text": [
            "Ibovespa fecha em alta de 1,43%\n",
            "Lucro do Bradesco cresce 15,4% no 4º trimestre\n",
            "Após atingir menor nível em seis anos de administração da Petrobrás, Bolsa cai 1,2% e encosta na 109 mil\n"
          ]
        },
        {
          "output_type": "stream",
          "name": "stderr",
          "text": [
            "Setting `pad_token_id` to `eos_token_id`:50256 for open-end generation.\n"
          ]
        },
        {
          "output_type": "stream",
          "name": "stdout",
          "text": [
            "Após atingir menor nível em seis anos de administração da Petrobrás, Bolsa cai 1,2% e encosta na 109 mil pontos\n",
            "Banco Mundial confirma doações a microempresários do Haiti\n",
            "Para analistas, mercado financeiro pode perder mercado emergente de investimento\n",
            "Governo já\n"
          ]
        },
        {
          "output_type": "stream",
          "name": "stderr",
          "text": [
            "Setting `pad_token_id` to `eos_token_id`:50256 for open-end generation.\n"
          ]
        },
        {
          "output_type": "stream",
          "name": "stdout",
          "text": [
            "Governo já estuda processar o Tesouro para evitar o rebaixamento\n",
            "Banco Mundial anuncia corte no financiamento de educação para escolas públicas de todo o mundo\n",
            "Bolsonaro diz que economia brasileira ficará ainda mais dependente do exterior\n",
            "Após 1 ano, Itaú de Minas anuncia novo sistema\n"
          ]
        },
        {
          "output_type": "stream",
          "name": "stderr",
          "text": [
            "Setting `pad_token_id` to `eos_token_id`:50256 for open-end generation.\n"
          ]
        },
        {
          "output_type": "stream",
          "name": "stdout",
          "text": [
            "Após 1 ano, Itaú de Minas anuncia novo sistema de pagamento em crédito\n",
            "Ações da Petrobras sobem e puxam Ibovespa para cima\n",
            "Governo federal cobra que BB deixe Brasil ser sede de novo banco\n",
            "BB pode tirar concessão de linhas de crédito\n"
          ]
        },
        {
          "output_type": "stream",
          "name": "stderr",
          "text": [
            "Setting `pad_token_id` to `eos_token_id`:50256 for open-end generation.\n"
          ]
        },
        {
          "output_type": "stream",
          "name": "stdout",
          "text": [
            "BB pode tirar concessão de linhas de crédito em leilão até 4 de março\n",
            "Bovespa opera estável em dia de forte volume com foco nos EUA\n",
            "Ibovespa opera em leve alta, após subir mais de 2% na véspera\n",
            "Dólar cai\n"
          ]
        },
        {
          "output_type": "stream",
          "name": "stderr",
          "text": [
            "Setting `pad_token_id` to `eos_token_id`:50256 for open-end generation.\n"
          ]
        },
        {
          "output_type": "stream",
          "name": "stdout",
          "text": [
            "Dólar cai a R$ 3,22 com dados da China, mas fecha no menor nível em quase um mês\n",
            "Dilma culpa Petrobras para queda do Brasil\n",
            "BCE reduz nota do Brasil e diz que não seguiria risco de alta\n",
            "Com dólar\n"
          ]
        },
        {
          "output_type": "stream",
          "name": "stderr",
          "text": [
            "Setting `pad_token_id` to `eos_token_id`:50256 for open-end generation.\n"
          ]
        },
        {
          "output_type": "stream",
          "name": "stdout",
          "text": [
            "Com dólar cai 0,6%\n",
            "Governo começa a anunciar o primeiro lote de restituição do IR hoje\n",
            "Ex-diretor de banco será chefe de banco privado no governo Temer\n",
            "Bovespa recua 1,8% após atuação do BC no câmbio\n"
          ]
        },
        {
          "output_type": "stream",
          "name": "stderr",
          "text": [
            "Setting `pad_token_id` to `eos_token_id`:50256 for open-end generation.\n"
          ]
        },
        {
          "output_type": "stream",
          "name": "stdout",
          "text": [
            "Bovespa recua 1,8% após atuação do BC no câmbio\n",
            "Após denúncia anônima, PF investiga se Temer é presidente da Venezuela\n",
            "BB faz acordo para vender ativos até julho 2012\n",
            "Governo Assim como o dinheiro para o fundo de pensão\n",
            "Ibo\n"
          ]
        },
        {
          "output_type": "stream",
          "name": "stderr",
          "text": [
            "Setting `pad_token_id` to `eos_token_id`:50256 for open-end generation.\n"
          ]
        },
        {
          "output_type": "stream",
          "name": "stdout",
          "text": [
            "Ibovespa abre março em baixa; dólar marca R$ 1,69\n",
            "Mercado baixa expectativa para PIB de 7,4% este ano, mas não descarta bolha\n",
            "Prepare-se para domingo para debate do livro The Economist,\n"
          ]
        },
        {
          "output_type": "stream",
          "name": "stderr",
          "text": [
            "Setting `pad_token_id` to `eos_token_id`:50256 for open-end generation.\n"
          ]
        },
        {
          "output_type": "stream",
          "name": "stdout",
          "text": [
            "Prepare-se para domingo para debate do livro The Economist, que vai até domingo\n",
            "Presidente do BC diz que há risco de volatilidade na economia brasileira\n",
            "Polícia encontra caixas de banco em Paraty, PA\n",
            "Com economia estável, dólar fecha\n"
          ]
        },
        {
          "output_type": "stream",
          "name": "stderr",
          "text": [
            "Setting `pad_token_id` to `eos_token_id`:50256 for open-end generation.\n"
          ]
        },
        {
          "output_type": "stream",
          "name": "stdout",
          "text": [
            "Com economia estável, dólar fecha em alta\n",
            "Dólar fecha em alta e atinge maior patamar desde novembro de 2018\n",
            "Reação de ministros ao impeachment é insaciável, diz José Serra\n",
            "Banco Cruzeiro do Sul pode virar sócio em cartão\n",
            "Brasil\n"
          ]
        },
        {
          "output_type": "stream",
          "name": "stderr",
          "text": [
            "Setting `pad_token_id` to `eos_token_id`:50256 for open-end generation.\n"
          ]
        },
        {
          "output_type": "stream",
          "name": "stdout",
          "text": [
            "Brasil por medo de inflação baixa\n",
            "Dólar vale R$ 1,66 e Bolsa tem recuperação a espera de acordo sobre juros nos EUA\n",
            "Bovespa fecha no menor nível em 5 meses e acumula perda de 7% neste ano\n",
            "Banco Central compra\n"
          ]
        },
        {
          "output_type": "stream",
          "name": "stderr",
          "text": [
            "Setting `pad_token_id` to `eos_token_id`:50256 for open-end generation.\n"
          ]
        },
        {
          "output_type": "stream",
          "name": "stdout",
          "text": [
            "Banco Central compra US$ 698 mi do Itaú Unibanco\n",
            "Após ter 3 meses, pacientes podem doar sangue há 3 meses\n",
            "Confira como participar do festival Tomorrowland\n",
            "Justiça bloqueia R$ 660 milhões que poupariam a família de\n"
          ]
        },
        {
          "output_type": "stream",
          "name": "stderr",
          "text": [
            "Setting `pad_token_id` to `eos_token_id`:50256 for open-end generation.\n"
          ]
        },
        {
          "output_type": "stream",
          "name": "stdout",
          "text": [
            "Justiça bloqueia R$ 660 milhões que poupariam a família de Colombo\n",
            "Banco do Brasil é alvo de ação por suspeita de fraude\n",
            "Após 11 dias de queda, mais de 6 milhão de trabalhadores ainda não retiraram R$ 740 bi do\n"
          ]
        },
        {
          "output_type": "stream",
          "name": "stderr",
          "text": [
            "Setting `pad_token_id` to `eos_token_id`:50256 for open-end generation.\n"
          ]
        },
        {
          "output_type": "stream",
          "name": "stdout",
          "text": [
            "Após 11 dias de queda, mais de 6 milhão de trabalhadores ainda não retiraram R$ 740 bi do Imposto de Renda\n",
            "Dinheiro feito como garantia é dinheiro vivo, diz Receita\n",
            "Ibovespa fecha pregão com alta de 1,41%,\n"
          ]
        },
        {
          "output_type": "stream",
          "name": "stderr",
          "text": [
            "Setting `pad_token_id` to `eos_token_id`:50256 for open-end generation.\n"
          ]
        },
        {
          "output_type": "stream",
          "name": "stdout",
          "text": [
            "Ibovespa fecha pregão com alta de 1,41%, aos 66.415 pontos\n",
            "Bolsa de São Paulo: Ibovespa abre em queda de 1,14%\n",
            "Bovespa fecha em alta após atuação do Banco Central\n"
          ]
        },
        {
          "output_type": "stream",
          "name": "stderr",
          "text": [
            "Setting `pad_token_id` to `eos_token_id`:50256 for open-end generation.\n"
          ]
        },
        {
          "output_type": "stream",
          "name": "stdout",
          "text": [
            "Bovespa fecha em alta após atuação do Banco Central\n",
            "Presidente da Cúpula do Trabalhador de Teresina fala sobre os desafios dos pequenos empresários\n",
            "Confira os prêmios vencidos pelo Festival Brasil de Cinema de Brasília\n",
            "Mais 7.000 ainda não sacaram\n"
          ]
        },
        {
          "output_type": "stream",
          "name": "stderr",
          "text": [
            "Setting `pad_token_id` to `eos_token_id`:50256 for open-end generation.\n"
          ]
        },
        {
          "output_type": "stream",
          "name": "stdout",
          "text": [
            "Mais 7.000 ainda não sacaram abono salarial de 2020\n",
            "BB vai investir R$ 17 bi com a Caixa na Região Sul\n",
            "Banco do Brasil prevê queda de 2,7% do PIB no segundo trimestre de 2019\n",
            "Com crise econômica,\n"
          ]
        },
        {
          "output_type": "stream",
          "name": "stderr",
          "text": [
            "Setting `pad_token_id` to `eos_token_id`:50256 for open-end generation.\n"
          ]
        },
        {
          "output_type": "stream",
          "name": "stdout",
          "text": [
            "Com crise econômica, empresas esperam que governo não reabre a dívida\n",
            "Itaú não quer mudar câmbio com ações para estimular mercado de crédito\n",
            "Dilma fala de crescimento para tentar manter prestígio\n",
            "Bovespa opera em alta; ações do BB, Itaú e Ci\n"
          ]
        },
        {
          "output_type": "stream",
          "name": "stderr",
          "text": [
            "Setting `pad_token_id` to `eos_token_id`:50256 for open-end generation.\n"
          ]
        },
        {
          "output_type": "stream",
          "name": "stdout",
          "text": [
            "Bovespa opera em alta; ações do BB, Itaú e Cielo sobem 4,6%\n",
            "Bolsa sobe amparada pelo mercado internacional; dólar recua por pressão de balanços\n",
            "Governo e STF decidem manter prisão preventiva de Pizzolato\n"
          ]
        },
        {
          "output_type": "stream",
          "name": "stderr",
          "text": [
            "Setting `pad_token_id` to `eos_token_id`:50256 for open-end generation.\n"
          ]
        },
        {
          "output_type": "stream",
          "name": "stdout",
          "text": [
            "Governo e STF decidem manter prisão preventiva de Pizzolato\n",
            "Governo amplia bloqueio às empresas por meio de dados sigilosos\n",
            "Bovespa opera perto da estabilidade; dólar avança a R$ 1,692\n",
            "Justiça Eleitoral libera R$\n"
          ]
        },
        {
          "output_type": "stream",
          "name": "stderr",
          "text": [
            "Setting `pad_token_id` to `eos_token_id`:50256 for open-end generation.\n"
          ]
        },
        {
          "output_type": "stream",
          "name": "stdout",
          "text": [
            "Justiça Eleitoral libera R$ 2,7 bi para presos presos e procuradores da Operação da República\n",
            "Bandidos explodem caixas de banco e prendem vigilantes na Serra do RS\n",
            "Bovespa sobe 6,2% na abertura; dólar bate\n"
          ]
        },
        {
          "output_type": "stream",
          "name": "stderr",
          "text": [
            "Setting `pad_token_id` to `eos_token_id`:50256 for open-end generation.\n"
          ]
        },
        {
          "output_type": "stream",
          "name": "stdout",
          "text": [
            "Bovespa sobe 6,2% na abertura; dólar bate R$ 1,70\n",
            "O que vai saber se as eleições são válidas na Argentina?\n",
            "Brigagem de dois carros é uma espécie de roubo milionário, diz polícia argentino\n",
            "Veja\n"
          ]
        },
        {
          "output_type": "stream",
          "name": "stderr",
          "text": [
            "Setting `pad_token_id` to `eos_token_id`:50256 for open-end generation.\n"
          ]
        },
        {
          "output_type": "stream",
          "name": "stdout",
          "text": [
            "Veja de histórias e obras que marcaram a vida de um dos melhores pintores portugueses 1986\n",
            "Agência bancária localiza explosivo usado em assalto a banco no RN\n",
            "Bovespa opera em alta nos primeiros negócios; dólar vale R$ 1,76\n",
            "FGV premia\n"
          ]
        },
        {
          "output_type": "stream",
          "name": "stderr",
          "text": [
            "Setting `pad_token_id` to `eos_token_id`:50256 for open-end generation.\n"
          ]
        },
        {
          "output_type": "stream",
          "name": "stdout",
          "text": [
            "FGV premia 10 projetos nacionais para jovens empresários\n",
            "Bancos começam a oferecer serviços via internet\n",
            "Bolsa de São Paulo fecha em alta de 0,51%\n",
            "Bovespa opera em alta, mas segue abaixo dos 70 mil pontos\n",
            "Bovespa\n"
          ]
        },
        {
          "output_type": "stream",
          "name": "stderr",
          "text": [
            "Setting `pad_token_id` to `eos_token_id`:50256 for open-end generation.\n"
          ]
        },
        {
          "output_type": "stream",
          "name": "stdout",
          "text": [
            "Bovespa fecha em leve alta nesta sexta-feira\n",
            "Ex-diretor do BB é preso após receber R$ 4,8 mi de propinas de campanhas\n",
            "Caixa eletrônico em Itaí é arrombado pela PM com maçarico durante manifestação\n"
          ]
        },
        {
          "output_type": "stream",
          "name": "stderr",
          "text": [
            "Setting `pad_token_id` to `eos_token_id`:50256 for open-end generation.\n"
          ]
        },
        {
          "output_type": "stream",
          "name": "stdout",
          "text": [
            "Caixa eletrônico em Itaí é arrombado pela PM com maçarico durante manifestação\n",
            "O governo do Brasil está perdendo dinheiro, diz especialista\n",
            "Ibovespa segue mau humor externo e cai para 61.488 pontos\n",
            "Confira a repercussão\n"
          ]
        },
        {
          "output_type": "stream",
          "name": "stderr",
          "text": [
            "Setting `pad_token_id` to `eos_token_id`:50256 for open-end generation.\n"
          ]
        },
        {
          "output_type": "stream",
          "name": "stdout",
          "text": [
            "Confira a repercussão da denúncia pela PF do Banco do Brasil em Pernambuco\n",
            "Petrobras tem lucro 7,1% maior do que o esperado nos últimos 5 anos\n",
            "Receita paga hoje o lote de restituições do IR 2007\n",
            "Conexão de varejo: Bo\n"
          ]
        },
        {
          "output_type": "stream",
          "name": "stderr",
          "text": [
            "Setting `pad_token_id` to `eos_token_id`:50256 for open-end generation.\n"
          ]
        },
        {
          "output_type": "stream",
          "name": "stdout",
          "text": [
            "Conexão de varejo: Bovespa opera instável no pregão pregão de terça-feira\n",
            "Após ter sido investigada por lavagem de dinheiro\n",
            "Dólar cai 1% e fecha a R$ 3,21 após BC dos EUA sinal\n"
          ]
        },
        {
          "output_type": "stream",
          "name": "stderr",
          "text": [
            "Setting `pad_token_id` to `eos_token_id`:50256 for open-end generation.\n"
          ]
        },
        {
          "output_type": "stream",
          "name": "stdout",
          "text": [
            "Dólar cai 1% e fecha a R$ 3,21 após BC dos EUA sinalizar intervenção cambial\n",
            "Mercado reduz perspectiva do PIB da China e mostra desaceleração esperada de 1,4% para este ano\n",
            "Bovespa opera com valorização\n"
          ]
        },
        {
          "output_type": "stream",
          "name": "stderr",
          "text": [
            "Setting `pad_token_id` to `eos_token_id`:50256 for open-end generation.\n"
          ]
        },
        {
          "output_type": "stream",
          "name": "stdout",
          "text": [
            "Bovespa opera com valorização e bate a maior patamar de junho desde agosto\n",
            "Dólar tem queda acentuada; Vale pesa, mas Bovespa avança\n",
            "Veja como doar para as escolas na região de Itapetininga: veja quem doar\n",
            "Dólar fecha\n"
          ]
        },
        {
          "output_type": "stream",
          "name": "stderr",
          "text": [
            "Setting `pad_token_id` to `eos_token_id`:50256 for open-end generation.\n"
          ]
        },
        {
          "output_type": "stream",
          "name": "stdout",
          "text": [
            "Dólar fecha abaixo de R$ 3,10 após feriado; Bolsa sobe com noticiário internacional\n",
            "BC afirma que houve saída de confiança em mercado financeiro pela saída de Eike\n",
            "Bancos começam semana com mais de 7 mil funcionários em greve\n",
            "Com alta\n"
          ]
        },
        {
          "output_type": "stream",
          "name": "stderr",
          "text": [
            "Setting `pad_token_id` to `eos_token_id`:50256 for open-end generation.\n"
          ]
        },
        {
          "output_type": "stream",
          "name": "stdout",
          "text": [
            "Com alta de 0,7% na última sessão, Bovespa fecha acima dos 62 mil pontos\n",
            "Bovespa fecha em queda, de olho em cenário externo e eleições\n",
            "Moradores de cidades do sul da Bahia comemoram vitória do governo em\n"
          ]
        },
        {
          "output_type": "stream",
          "name": "stderr",
          "text": [
            "Setting `pad_token_id` to `eos_token_id`:50256 for open-end generation.\n"
          ]
        },
        {
          "output_type": "stream",
          "name": "stdout",
          "text": [
            "Moradores de cidades do sul da Bahia comemoram vitória do governo em 2018\n",
            "Confira o horário de funcionamento dos bancos em Aracaju\n",
            "Dólar fecha em alta de 0,86% nesta quarta-feira\n",
            "Bovespa tem a maior queda anual\n"
          ]
        },
        {
          "output_type": "stream",
          "name": "stderr",
          "text": [
            "Setting `pad_token_id` to `eos_token_id`:50256 for open-end generation.\n"
          ]
        },
        {
          "output_type": "stream",
          "name": "stdout",
          "text": [
            "Bovespa tem a maior queda anual em quase 3 Savage e de índice em alta\n",
            "Saiba a previsão do tempo para o final do mês neste domingo em Manaus\n",
            "Bolsa e dólar fecham praticamente estáveis nesta quarta-feira\n",
            "Com alta de 19\n"
          ]
        },
        {
          "output_type": "stream",
          "name": "stderr",
          "text": [
            "Setting `pad_token_id` to `eos_token_id`:50256 for open-end generation.\n"
          ]
        },
        {
          "output_type": "stream",
          "name": "stdout",
          "text": [
            "Com alta de 19% no 1º semestre, Bovespa sobe na bolsa; dólar cede para R$ 1,71\n",
            "Bolsa tem 4ª alta seguida após alta de quase 9% do PIB dos EUA\n",
            "Dólar volta a cair\n",
            "Dilma\n"
          ]
        },
        {
          "output_type": "stream",
          "name": "stderr",
          "text": [
            "Setting `pad_token_id` to `eos_token_id`:50256 for open-end generation.\n"
          ]
        },
        {
          "output_type": "stream",
          "name": "stdout",
          "text": [
            "Dilma e Bovespa fecha em alta, puxada por Vale e Petrobras\n",
            "Bancos de leite começam a regularizar doação de sangue em Belém\n",
            "Governo Temer e o Banco Central fazem agenda de negócios antes do Carnaval\n",
            "Ibovespa fecha\n"
          ]
        },
        {
          "output_type": "stream",
          "name": "stderr",
          "text": [
            "Setting `pad_token_id` to `eos_token_id`:50256 for open-end generation.\n"
          ]
        },
        {
          "output_type": "stream",
          "name": "stdout",
          "text": [
            "Ibovespa fecha em alta\n",
            "Bancos terão de mudar rotina para evitar fraude, diz estudo\n",
            "Ladrões usam arma e bomba em tentativa de furto com reféns no Ceará\n",
            "Em meio à crise, Brasil tenta reabraçar suas economias\n"
          ]
        },
        {
          "output_type": "stream",
          "name": "stderr",
          "text": [
            "Setting `pad_token_id` to `eos_token_id`:50256 for open-end generation.\n"
          ]
        },
        {
          "output_type": "stream",
          "name": "stdout",
          "text": [
            "Em meio à crise, Brasil tenta reabraçar suas economias\n",
            "Presidente da Febraban admite falta de negociação com sindicato\n",
            "Bolsa cai 2% e dólar recua pressionada por Vale e Bovespa vira. Jornais de quarta (23)\n"
          ]
        },
        {
          "output_type": "stream",
          "name": "stderr",
          "text": [
            "Setting `pad_token_id` to `eos_token_id`:50256 for open-end generation.\n"
          ]
        },
        {
          "output_type": "stream",
          "name": "stdout",
          "text": [
            "Bolsa cai 2% e dólar recua pressionada por Vale e Bovespa vira. Jornais de quarta (23)\n",
            "Justiça manda evitar bloqueio de R$ 5 bi de contas do presidente do BC\n",
            "Ações da Petrobras caem quase 4%\n"
          ]
        },
        {
          "output_type": "stream",
          "name": "stderr",
          "text": [
            "Setting `pad_token_id` to `eos_token_id`:50256 for open-end generation.\n"
          ]
        },
        {
          "output_type": "stream",
          "name": "stdout",
          "text": [
            "Ações da Petrobras caem quase 4% na reviravolta do Ibovespa no 1º semestre\n",
            "Bovespa opera instável após declarações de Bernanke\n",
            "Refilmagem de Jorge Benjor, musical de Deborah Secco e Maria Bethânia, mostra história\n"
          ]
        },
        {
          "output_type": "stream",
          "name": "stderr",
          "text": [
            "Setting `pad_token_id` to `eos_token_id`:50256 for open-end generation.\n"
          ]
        },
        {
          "output_type": "stream",
          "name": "stdout",
          "text": [
            "Refilmagem de Jorge Benjor, musical de Deborah Secco e Maria Bethânia, mostra história de amor pelo Brasil\n",
            "Bolsa tem leve alta com bom humor externo; Petrobras bate recorde\n",
            "Dólar opera em alta após intervenção da Fazenda; Eletrobras se\n"
          ]
        },
        {
          "output_type": "stream",
          "name": "stderr",
          "text": [
            "Setting `pad_token_id` to `eos_token_id`:50256 for open-end generation.\n"
          ]
        },
        {
          "output_type": "stream",
          "name": "stdout",
          "text": [
            "Dólar opera em alta após intervenção da Fazenda; Eletrobras se afasta da venda\n",
            "Governo anuncia nova meta fiscal para 2016\n",
            "Quadrilha explode caixa eletrônico em Santo Antônio do Tacuarembó, no sudeste do Estado\n",
            "Polícia prende suspeito de usar\n"
          ]
        },
        {
          "output_type": "stream",
          "name": "stderr",
          "text": [
            "Setting `pad_token_id` to `eos_token_id`:50256 for open-end generation.\n"
          ]
        },
        {
          "output_type": "stream",
          "name": "stdout",
          "text": [
            "Polícia prende suspeito de usar maçarico para assaltar banco em SP\n",
            "Presidente do BC diz quendida mudança na taxa Selic deixa dúvida sobre inflação\n",
            "Ibovespa segue no campo negativo, com mercado atento à Grécia\n",
            "FHC diz que\n"
          ]
        },
        {
          "output_type": "stream",
          "name": "stderr",
          "text": [
            "Setting `pad_token_id` to `eos_token_id`:50256 for open-end generation.\n"
          ]
        },
        {
          "output_type": "stream",
          "name": "stdout",
          "text": [
            "FHC diz que não está perdendo a tranquilidade com juros caírem no Brasil\n",
            "Veja o que abre e o que fecha no feriado de feriado nacional no Rio\n",
            "Confira programação completa para o aniversário de Itaí\n",
            "Conheça os desafios de quem\n"
          ]
        },
        {
          "output_type": "stream",
          "name": "stderr",
          "text": [
            "Setting `pad_token_id` to `eos_token_id`:50256 for open-end generation.\n"
          ]
        },
        {
          "output_type": "stream",
          "name": "stdout",
          "text": [
            "Conheça os desafios de quem deve presidir o Banco Mundial\n",
            "Ibovespa recua 3,5% com piora em exterior e nos negócios; dólar recua\n",
            "BB Seguridade oferece empréstimo de R$ 25 por R$ 10 ao BB; veja\n"
          ]
        },
        {
          "output_type": "stream",
          "name": "stderr",
          "text": [
            "Setting `pad_token_id` to `eos_token_id`:50256 for open-end generation.\n"
          ]
        },
        {
          "output_type": "stream",
          "name": "stdout",
          "text": [
            "BB Seguridade oferece empréstimo de R$ 25 por R$ 10 ao BB; veja preços\n",
            "Dólar opera instável e chega a cair a R$ 3,13 nesta terça-feira\n",
            "Bovespa fecha em alta, seguindo cenário externo e\n"
          ]
        },
        {
          "output_type": "stream",
          "name": "stderr",
          "text": [
            "Setting `pad_token_id` to `eos_token_id`:50256 for open-end generation.\n"
          ]
        },
        {
          "output_type": "stream",
          "name": "stdout",
          "text": [
            "Bovespa fecha em alta, seguindo cenário externo e exterior\n",
            "Após crise de 2008, Dilma deixa cargo para assumir ministério\n",
            "Com ajuda do PT, PMDB toma posse da Câmara de Itu e promete apoio da base\n",
            "Bovespa cai com Vale e\n"
          ]
        },
        {
          "output_type": "stream",
          "name": "stderr",
          "text": [
            "Setting `pad_token_id` to `eos_token_id`:50256 for open-end generation.\n"
          ]
        },
        {
          "output_type": "stream",
          "name": "stdout",
          "text": [
            "Bovespa cai com Vale e incerteza sobre China; dólar cai perto da estabilidade\n",
            "Bandidos invadem e atacam agência do Banco do Brasil em Araguari\n",
            "Com Petrobras, Mantega diz que reforma deve evitar recessão\n",
            "Bandidos atacam agência bancária, trocam\n"
          ]
        },
        {
          "output_type": "stream",
          "name": "stderr",
          "text": [
            "Setting `pad_token_id` to `eos_token_id`:50256 for open-end generation.\n"
          ]
        },
        {
          "output_type": "stream",
          "name": "stdout",
          "text": [
            "Bandidos atacam agência bancária, trocam tiros com a polícia e fogem do local\n",
            "Falha em sistema deixa moradores sem água em Itu\n",
            "Ações da Petrobras caem 10% e Bovespa cai mais de 2%\n",
            "O Banco do Brasil não é\n"
          ]
        },
        {
          "output_type": "stream",
          "name": "stderr",
          "text": [
            "Setting `pad_token_id` to `eos_token_id`:50256 for open-end generation.\n"
          ]
        },
        {
          "output_type": "stream",
          "name": "stdout",
          "text": [
            "O Banco do Brasil não é mais o banco que controla\n",
            "Itaú Unibanco anuncia plano de crédito para a Caixa e para a Caixa Seguros\n",
            "Após assalto, banco em Jaboatão é controlado por quadrilha\n",
            "Ações da Vale despencam e Boves\n"
          ]
        },
        {
          "output_type": "stream",
          "name": "stderr",
          "text": [
            "Setting `pad_token_id` to `eos_token_id`:50256 for open-end generation.\n"
          ]
        },
        {
          "output_type": "stream",
          "name": "stdout",
          "text": [
            "Ações da Vale despencam e Bovespa encerra em queda, puxada por ações da Vale\n",
            "Banco do Brasil e Caixa têm parceria de R$ 7,9 bilhões\n",
            "Commodities e cenário externo afetam ações da Vale\n",
            "Aplica\n"
          ]
        },
        {
          "output_type": "stream",
          "name": "stderr",
          "text": [
            "Setting `pad_token_id` to `eos_token_id`:50256 for open-end generation.\n"
          ]
        },
        {
          "output_type": "stream",
          "name": "stdout",
          "text": [
            "Aplicativo de educação financeira no Brasil\n",
            "Bovespa fecha em queda após dados dos EUA\n",
            "Agência do Banco do Brasil é arrombada no Centro de Natal (RN)\n",
            "Criminosos explodem agência do Banco do Brasil no Centro de Rio\n"
          ]
        },
        {
          "output_type": "stream",
          "name": "stderr",
          "text": [
            "Setting `pad_token_id` to `eos_token_id`:50256 for open-end generation.\n"
          ]
        },
        {
          "output_type": "stream",
          "name": "stdout",
          "text": [
            "Criminosos explodem agência do Banco do Brasil no Centro de Rio Branco\n",
            "Justiça suspende a matrícula de alunos com deficiência em creches em SP\n",
            "FHC admite que reforma da Previdência não é urgente e aponta a eventual retomada\n",
            "Em dia morno\n"
          ]
        },
        {
          "output_type": "stream",
          "name": "stderr",
          "text": [
            "Setting `pad_token_id` to `eos_token_id`:50256 for open-end generation.\n"
          ]
        },
        {
          "output_type": "stream",
          "name": "stdout",
          "text": [
            "Em dia morno, Bovespa recua e dólar volta a bater R$ 1,67\n",
            "JBS diz que irá recorrer de decisão sobre venda de ativos em leilão\n",
            "BC tem de se ajustar, diz Meirelles\n",
            "Bovespa opera em alta\n"
          ]
        },
        {
          "output_type": "stream",
          "name": "stderr",
          "text": [
            "Setting `pad_token_id` to `eos_token_id`:50256 for open-end generation.\n"
          ]
        },
        {
          "output_type": "stream",
          "name": "stdout",
          "text": [
            "Bovespa opera em alta, impulsionada por dados dos EUA\n",
            "Governo quer acabar com o BNDES na Petrobrás\n",
            "Bovespa perde 0,76% na abertura dos negócios; dólar atinge R$ 1,80\n",
            "Com ajuda de fundos, Câmara de\n"
          ]
        },
        {
          "output_type": "stream",
          "name": "stderr",
          "text": [
            "Setting `pad_token_id` to `eos_token_id`:50256 for open-end generation.\n"
          ]
        },
        {
          "output_type": "stream",
          "name": "stdout",
          "text": [
            "Com ajuda de fundos, Câmara de Itu aprova MP/PRB/IPCA\n",
            "BB vende 7,4 bilhões de dólares no Brasil em maio, a maior poupança desongrezza em 21 anos\n",
            "FT pode ter feito ajustes no empréstimo,\n"
          ]
        },
        {
          "output_type": "stream",
          "name": "stderr",
          "text": [
            "Setting `pad_token_id` to `eos_token_id`:50256 for open-end generation.\n"
          ]
        },
        {
          "output_type": "stream",
          "name": "stdout",
          "text": [
            "FT pode ter feito ajustes no empréstimo, diz ex-presidente do BNDES\n",
            "Bovespa passa a cair puxada por ações da Petrobras\n",
            "Ibovespa fecha pregão com queda de 3,08%, aos 67.038 pontos\n"
          ]
        },
        {
          "output_type": "stream",
          "name": "stderr",
          "text": [
            "Setting `pad_token_id` to `eos_token_id`:50256 for open-end generation.\n"
          ]
        },
        {
          "output_type": "stream",
          "name": "stdout",
          "text": [
            "Ibovespa fecha pregão com queda de 3,08%, aos 67.038 pontos\n",
            "Bovespa cede 1,39%; com atuação de Petrobras, dólar vai a R$ 1,719\n",
            "Quadrilha rende vigilantes e\n"
          ]
        },
        {
          "output_type": "stream",
          "name": "stderr",
          "text": [
            "Setting `pad_token_id` to `eos_token_id`:50256 for open-end generation.\n"
          ]
        },
        {
          "output_type": "stream",
          "name": "stdout",
          "text": [
            "Quadrilha rende vigilantes e invade banco no RN\n",
            "Dólar sobe após BC reduzir em mais três vezes a carga horária\n",
            "Bolsa dos EUA descola do exterior e passa a operar em alta\n",
            "BB Seguridade vai investir R$680\n"
          ]
        },
        {
          "output_type": "stream",
          "name": "stderr",
          "text": [
            "Setting `pad_token_id` to `eos_token_id`:50256 for open-end generation.\n"
          ]
        },
        {
          "output_type": "stream",
          "name": "stdout",
          "text": [
            "BB Seguridade vai investir R$680 milhões em infraestrutura em MG\n",
            "Brasil tem a maior taxa de crescimento dos emergentes\n",
            "Ibovespa atinge máxima desde abril e perde os 62 mil pontos\n",
            "Ibovespa sobe 1% no início do pre\n"
          ]
        },
        {
          "output_type": "stream",
          "name": "stderr",
          "text": [
            "Setting `pad_token_id` to `eos_token_id`:50256 for open-end generation.\n"
          ]
        },
        {
          "output_type": "stream",
          "name": "stdout",
          "text": [
            "Ibovespa sobe 1% no início do pregão\n",
            "Ibovespa abre em leve alta de 0,26%\n",
            "Com forte entrada de capital externo, Bolsa ganha 1,56% e dólar recua a R$ 3,36\n"
          ]
        },
        {
          "output_type": "stream",
          "name": "stderr",
          "text": [
            "Setting `pad_token_id` to `eos_token_id`:50256 for open-end generation.\n"
          ]
        },
        {
          "output_type": "stream",
          "name": "stdout",
          "text": [
            "Com forte entrada de capital externo, Bolsa ganha 1,56% e dólar recua a R$ 3,36\n",
            "Criminosos invadem shopping e roubam dinheiro de homem a facadas\n",
            "Conheça a história de seis jovens criadores de macadâmia\n"
          ]
        },
        {
          "output_type": "stream",
          "name": "stderr",
          "text": [
            "Setting `pad_token_id` to `eos_token_id`:50256 for open-end generation.\n"
          ]
        },
        {
          "output_type": "stream",
          "name": "stdout",
          "text": [
            "Conheça a história de seis jovens criadores de macadâmia de MS\n",
            "BAC promove workshops em escolas de Sorocaba e Jundiaí\n",
            "Conheça o Brasil que mais se uniu ao comércio mundial, diz Miriam Leitão\n",
            "Dilma defende mudanças no Brasil\n"
          ]
        },
        {
          "output_type": "stream",
          "name": "stderr",
          "text": [
            "Setting `pad_token_id` to `eos_token_id`:50256 for open-end generation.\n"
          ]
        },
        {
          "output_type": "stream",
          "name": "stdout",
          "text": [
            "Dilma defende mudanças no Brasil\n",
            "Dólar vira e passa a operar no menor valor desde agosto\n",
            "Dólar marca R$ 1,82; Bovespa bate recorde e sobe nesta quarta\n",
            "Após 2 altas, Bovespa fecha em queda\n"
          ]
        },
        {
          "output_type": "stream",
          "name": "stderr",
          "text": [
            "Setting `pad_token_id` to `eos_token_id`:50256 for open-end generation.\n"
          ]
        },
        {
          "output_type": "stream",
          "name": "stdout",
          "text": [
            "Após 2 altas, Bovespa fecha em queda com aversão a risco global\n",
            "‘Câmbio econômico pode ser bom negócio, mas não deve ser suficiente’\n",
            "Dólar cai 0,33% ante real após abertura; Bolsa sobe 3%\n",
            "Mais\n"
          ]
        },
        {
          "output_type": "stream",
          "name": "stderr",
          "text": [
            "Setting `pad_token_id` to `eos_token_id`:50256 for open-end generation.\n"
          ]
        },
        {
          "output_type": "stream",
          "name": "stdout",
          "text": [
            "Mais que os americanos, Brasil não tem crescimento real\n",
            "Ibovespa cai quase 1% na semana, com preocupações sobre economia\n",
            "Bolsa de São Paulo: Ibovespa fecha em alta de 1,46%\n",
            "Bovespa cai 1 Adriana Vare\n"
          ]
        },
        {
          "output_type": "stream",
          "name": "stderr",
          "text": [
            "Setting `pad_token_id` to `eos_token_id`:50256 for open-end generation.\n"
          ]
        },
        {
          "output_type": "stream",
          "name": "stdout",
          "text": [
            "Bovespa cai 1 Adriana Varejistas é a 1ª do mundo a ser finalista da primeira olimpíada do judô MPF do Paraná prende ex-diretor do Banco de Sangue\n",
            "Bovespa fecha em alta puxada por Petrobras e Bovespa\n"
          ]
        },
        {
          "output_type": "stream",
          "name": "stderr",
          "text": [
            "Setting `pad_token_id` to `eos_token_id`:50256 for open-end generation.\n"
          ]
        },
        {
          "output_type": "stream",
          "name": "stdout",
          "text": [
            "Bovespa fecha em alta puxada por Petrobras e Bovespa cede 0,36% nos primeiros negócios; dólar atinge R$ 1,66\n",
            "Dólar renova máxima no ano após queda do real em janeiro\n",
            "Petrobras fecha acordo com banco\n"
          ]
        },
        {
          "output_type": "stream",
          "name": "stderr",
          "text": [
            "Setting `pad_token_id` to `eos_token_id`:50256 for open-end generation.\n"
          ]
        },
        {
          "output_type": "stream",
          "name": "stdout",
          "text": [
            "Petrobras fecha acordo com banco para ampliar serviços\n",
            "Bovespa fecha em queda com piora externa, após balanço nos EUA\n",
            "Bolsa de São Paulo: Ibovespa abre em alta de 1,15%\n",
            "Criminosos explodem banco e trocam\n"
          ]
        },
        {
          "output_type": "stream",
          "name": "stderr",
          "text": [
            "Setting `pad_token_id` to `eos_token_id`:50256 for open-end generation.\n"
          ]
        },
        {
          "output_type": "stream",
          "name": "stdout",
          "text": [
            "Criminosos explodem banco e trocam tiros com a polícia, em Salvador\n",
            "Dólar fecha em alta pela 3ª semana seguida e vai a R$ 3,10\n",
            "Dólar recua, com preocupações por Grécia\n",
            "Em protesto, Dilma pede que\n"
          ]
        },
        {
          "output_type": "stream",
          "name": "stderr",
          "text": [
            "Setting `pad_token_id` to `eos_token_id`:50256 for open-end generation.\n"
          ]
        },
        {
          "output_type": "stream",
          "name": "stdout",
          "text": [
            "Em protesto, Dilma pede que ministros enviem documentos\n",
            "Dólar cai 0,51%, a R$ 3,29, a pouco mais de 3,40% em três semanas\n",
            "Em meio à crise, bancos públicos retomam financiamento de energia para\n"
          ]
        },
        {
          "output_type": "stream",
          "name": "stderr",
          "text": [
            "Setting `pad_token_id` to `eos_token_id`:50256 for open-end generation.\n"
          ]
        },
        {
          "output_type": "stream",
          "name": "stdout",
          "text": [
            "Em meio à crise, bancos públicos retomam financiamento de energia para crescer\n",
            "Dólar fecha em alta pelo quinto dia seguido, cotado a R$ 1,582\n",
            "Ecorodovias faz pedido para ser acionista minoritário da Ambev\n"
          ]
        },
        {
          "output_type": "stream",
          "name": "stderr",
          "text": [
            "Setting `pad_token_id` to `eos_token_id`:50256 for open-end generation.\n"
          ]
        },
        {
          "output_type": "stream",
          "name": "stdout",
          "text": [
            "Ecorodovias faz pedido para ser acionista minoritário da Ambev no Rio\n",
            "Banco do Brasil amplia atendimento no Grande Recife\n",
            "Mercado de dados brasileiros tem nova aposta de crescimento da inflação\n",
            "Bovespa fecha em alta de 2,18% ante\n"
          ]
        },
        {
          "output_type": "stream",
          "name": "stderr",
          "text": [
            "Setting `pad_token_id` to `eos_token_id`:50256 for open-end generation.\n"
          ]
        },
        {
          "output_type": "stream",
          "name": "stdout",
          "text": [
            "Bovespa fecha em alta de 2,18% ante véspera de feriado; dólar vai a R$ 1,76\n",
            "Dólar opera instável, diante do cenário externo\n",
            "Bovespa ganha 0,29%; ações da Petrobras têm forte alta\n"
          ]
        },
        {
          "output_type": "stream",
          "name": "stderr",
          "text": [
            "Setting `pad_token_id` to `eos_token_id`:50256 for open-end generation.\n"
          ]
        },
        {
          "output_type": "stream",
          "name": "stdout",
          "text": [
            "Bovespa ganha 0,29%; ações da Petrobras têm forte alta\n",
            "Brasil vence Senegal na fase final da Copa Africana\n",
            "Bovespa acompanha mercado externo; dólar recua para R$ 2,56\n",
            "Itaú, Santander, BB e Bradesco lideram\n"
          ]
        },
        {
          "output_type": "stream",
          "name": "stderr",
          "text": [
            "Setting `pad_token_id` to `eos_token_id`:50256 for open-end generation.\n"
          ]
        },
        {
          "output_type": "stream",
          "name": "stdout",
          "text": [
            "Itaú, Santander, BB e Bradesco lideram lista de reclamações contra consumidores, diz Procon-MA\n",
            "Bovespa reduz perdas; ações da JBS recuam quase 4% em um mês\n",
            "Bolsa sobe e dólar cai à espera do anúncio\n"
          ]
        },
        {
          "output_type": "stream",
          "name": "stderr",
          "text": [
            "Setting `pad_token_id` to `eos_token_id`:50256 for open-end generation.\n"
          ]
        },
        {
          "output_type": "stream",
          "name": "stdout",
          "text": [
            "Bolsa sobe e dólar cai à espera do anúncio da reforma monetária do Brasil\n",
            "Com incertezas no cenário político, ações da Vale desabam e Bovespa e da Petrobras caem\n",
            "O Banco Central\n",
            "Brasil tem de pagar US$ 8,1 bilhões\n"
          ]
        },
        {
          "output_type": "stream",
          "name": "stderr",
          "text": [
            "Setting `pad_token_id` to `eos_token_id`:50256 for open-end generation.\n"
          ]
        },
        {
          "output_type": "stream",
          "name": "stdout",
          "text": [
            "Brasil tem de pagar US$ 8,1 bilhões em dívida\n",
            "Bovespa fecha em queda nesta quinta-feira pressionada por Vale e Petrobras\n",
            "BNDES quer retomar linha de crédito com IPVA de 2017\n",
            "Receita Federal libera consulta a lote da malha\n"
          ]
        },
        {
          "output_type": "stream",
          "name": "stderr",
          "text": [
            "Setting `pad_token_id` to `eos_token_id`:50256 for open-end generation.\n"
          ]
        },
        {
          "output_type": "stream",
          "name": "stdout",
          "text": [
            "Receita Federal libera consulta a lote da malha fina\n",
            "Oferta do BNB prevê aumento de quase 4% do preço do minério de ferro\n",
            "‘Não é possível esperar hoje o governo falar nem de reforma’, diz Levy\n",
            "Justiça proíbe banco a\n"
          ]
        },
        {
          "output_type": "stream",
          "name": "stderr",
          "text": [
            "Setting `pad_token_id` to `eos_token_id`:50256 for open-end generation.\n"
          ]
        },
        {
          "output_type": "stream",
          "name": "stdout",
          "text": [
            "Justiça proíbe banco a vender ativos que elevam no exterior\n",
            "Itaú compra banco de alimentos e tem lucro líquido de R$ 485 milhões no 1º trimestre\n",
            "Saiba onde encontrar o Pizzolato na Itália\n",
            "Polícia já prende suspeitos de\n"
          ]
        },
        {
          "output_type": "stream",
          "name": "stderr",
          "text": [
            "Setting `pad_token_id` to `eos_token_id`:50256 for open-end generation.\n"
          ]
        },
        {
          "output_type": "stream",
          "name": "stdout",
          "text": [
            "Polícia já prende suspeitos de praticar arrombamento em Serra de Minas, MG\n",
            "Com o Brasil à disposição dos mercados, dólar fecha em alta\n",
            "Brasil pode se tornar a casa do risco com a recessão global, diz Armínio Fraga\n",
            "Dólar\n"
          ]
        },
        {
          "output_type": "stream",
          "name": "stderr",
          "text": [
            "Setting `pad_token_id` to `eos_token_id`:50256 for open-end generation.\n"
          ]
        },
        {
          "output_type": "stream",
          "name": "stdout",
          "text": [
            "Dólar vale R$ 1,76, menor cotação em mais de 4 meses\n",
            "ENTREVISTA-Bancos do Brasil devem elevar lucro com maior redução na inadimplência\n",
            "Grupo armado explode caixas eletrônicos de agências na Bahia\n"
          ]
        },
        {
          "output_type": "stream",
          "name": "stderr",
          "text": [
            "Setting `pad_token_id` to `eos_token_id`:50256 for open-end generation.\n"
          ]
        },
        {
          "output_type": "stream",
          "name": "stdout",
          "text": [
            "Grupo armado explode caixas eletrônicos de agências na Bahia\n",
            "Governo diz ter gasto R$ 300 milhões para combater furtos violentos e roubos a bancos até novembro\n",
            "Polícia prende suspeito de matar médica em MS\n",
            "Lucro líquido do Bradesco cresce 13% no 1º\n"
          ]
        },
        {
          "output_type": "stream",
          "name": "stderr",
          "text": [
            "Setting `pad_token_id` to `eos_token_id`:50256 for open-end generation.\n"
          ]
        },
        {
          "output_type": "stream",
          "name": "stdout",
          "text": [
            "Lucro líquido do Bradesco cresce 13% no 1º trimestre\n",
            "Agência bancária é assaltada pelo criminoso em Monte Mor\n",
            "BC lança moeda comemorativa da Copa após cinco anos de fraco crescimento\n",
            "Banco de leite precisa de doações em MG\n",
            "Dólar tem terceira\n"
          ]
        },
        {
          "output_type": "stream",
          "name": "stderr",
          "text": [
            "Setting `pad_token_id` to `eos_token_id`:50256 for open-end generation.\n"
          ]
        },
        {
          "output_type": "stream",
          "name": "stdout",
          "text": [
            "Dólar tem terceira queda consecutiva e fecha a R$ 1,705\n",
            "Bovespa passa a cair nesta sexta, seguindo cenário externo e em alta de 3%\n",
            "Ibovespa deve fechar em alta com otimismo por alta de Petrobras e Grécia\n"
          ]
        },
        {
          "output_type": "stream",
          "name": "stderr",
          "text": [
            "Setting `pad_token_id` to `eos_token_id`:50256 for open-end generation.\n"
          ]
        },
        {
          "output_type": "stream",
          "name": "stdout",
          "text": [
            "Ibovespa deve fechar em alta com otimismo por alta de Petrobras e Grécia\n",
            "Com inflação para cima, Ibovespa cai 1,49%\n",
            "Petrobras e Vale criam sistema de alta tecnologia para produção de petróleo\n",
            "Veja os destaques desta terça-\n"
          ]
        },
        {
          "output_type": "stream",
          "name": "stderr",
          "text": [
            "Setting `pad_token_id` to `eos_token_id`:50256 for open-end generation.\n"
          ]
        },
        {
          "output_type": "stream",
          "name": "stdout",
          "text": [
            "Veja os destaques desta terça-feira\n",
            "Dólar passa a cair nesta quinta com exterior, mas permanece em R$ 3,17\n",
            "Bovespa caminha para semana de alta; dólar pesa\n",
            "Polícia prende suspeitos de roubo a banco em MT\n",
            "Quad\n"
          ]
        },
        {
          "output_type": "stream",
          "name": "stderr",
          "text": [
            "Setting `pad_token_id` to `eos_token_id`:50256 for open-end generation.\n"
          ]
        },
        {
          "output_type": "stream",
          "name": "stdout",
          "text": [
            "Quad de Petrobras: veja quem perdeu e quem ganhou\n",
            "Bovespa fecha acima dos 104 mil pontos pela primeira vez na maior ponte de Londres\n",
            "Justiça bloqueia repasses de fundos de pensão no AM\n",
            "Ibovespa fecha pregão com queda de\n"
          ]
        },
        {
          "output_type": "stream",
          "name": "stderr",
          "text": [
            "Setting `pad_token_id` to `eos_token_id`:50256 for open-end generation.\n"
          ]
        },
        {
          "output_type": "stream",
          "name": "stdout",
          "text": [
            "Ibovespa fecha pregão com queda de 0,46%, aos 57.604 pontos\n",
            "Justiça nega pedido da Sine e mantém liminar que manteve R$ 26 bi em contas inativas da prefeitura\n",
            "Bovespa opera em forte alta\n"
          ]
        },
        {
          "output_type": "stream",
          "name": "stderr",
          "text": [
            "Setting `pad_token_id` to `eos_token_id`:50256 for open-end generation.\n"
          ]
        },
        {
          "output_type": "stream",
          "name": "stdout",
          "text": [
            "Bovespa opera em forte alta nesta quinta-feira\n",
            "Em 4 anos, gasto de brasileiros com exterior já aumentou 7%\n",
            "Dólar fecha acima de R$ 3,50 com otimismo sobre juros nos EUA\n",
            "Brasil vai ao encontro da Rússia sobre\n"
          ]
        },
        {
          "output_type": "stream",
          "name": "stderr",
          "text": [
            "Setting `pad_token_id` to `eos_token_id`:50256 for open-end generation.\n"
          ]
        },
        {
          "output_type": "stream",
          "name": "stdout",
          "text": [
            "Brasil vai ao encontro da Rússia sobre aquecimento de gases estufa\n",
            "Justiça decreta bloqueio de mais 15 milhões da PGX, diz Justiça Eleitoral\n",
            "Em meio a guerra comercial entre China e EUA, investidores devem gastar mais do que o previsto\n",
            "Iboves\n"
          ]
        },
        {
          "output_type": "stream",
          "name": "stderr",
          "text": [
            "Setting `pad_token_id` to `eos_token_id`:50256 for open-end generation.\n"
          ]
        },
        {
          "output_type": "stream",
          "name": "stdout",
          "text": [
            "Ibovespa segue bom humor externo e opera perto da estabilidade nesta sexta\n",
            "BNDES critica governo por endividamento de estatais\n",
            "Ibovespa sobe 0,32%, a 67.886 pontos, mas tem alta de 0,22% no\n"
          ]
        },
        {
          "output_type": "stream",
          "name": "stderr",
          "text": [
            "Setting `pad_token_id` to `eos_token_id`:50256 for open-end generation.\n"
          ]
        },
        {
          "output_type": "stream",
          "name": "stdout",
          "text": [
            "Ibovespa sobe 0,32%, a 67.886 pontos, mas tem alta de 0,22% no mês\n",
            "Lucro da Amil salta 19% do grupo Anhanguera, para R$ 12 bilhões, diz consultoria\n",
            "Boves\n"
          ]
        },
        {
          "output_type": "stream",
          "name": "stderr",
          "text": [
            "Setting `pad_token_id` to `eos_token_id`:50256 for open-end generation.\n"
          ]
        },
        {
          "output_type": "stream",
          "name": "stdout",
          "text": [
            "Bovespa passa a subir nesta sexta\n",
            "Presidente do Banco Central defende política central de juros altos\n",
            "O mundo é um dos poucos países no mundo que têm uma lei federal unificada\n",
            "Lucro líquido do Bradesco cai 10,1% no primeiro trimestre\n"
          ]
        },
        {
          "output_type": "stream",
          "name": "stderr",
          "text": [
            "Setting `pad_token_id` to `eos_token_id`:50256 for open-end generation.\n"
          ]
        },
        {
          "output_type": "stream",
          "name": "stdout",
          "text": [
            "Lucro líquido do Bradesco cai 10,1% no primeiro trimestre para R$ 4,17 bilhões\n",
            "Bancos privados têm de indenizar governo com multas para o governo\n",
            "PGR condena TJ do RJ e Jucá por improbidade administrativa\n",
            "Moradores\n"
          ]
        },
        {
          "output_type": "stream",
          "name": "stderr",
          "text": [
            "Setting `pad_token_id` to `eos_token_id`:50256 for open-end generation.\n"
          ]
        },
        {
          "output_type": "stream",
          "name": "stdout",
          "text": [
            "Moradores reclamam de prejuízos de chuva em rodovia de Itu\n",
            "Petrobras tem lucro líquido de R$3,14 bilhões em 2010, alta de 3%\n",
            "Bovespa segue exterior e sobe 0,28%; ações da Petrobras caem 1,48\n"
          ]
        },
        {
          "output_type": "stream",
          "name": "stderr",
          "text": [
            "Setting `pad_token_id` to `eos_token_id`:50256 for open-end generation.\n"
          ]
        },
        {
          "output_type": "stream",
          "name": "stdout",
          "text": [
            "Bovespa segue exterior e sobe 0,28%; ações da Petrobras caem 1,48Decreto fiscal, mas PIB não vai deixar de ser o que mais afeta o governo\n",
            "Dólar sobe e fecha a R$ 4,74 com piora externa\n"
          ]
        },
        {
          "output_type": "stream",
          "name": "stderr",
          "text": [
            "Setting `pad_token_id` to `eos_token_id`:50256 for open-end generation.\n"
          ]
        },
        {
          "output_type": "stream",
          "name": "stdout",
          "text": [
            "Dólar sobe e fecha a R$ 4,74 com piora externa e cenário de guerra comercial\n",
            "Dilma critica crise de câmbio na Europa e diz que vai aumentar a competitividade\n",
            "BC mantém juros no patamar de 4% ao ano\n",
            "Em crise, dólar\n"
          ]
        },
        {
          "output_type": "stream",
          "name": "stderr",
          "text": [
            "Setting `pad_token_id` to `eos_token_id`:50256 for open-end generation.\n"
          ]
        },
        {
          "output_type": "stream",
          "name": "stdout",
          "text": [
            "Em crise, dólar registra alta\n",
            "Veja o que abre e o que fecha em Alagoas nesta sexta-feira\n",
            "Polícia apreende mais de 2,5 kg de maconha escondida dentro de carro em Itu\n",
            "BC de Londres prevê economia de US$ 5 bi\n"
          ]
        },
        {
          "output_type": "stream",
          "name": "stderr",
          "text": [
            "Setting `pad_token_id` to `eos_token_id`:50256 for open-end generation.\n"
          ]
        },
        {
          "output_type": "stream",
          "name": "stdout",
          "text": [
            "BC de Londres prevê economia de US$ 5 bi em 2016\n",
            "Dólar opera perto da estabilidade após ação do BC dos EUA; Bovespa é a terceira baixa\n",
            "Dólar sobe a R$ 3,17 com ajuda de bancos e Petrobras\n"
          ]
        },
        {
          "output_type": "stream",
          "name": "stderr",
          "text": [
            "Setting `pad_token_id` to `eos_token_id`:50256 for open-end generation.\n"
          ]
        },
        {
          "output_type": "stream",
          "name": "stdout",
          "text": [
            "Dólar sobe a R$ 3,17 com ajuda de bancos e Petrobras\n",
            "Ajuste fiscal vai exigir ajustes constitucionais\n",
            "Dólar opera em baixa, após bater R$ 3,40 com exterior\n",
            "Dólar perde com exterior e fecha em queda\n"
          ]
        },
        {
          "output_type": "stream",
          "name": "stderr",
          "text": [
            "Setting `pad_token_id` to `eos_token_id`:50256 for open-end generation.\n"
          ]
        },
        {
          "output_type": "stream",
          "name": "stdout",
          "text": [
            "Dólar perde com exterior e fecha em queda, cotado a R$ 3,27\n",
            "Bovespa fecha em queda, puxada por ações de construtoras\n",
            "Bovespa fecha em alta, influenciada pelo mercado americano\n",
            "Após três dias de\n"
          ]
        },
        {
          "output_type": "stream",
          "name": "stderr",
          "text": [
            "Setting `pad_token_id` to `eos_token_id`:50256 for open-end generation.\n"
          ]
        },
        {
          "output_type": "stream",
          "name": "stdout",
          "text": [
            "Após três dias de queda, Bovespa mantém recuperação nesta quinta-feira\n",
            "Bovespa passa a valer menos de 1% nesta terça-feira\n",
            "Em reunião informal, Bolsonaro não está otimista com acordo nos EUA\n",
            "Mercado baixa estimativa de PIB de\n"
          ]
        },
        {
          "output_type": "stream",
          "name": "stderr",
          "text": [
            "Setting `pad_token_id` to `eos_token_id`:50256 for open-end generation.\n"
          ]
        },
        {
          "output_type": "stream",
          "name": "stdout",
          "text": [
            "Mercado baixa estimativa de PIB de 6,5% em 2019\n",
            "Criminosos explodem caixa eletrônico de banco no Norte de MG\n",
            "Polícia Militar identifica carro-forte que explodiu outro banco na Bahia por R$ 10 mi\n",
            "Bovespa opera em\n"
          ]
        },
        {
          "output_type": "stream",
          "name": "stderr",
          "text": [
            "Setting `pad_token_id` to `eos_token_id`:50256 for open-end generation.\n"
          ]
        },
        {
          "output_type": "stream",
          "name": "stdout",
          "text": [
            "Bovespa opera em alta após cinco pregões de queda\n",
            "Mercado reduz previsão de juros em janeiro para 4,33%\n",
            "Com ações de BTG, Oi faz sua última rodada de expansão\n",
            "Após 3 quedas seguidas, dólar opera em baixa\n"
          ]
        },
        {
          "output_type": "stream",
          "name": "stderr",
          "text": [
            "Setting `pad_token_id` to `eos_token_id`:50256 for open-end generation.\n"
          ]
        },
        {
          "output_type": "stream",
          "name": "stdout",
          "text": [
            "Após 3 quedas seguidas, dólar opera em baixa; Bolsa sobe impulsionada por Petrobras e Vale\n",
            "Saiba o que abre e o que fecha durante o jogo do Brasil na Copa\n",
            "Bolsas europeias operam em queda após dados fracos de emprego nos EUA\n"
          ]
        },
        {
          "output_type": "stream",
          "name": "stderr",
          "text": [
            "Setting `pad_token_id` to `eos_token_id`:50256 for open-end generation.\n"
          ]
        },
        {
          "output_type": "stream",
          "name": "stdout",
          "text": [
            "Bolsas europeias operam em queda após dados fracos de emprego nos EUA\n",
            "Bancos criam cadastro positivo para financiamento imobiliário em cada banco\n",
            "Dólar opera em alta, com expectativa pelos novos estímulos nos EUA\n",
            "Bolsa tem leve alta com ações da Petrobras na cont\n"
          ]
        },
        {
          "output_type": "stream",
          "name": "stderr",
          "text": [
            "Setting `pad_token_id` to `eos_token_id`:50256 for open-end generation.\n"
          ]
        },
        {
          "output_type": "stream",
          "name": "stdout",
          "text": [
            "Bolsa tem leve alta com ações da Petrobras na contramão do externo e do avanço da Vale\n",
            "Banco Central Europeu prevê economia mais lenta em meio a recessão\n",
            "BNDES e BNDES firmam parceria de cooperação no financiamento de veículos na Espanha\n",
            "Bovespa\n"
          ]
        },
        {
          "output_type": "stream",
          "name": "stderr",
          "text": [
            "Setting `pad_token_id` to `eos_token_id`:50256 for open-end generation.\n"
          ]
        },
        {
          "output_type": "stream",
          "name": "stdout",
          "text": [
            "Bovespa passa a operar sem direção no fim das pregões\n",
            "Bovespa fecha com valorização nesta sexta\n",
            "Banco do Brasil e Caixa Econômica Federal lançam aplicativo de pagamento com débito e débito instantâneo\n",
            "Bolsa e dólar operam em alta nesta segunda\n",
            "Ban\n"
          ]
        },
        {
          "output_type": "stream",
          "name": "stderr",
          "text": [
            "Setting `pad_token_id` to `eos_token_id`:50256 for open-end generation.\n"
          ]
        },
        {
          "output_type": "stream",
          "name": "stdout",
          "text": [
            "Ban em São José do Vale do Rio Preto, RJ\n",
            "Com estoque alto, moradores de Salto fazem protestos\n",
            "Brasil vai liderar investimento estrangeiro na América Latina, diz FMI\n",
            "Bandidos explodem caixa eletrônico do Banco do Brasil de Gurupi\n",
            "BC vê\n"
          ]
        },
        {
          "output_type": "stream",
          "name": "stderr",
          "text": [
            "Setting `pad_token_id` to `eos_token_id`:50256 for open-end generation.\n"
          ]
        },
        {
          "output_type": "stream",
          "name": "stdout",
          "text": [
            "BC vê que juros altos geram inflação maior\n",
            "Bovespa perde 0,37%; dólar marca R$ 1,61\n",
            "Bolsas dos EUA fecham em alta de 0,49%\n",
            "Ações da Petrobras caem mais de 4% após dados\n"
          ]
        },
        {
          "output_type": "stream",
          "name": "stderr",
          "text": [
            "Setting `pad_token_id` to `eos_token_id`:50256 for open-end generation.\n"
          ]
        },
        {
          "output_type": "stream",
          "name": "stdout",
          "text": [
            "Ações da Petrobras caem mais de 4% após dados fracos da China; Bovespa sobe\n",
            "Criminosos explodem caixas eletrônicos do Banco do Brasil em Buriticu, no Ceará\n",
            "Em meio a incertezas, mercados negociam alta de juros de\n"
          ]
        },
        {
          "output_type": "stream",
          "name": "stderr",
          "text": [
            "Setting `pad_token_id` to `eos_token_id`:50256 for open-end generation.\n"
          ]
        },
        {
          "output_type": "stream",
          "name": "stdout",
          "text": [
            "Em meio a incertezas, mercados negociam alta de juros de bancos nos EUA\n",
            "Dívida de estrangeiros no Brasil sobe 15,2% em 2011\n",
            "Ibovespa fecha em alta de 1,68%\n",
            "Polícia prende casal que roubou R$\n"
          ]
        },
        {
          "output_type": "stream",
          "name": "stderr",
          "text": [
            "Setting `pad_token_id` to `eos_token_id`:50256 for open-end generation.\n"
          ]
        },
        {
          "output_type": "stream",
          "name": "stdout",
          "text": [
            "Polícia prende casal que roubou R$ 3 milhões de banco na Bahia\n",
            "Brasil precisa de grandes gestores ricos no setor, diz economista\n",
            "Dólar fecha a R$ 1,76, à espera de reunião do BC dos EUA\n",
            "Polícia de SC tem\n"
          ]
        },
        {
          "output_type": "stream",
          "name": "stderr",
          "text": [
            "Setting `pad_token_id` to `eos_token_id`:50256 for open-end generation.\n"
          ]
        },
        {
          "output_type": "stream",
          "name": "stdout",
          "text": [
            "Polícia de SC tem ação coordenada com a polícia\n",
            "Governo tenta impedir que ex-BBB e ex-BBB, Joesley Batista, se unizem\n",
            "Ibovespa inicia pregão com queda de 0,42%, aos 55.\n"
          ]
        },
        {
          "output_type": "stream",
          "name": "stderr",
          "text": [
            "Setting `pad_token_id` to `eos_token_id`:50256 for open-end generation.\n"
          ]
        },
        {
          "output_type": "stream",
          "name": "stdout",
          "text": [
            "Ibovespa inicia pregão com queda de 0,42%, aos 55.018 pontos\n",
            "Retomada do PIB do primeiro trimestre de 2018 pode levantar até US$ 1,8 bi\n",
            "Dólar fecha em alta com cenário externo favorável\n"
          ]
        },
        {
          "output_type": "stream",
          "name": "stderr",
          "text": [
            "Setting `pad_token_id` to `eos_token_id`:50256 for open-end generation.\n"
          ]
        },
        {
          "output_type": "stream",
          "name": "stdout",
          "text": [
            "Dólar fecha em alta com cenário externo favorável à meta fiscal\n",
            "Após bater R$ 2, hologramas apreendidos durante ataque a banco em SP são devolvidos\n",
            "BNDES pede que Caixa devolva US$ 150 milhões do IR\n",
            "Dólar cai 0\n"
          ]
        },
        {
          "output_type": "stream",
          "name": "stderr",
          "text": [
            "Setting `pad_token_id` to `eos_token_id`:50256 for open-end generation.\n"
          ]
        },
        {
          "output_type": "stream",
          "name": "stdout",
          "text": [
            "Dólar cai 0,32% e dólar atinge R$ 1,82; Bolsa sobe 1%\n",
            "Bandidos explodem caixas eletrônicos em Ribeirão Preto, SP\n",
            "Bolsa de São Paulo: Ibovespa abre em leve queda\n",
            "PGR faz ofensiva\n"
          ]
        },
        {
          "output_type": "stream",
          "name": "stderr",
          "text": [
            "Setting `pad_token_id` to `eos_token_id`:50256 for open-end generation.\n"
          ]
        },
        {
          "output_type": "stream",
          "name": "stdout",
          "text": [
            "PGR faz ofensiva em busca de crédito do Itaú\n",
            "FOLHA MAIO-Copom segue Dilma e diz que país precisa se modernizar\n",
            "Bancos têm lucro líquido de R$ 5,8 bilhões no terceiro trimestre\n",
            "Após 3 dias de\n"
          ]
        },
        {
          "output_type": "stream",
          "name": "stderr",
          "text": [
            "Setting `pad_token_id` to `eos_token_id`:50256 for open-end generation.\n"
          ]
        },
        {
          "output_type": "stream",
          "name": "stdout",
          "text": [
            "Após 3 dias de queda, dólar fecha a R$ 1,66\n",
            "‘Não sei como estou após o fim da seca no Chile’, diz diretor do FMI\n",
            "BTG Pactual eleva preço da dívida de US$ 1 bilhão com BNDES\n"
          ]
        },
        {
          "output_type": "stream",
          "name": "stderr",
          "text": [
            "Setting `pad_token_id` to `eos_token_id`:50256 for open-end generation.\n"
          ]
        },
        {
          "output_type": "stream",
          "name": "stdout",
          "text": [
            "BTG Pactual eleva preço da dívida de US$ 1 bilhão com BNDES\n",
            "Bovespa fecha acima de 93 mil pontos pelo segundo dia seguido\n",
            "BC nega viés externo negativo e eleva rating de crédito do BB; OGX dispara\n",
            "Com ajuda\n"
          ]
        },
        {
          "output_type": "stream",
          "name": "stderr",
          "text": [
            "Setting `pad_token_id` to `eos_token_id`:50256 for open-end generation.\n"
          ]
        },
        {
          "output_type": "stream",
          "name": "stdout",
          "text": [
            "Com ajuda da China, dólar volta aos 59,35% ao ano\n",
            "Polícia Federal encontra 10 chupa-cabras em casa em MG, suspeita de roubo\n",
            "Bovespa reduz perdas com Petrobras e no cenário externo\n",
            "Polícia encontra mais de 500\n"
          ]
        },
        {
          "output_type": "stream",
          "name": "stderr",
          "text": [
            "Setting `pad_token_id` to `eos_token_id`:50256 for open-end generation.\n"
          ]
        },
        {
          "output_type": "stream",
          "name": "stdout",
          "text": [
            "Polícia encontra mais de 500 cápsulas de drogas no rio Guaporé\n",
            "Dilma diz que não há sinais de insegurança em economia\n",
            "Banco Central projeta mais inflação em 2014 e alta no PIB em 2015\n",
            "Brasil pode crescer 1% em 2011, com medidas no consumo\n"
          ]
        },
        {
          "output_type": "stream",
          "name": "stderr",
          "text": [
            "Setting `pad_token_id` to `eos_token_id`:50256 for open-end generation.\n"
          ]
        },
        {
          "output_type": "stream",
          "name": "stdout",
          "text": [
            "Brasil pode crescer 1% em 2011, com medidas no consumo e na saúde\n",
            "Dólar vai a R$ 3,39 após atingir R$ 1,70, mas fecha a semana em queda\n",
            "Atividade econômica do terceiro trimestre é melhor do que\n"
          ]
        },
        {
          "output_type": "stream",
          "name": "stderr",
          "text": [
            "Setting `pad_token_id` to `eos_token_id`:50256 for open-end generation.\n"
          ]
        },
        {
          "output_type": "stream",
          "name": "stdout",
          "text": [
            "Atividade econômica do terceiro trimestre é melhor do que o esperado, diz Banco Central\n",
            "Quadrilha explode banco com mais de 500 maços de cigarros em Porto Alegre\n",
            "Em meio a crise do setor público, BNDES se propõe a comprar 30% da Eletro\n"
          ]
        },
        {
          "output_type": "stream",
          "name": "stderr",
          "text": [
            "Setting `pad_token_id` to `eos_token_id`:50256 for open-end generation.\n"
          ]
        },
        {
          "output_type": "stream",
          "name": "stdout",
          "text": [
            "Em meio a crise do setor público, BNDES se propõe a comprar 30% da Eletrobras\n",
            "Motociclista fica ferido após ser atropelado por caminhão em Itu\n",
            "Polícia flagra homem com drogas e fuzis dentro de agência bancária em Cuiabá\n",
            "Saída\n"
          ]
        },
        {
          "output_type": "stream",
          "name": "stderr",
          "text": [
            "Setting `pad_token_id` to `eos_token_id`:50256 for open-end generation.\n"
          ]
        },
        {
          "output_type": "stream",
          "name": "stdout",
          "text": [
            "Saída de recursos para reforma do Imposto de Renda em PE chega a R$ 9.900\n",
            "Confira calendário de exposições gratuitas gratuitas em SP\n",
            "Ações de construtoras sobem pelo segundo dia apesar de IPCA fraco\n",
            "Bovespa fecha em\n"
          ]
        },
        {
          "output_type": "stream",
          "name": "stderr",
          "text": [
            "Setting `pad_token_id` to `eos_token_id`:50256 for open-end generation.\n"
          ]
        },
        {
          "output_type": "stream",
          "name": "stdout",
          "text": [
            "Bovespa fecha em leve alta, de olho no cenário externo\n",
            "Bovespa fecha em baixa de 0,28% e perde os 104 mil pontos com exterior positivo\n",
            "Bovespa cede para menor nível em 4 meses; dólar vale R$\n"
          ]
        },
        {
          "output_type": "stream",
          "name": "stderr",
          "text": [
            "Setting `pad_token_id` to `eos_token_id`:50256 for open-end generation.\n"
          ]
        },
        {
          "output_type": "stream",
          "name": "stdout",
          "text": [
            "Bovespa cede para menor nível em 4 meses; dólar vale R$ 1,71\n",
            "Ibovespa fecha em baixa de 1,46%\n",
            "Bovespa fecha em alta de 0,32%\n",
            "Polícia apreende mais de R$\n"
          ]
        },
        {
          "output_type": "stream",
          "name": "stderr",
          "text": [
            "Setting `pad_token_id` to `eos_token_id`:50256 for open-end generation.\n"
          ]
        },
        {
          "output_type": "stream",
          "name": "stdout",
          "text": [
            "Polícia apreende mais de R$ 1,1 milhão de maconha escondidos dentro de banco em Porto Alegre\n",
            "Bovespa fecha em queda de 1% com cautela sobre política monetária dos EUA\n",
            "Dólar recua por cautela com exterior\n",
            "Bovespa\n"
          ]
        },
        {
          "output_type": "stream",
          "name": "stderr",
          "text": [
            "Setting `pad_token_id` to `eos_token_id`:50256 for open-end generation.\n"
          ]
        },
        {
          "output_type": "stream",
          "name": "stdout",
          "text": [
            "Bovespa opera em alta no último pregão de fevereiro\n",
            "Brasil tem a 7ª maior mortalidade infantil do mundo, diz estudo\n",
            "BC eleva juros após queda do juro básico com risco de inflação menor\n",
            "Ibovespa fecha em alta de 1,\n"
          ]
        },
        {
          "output_type": "stream",
          "name": "stderr",
          "text": [
            "Setting `pad_token_id` to `eos_token_id`:50256 for open-end generation.\n"
          ]
        },
        {
          "output_type": "stream",
          "name": "stdout",
          "text": [
            "Ibovespa fecha em alta de 1,27%\n",
            "Ibovespa firma pregão estável; dólar se aproxima de R$ 2,90\n",
            "Itaú Unibanco abre concurso para professor adjunto com salários de até R$ 100 mil\n",
            "Crimin\n"
          ]
        },
        {
          "output_type": "stream",
          "name": "stderr",
          "text": [
            "Setting `pad_token_id` to `eos_token_id`:50256 for open-end generation.\n"
          ]
        },
        {
          "output_type": "stream",
          "name": "stdout",
          "text": [
            "Criminho no Piauí é visto à noite\n",
            "Ações de bancos no Ibovespa sobem após ata do Copom e da Telefónica\n",
            "Governo tem de cortar quase 40% de gastos públicos\n",
            "Dólar fecha acima de R$ 3,\n"
          ]
        },
        {
          "output_type": "stream",
          "name": "stderr",
          "text": [
            "Setting `pad_token_id` to `eos_token_id`:50256 for open-end generation.\n"
          ]
        },
        {
          "output_type": "stream",
          "name": "stdout",
          "text": [
            "Dólar fecha acima de R$ 3,95 e acumula queda semanal de 1,2% em mais de 1 ano\n",
            "Confira imagens do momento do acidente que matou o engenheiro do metrô\n",
            "ENTREVISTA-Cetip anuncia US\n"
          ]
        },
        {
          "output_type": "stream",
          "name": "stderr",
          "text": [
            "Setting `pad_token_id` to `eos_token_id`:50256 for open-end generation.\n"
          ]
        },
        {
          "output_type": "stream",
          "name": "stdout",
          "text": [
            "ENTREVISTA-Cetip anuncia US$ 500 mi para o BNDES\n",
            "Bovespa opera em alta e tem melhor mês em três anos\n",
            "BC tem lucro de R$ 4,4 bilhões no 3º trimestre e prevê alta em\n"
          ]
        },
        {
          "output_type": "stream",
          "name": "stderr",
          "text": [
            "Setting `pad_token_id` to `eos_token_id`:50256 for open-end generation.\n"
          ]
        },
        {
          "output_type": "stream",
          "name": "stdout",
          "text": [
            "BC tem lucro de R$ 4,4 bilhões no 3º trimestre e prevê alta em 2012\n",
            "Dólar encerra julho em alta pelo sexto dia seguido\n",
            "Mercado reduz previsão para crescimento do PIB do Brasil em 2017\n",
            "Ibovespa cai mais de 1\n"
          ]
        },
        {
          "output_type": "stream",
          "name": "stderr",
          "text": [
            "Setting `pad_token_id` to `eos_token_id`:50256 for open-end generation.\n"
          ]
        },
        {
          "output_type": "stream",
          "name": "stdout",
          "text": [
            "Ibovespa cai mais de 1% na semana e fecha abaixo dos 55 mil pontos\n",
            "Governo prevê alta da Selic a 10% em 2020\n",
            "Para estimular economia, BC fará redução de juros entre 6% e 6% em 2017\n",
            "Homem\n"
          ]
        },
        {
          "output_type": "stream",
          "name": "stderr",
          "text": [
            "Setting `pad_token_id` to `eos_token_id`:50256 for open-end generation.\n"
          ]
        },
        {
          "output_type": "stream",
          "name": "stdout",
          "text": [
            "Homem no Brasil\n",
            "Justiça impede governo de vender imóvel após leilão, no Pará\n",
            "‘Não haverá aumento do aluguel, nem aumento da carga tributária’, diz Paulo Guedes sobre crise\n",
            "Governo se reúne com ministro do Esporte para falar sobre violência\n",
            "Bolsa dispara após\n"
          ]
        },
        {
          "output_type": "stream",
          "name": "stderr",
          "text": [
            "Setting `pad_token_id` to `eos_token_id`:50256 for open-end generation.\n"
          ]
        },
        {
          "output_type": "stream",
          "name": "stdout",
          "text": [
            "Bolsa dispara após medidas do governo\n",
            "BC eleva taxa básica de juros pela primeira vez em dois meses\n",
            "Confira o que funciona e o que funciona durante o pôr do sol no Brasil\n",
            "Dólar segue em baixa após anúncio do presidente Lula; Bo\n"
          ]
        },
        {
          "output_type": "stream",
          "name": "stderr",
          "text": [
            "Setting `pad_token_id` to `eos_token_id`:50256 for open-end generation.\n"
          ]
        },
        {
          "output_type": "stream",
          "name": "stdout",
          "text": [
            "Dólar segue em baixa após anúncio do presidente Lula; Bovespa tem alta de 9,24%\n",
            "No Dia Mundial da Indústria Seguradora, Dilma se reúne com empresários em Brasília\n",
            "Ex-ministro José Dirceu é preso com drogas no Rio\n"
          ]
        },
        {
          "output_type": "stream",
          "name": "stderr",
          "text": [
            "Setting `pad_token_id` to `eos_token_id`:50256 for open-end generation.\n"
          ]
        },
        {
          "output_type": "stream",
          "name": "stdout",
          "text": [
            "Ex-ministro José Dirceu é preso com drogas no Rio\n",
            "Lucro do Itaú Unibanco cai para R$2,715 bi no 2º trimestre\n",
            "Bovespa fecha em alta puxada por Petrobras e Vale\n",
            "Bovespa fecha\n"
          ]
        },
        {
          "output_type": "stream",
          "name": "stderr",
          "text": [
            "Setting `pad_token_id` to `eos_token_id`:50256 for open-end generation.\n"
          ]
        },
        {
          "output_type": "stream",
          "name": "stdout",
          "text": [
            "Bovespa fecha em queda, pressionada por Petrobras e EUA\n",
            "Em dia de baixo volume, Bovespa sobe com avanço da Petrobras e alta de mais de 6% da Vale\n",
            "Dólar tem dia de baixa de 0,24%, co\n"
          ]
        },
        {
          "output_type": "stream",
          "name": "stderr",
          "text": [
            "Setting `pad_token_id` to `eos_token_id`:50256 for open-end generation.\n"
          ]
        },
        {
          "output_type": "stream",
          "name": "stdout",
          "text": [
            "Dólar tem dia de baixa de 0,24%, cotado a R$ 2,295\n",
            "Bolsa fica estável após dados do setor financeiro e tem pior semana para outubro seguido\n",
            "Dólar passa a cair e termina a semana no patamar de R\n"
          ]
        },
        {
          "output_type": "stream",
          "name": "stderr",
          "text": [
            "Setting `pad_token_id` to `eos_token_id`:50256 for open-end generation.\n"
          ]
        },
        {
          "output_type": "stream",
          "name": "stdout",
          "text": [
            "Dólar passa a cair e termina a semana no patamar de R$ 3,25\n",
            "Com dívida maior, setor de tecnologia investe para se reaproximar com clientes\n",
            "Bolsa de São Paulo: Ibovespa abre em alta de 1,26\n"
          ]
        },
        {
          "output_type": "stream",
          "name": "stderr",
          "text": [
            "Setting `pad_token_id` to `eos_token_id`:50256 for open-end generation.\n"
          ]
        },
        {
          "output_type": "stream",
          "name": "stdout",
          "text": [
            "Bolsa de São Paulo: Ibovespa abre em alta de 1,26%\n",
            "Explosões são explodidos na fronteira entre Brasil e Paraguai\n",
            "Bovespa recua 0,25% e dólar atinge R$ 1,83 com cenário\n"
          ]
        },
        {
          "output_type": "stream",
          "name": "stderr",
          "text": [
            "Setting `pad_token_id` to `eos_token_id`:50256 for open-end generation.\n"
          ]
        },
        {
          "output_type": "stream",
          "name": "stdout",
          "text": [
            "Bovespa recua 0,25% e dólar atinge R$ 1,83 com cenário político\n",
            "Veja os destaques do Tem Notícias de Sorocaba nesta sexta-feira (21)\n",
            "Grupo explode agência do Banco do Brasil em Itaú de Minas, MG\n"
          ]
        },
        {
          "output_type": "stream",
          "name": "stderr",
          "text": [
            "Setting `pad_token_id` to `eos_token_id`:50256 for open-end generation.\n"
          ]
        },
        {
          "output_type": "stream",
          "name": "stdout",
          "text": [
            "Grupo explode agência do Banco do Brasil em Itaú de Minas, MG\n",
            "Criminosos fazem reféns após assalto a banco em Milagres\n",
            "Bovespa cai 0,47%, mas garante alta no mês com PIB fraco\n",
            "Ibovespa recua 1,32%,\n"
          ]
        },
        {
          "output_type": "stream",
          "name": "stderr",
          "text": [
            "Setting `pad_token_id` to `eos_token_id`:50256 for open-end generation.\n"
          ]
        },
        {
          "output_type": "stream",
          "name": "stdout",
          "text": [
            "Ibovespa recua 1,32%, aos 67 desabrigados em PE após temporal\n",
            "Bandidos explodem agência do Banco do Brasil em Tucuruí\n",
            "Receita libera consulta a 5.928 lotes residuais do PIS pelo 11º dia\n"
          ]
        },
        {
          "output_type": "stream",
          "name": "stderr",
          "text": [
            "Setting `pad_token_id` to `eos_token_id`:50256 for open-end generation.\n"
          ]
        },
        {
          "output_type": "stream",
          "name": "stdout",
          "text": [
            "Receita libera consulta a 5.928 lotes residuais do PIS pelo 11º dia\n",
            "Ibovespa recupera os 68 mil pontos, mas recua após 3 dias de queda\n",
            "Em busca de novas propostas, Bolsonaro defende inclusão digital e a defesa do\n"
          ]
        },
        {
          "output_type": "stream",
          "name": "stderr",
          "text": [
            "Setting `pad_token_id` to `eos_token_id`:50256 for open-end generation.\n"
          ]
        },
        {
          "output_type": "stream",
          "name": "stdout",
          "text": [
            "Em busca de novas propostas, Bolsonaro defende inclusão digital e a defesa do consumidor\n",
            "Bolsonaro diz esperar eleições no Brasil em 2017\n",
            "Justiça manda banco liberar verba para tentar limpar nome no cadastro de consumidores\n",
            "Grupo PPI quer levar de volta R$1 bilhão\n",
            "Grupo PPI quer levar de volta R$1 bilhão para o FGTS\n",
            "Bovespa fecha em baixa, acompanhando bom humor externo\n",
            "Polícia investiga suposta fraude em concurso público de medicina do RJ\n",
            "Brasil tem saída de US$ 2,2\n"
          ]
        }
      ],
      "source": [
        "for i in range(start_from_epoch+1,start_from_epoch+2):\n",
        "  iteration_model_path = os.path.join(model_drive_dir, \"epoch_\" + str(i))\n",
        "\n",
        "  trainer.train()\n",
        "\n",
        "  print(\"Saving model to: \"+iteration_model_path)\n",
        "  trainer.save_model (iteration_model_path)\n",
        "\n",
        "  metrics = str(trainer.evaluate())\n",
        "  print(metrics)\n",
        "  save_metrics(iteration_model_path, metrics)\n",
        "\n",
        "  noticias = generate_noticias(iteration_model_path, model_name, 500)\n",
        "  save_noticias_geradas(iteration_model_path, noticias)\n",
        "\n",
        "\n",
        "start_from_epoch=+5"
      ]
    },
    {
      "cell_type": "code",
      "execution_count": null,
      "metadata": {
        "id": "SvLF4JLS4KtR",
        "colab": {
          "base_uri": "https://localhost:8080/"
        },
        "outputId": "bdd4660f-4ec4-474c-804b-d865a9ee3fc0"
      },
      "outputs": [
        {
          "output_type": "stream",
          "name": "stdout",
          "text": [
            "Gerando 500 noticias com o modelo: /content/drive/MyDrive/gpt2-noticias/pierreguillou/gpt2-small-portuguese/2023_10_17_0001/epoch_1, tokenizer=pierreguillou/gpt2-small-portuguese\n"
          ]
        },
        {
          "output_type": "stream",
          "name": "stderr",
          "text": [
            "Setting `pad_token_id` to `eos_token_id`:50256 for open-end generation.\n",
            "Setting `pad_token_id` to `eos_token_id`:50256 for open-end generation.\n"
          ]
        },
        {
          "output_type": "stream",
          "name": "stdout",
          "text": [
            "Dólar opera instável nesta sexta, após Fed sinalizar abertura da bolsa\n",
            "Receita abre consulta ao 2º lote de restituições do Imposto de Renda 2017 nesta segunda\n",
            "Moradores de Itu têm que pagar para ver o Carnaval; confira como\n"
          ]
        },
        {
          "output_type": "stream",
          "name": "stderr",
          "text": [
            "Setting `pad_token_id` to `eos_token_id`:50256 for open-end generation.\n"
          ]
        },
        {
          "output_type": "stream",
          "name": "stdout",
          "text": [
            "Moradores de Itu têm que pagar para ver o Carnaval; confira como participar\n",
            "No Rio, banco de sangue do Hospital-SP recebe doação de doações\n",
            "Bovespa cede 0,40% e encerra a semana em queda\n",
            "Homem é preso\n"
          ]
        },
        {
          "output_type": "stream",
          "name": "stderr",
          "text": [
            "Setting `pad_token_id` to `eos_token_id`:50256 for open-end generation.\n"
          ]
        },
        {
          "output_type": "stream",
          "name": "stdout",
          "text": [
            "Homem é preso em casa abandonado por funcionários na Paraíba\n",
            "Lucro da Gol dispara 3,2% no 2o trimestre e atinge R$ 10,7 bi\n",
            "Ex-diretor da Petrobrás quer ter até fim dia 8 para concluir oferta da LL\n"
          ]
        },
        {
          "output_type": "stream",
          "name": "stderr",
          "text": [
            "Setting `pad_token_id` to `eos_token_id`:50256 for open-end generation.\n"
          ]
        },
        {
          "output_type": "stream",
          "name": "stdout",
          "text": [
            "Ex-diretor da Petrobrás quer ter até fim dia 8 para concluir oferta da LLX\n",
            "Brasil lidera a América Latina por 2,5% da arrecadação de ICMS indica que empresa de Eike lidera redução de desemprego em São Paulo\n",
            "Boves\n"
          ]
        },
        {
          "output_type": "stream",
          "name": "stderr",
          "text": [
            "Setting `pad_token_id` to `eos_token_id`:50256 for open-end generation.\n"
          ]
        },
        {
          "output_type": "stream",
          "name": "stdout",
          "text": [
            "Bovespa opera em queda nesta quarta\n",
            "Bovespa recua nesta quinta, mas sobe quase 3% na semana\n",
            "Em um dia, mais de 11 milhões deixaram o Brasil neste domingo\n",
            "BC anuncia novo corte de juros nos conta corrente e no ab\n"
          ]
        },
        {
          "output_type": "stream",
          "name": "stderr",
          "text": [
            "Setting `pad_token_id` to `eos_token_id`:50256 for open-end generation.\n"
          ]
        },
        {
          "output_type": "stream",
          "name": "stdout",
          "text": [
            "BC anuncia novo corte de juros nos conta corrente e no abono salarial de 2017\n",
            "Polícia prende suspeitos de sequestro milionário em banco de João Pessoa\n",
            "BC diz que crise política afeta investimentos\n",
            "O golpe do sapato, uma história com as escolas de samba\n"
          ]
        },
        {
          "output_type": "stream",
          "name": "stderr",
          "text": [
            "Setting `pad_token_id` to `eos_token_id`:50256 for open-end generation.\n"
          ]
        },
        {
          "output_type": "stream",
          "name": "stdout",
          "text": [
            "O golpe do sapato, uma história com as escolas de samba no Brasil\n",
            "Criminosos fazem buraco em parede e explodem loja na Zona Sul de Teresina\n",
            "Grupo rende funcionários e foge com reféns e armas em Sorocaba\n",
            "Agência é assaltada em Ribeirão\n"
          ]
        },
        {
          "output_type": "stream",
          "name": "stderr",
          "text": [
            "Setting `pad_token_id` to `eos_token_id`:50256 for open-end generation.\n"
          ]
        },
        {
          "output_type": "stream",
          "name": "stdout",
          "text": [
            "Agência é assaltada em Ribeirão Preto\n",
            "OGX mantém lucro de R$ 3,7 bilhões no 2º trimestre\n",
            "Bovespa recua e perde linha dos 64 mil pontos\n",
            "Bovespa fecha em alta, com ajuda grega\n"
          ]
        },
        {
          "output_type": "stream",
          "name": "stderr",
          "text": [
            "Setting `pad_token_id` to `eos_token_id`:50256 for open-end generation.\n"
          ]
        },
        {
          "output_type": "stream",
          "name": "stdout",
          "text": [
            "Bovespa fecha em alta, com ajuda grega e investidor\n",
            "Bandidos explodem banco e roubam agência do RN\n",
            "Conheça 15 espécies de aves, incluindo o papagaio-de-papo azul de Madagascar\n",
            "Oferta de papéis do\n"
          ]
        },
        {
          "output_type": "stream",
          "name": "stderr",
          "text": [
            "Setting `pad_token_id` to `eos_token_id`:50256 for open-end generation.\n"
          ]
        },
        {
          "output_type": "stream",
          "name": "stdout",
          "text": [
            "Oferta de papéis do Pão de Açúcar supera investimento em US$ 10 bi por 3ª semana\n",
            "Governo quer renegociações a bancos e estatais\n",
            "Bovespa sobe com piora no cenário externo\n",
            "Brasil recebe o primeiro banco comercial dos EUA\n"
          ]
        },
        {
          "output_type": "stream",
          "name": "stderr",
          "text": [
            "Setting `pad_token_id` to `eos_token_id`:50256 for open-end generation.\n"
          ]
        },
        {
          "output_type": "stream",
          "name": "stdout",
          "text": [
            "Brasil recebe o primeiro banco comercial dos EUA que atua no setor financeiro\n",
            "Veja quais os melhores países do mercado de trabalho do mundo\n",
            "Dólar tem pior semana desde a abertura e fecha em R$ 3,45\n",
            "Ibovespa cai 1,9\n"
          ]
        },
        {
          "output_type": "stream",
          "name": "stderr",
          "text": [
            "Setting `pad_token_id` to `eos_token_id`:50256 for open-end generation.\n"
          ]
        },
        {
          "output_type": "stream",
          "name": "stdout",
          "text": [
            "Ibovespa cai 1,9% no fechamento de pregão com mercado à espera de dados no exterior\n",
            "Veja o que abre e o que fecha em Fortaleza no feriado de Nossa Senhora da Aparecida\n",
            "Confira as vagas de emprego abertas no Brasil\n"
          ]
        },
        {
          "output_type": "stream",
          "name": "stderr",
          "text": [
            "Setting `pad_token_id` to `eos_token_id`:50256 for open-end generation.\n"
          ]
        },
        {
          "output_type": "stream",
          "name": "stdout",
          "text": [
            "Confira as vagas de emprego abertas no Brasil\n",
            "Reação de Trump ao PIB gera queda nas exportações de frango\n",
            "Dólar opera em alta, em dia de jogo do Brasil\n",
            "Bovespa cai mais de 3% e dólar sobe maisgaria monopólio\n"
          ]
        },
        {
          "output_type": "stream",
          "name": "stderr",
          "text": [
            "Setting `pad_token_id` to `eos_token_id`:50256 for open-end generation.\n"
          ]
        },
        {
          "output_type": "stream",
          "name": "stdout",
          "text": [
            "Bovespa cai mais de 3% e dólar sobe maisgaria monopólio\n",
            "BC reduz taxa para juros e vê inflação mais alta e em alta acima de 1%\n",
            "Eike desiste de proposta de venda de controle bancária, diz diretor de empresa\n",
            "Banco\n"
          ]
        },
        {
          "output_type": "stream",
          "name": "stderr",
          "text": [
            "Setting `pad_token_id` to `eos_token_id`:50256 for open-end generation.\n"
          ]
        },
        {
          "output_type": "stream",
          "name": "stdout",
          "text": [
            "Banco de São José do Vale do Rio Preto (RJ)\n",
            "Ações da Petrobrás perdem 1,6% após acordo com Dilma\n",
            "Brasil está preparado para crise, diz Feirão Limpa\n",
            "Confira o que abre e o que fecha no feriado\n"
          ]
        },
        {
          "output_type": "stream",
          "name": "stderr",
          "text": [
            "Setting `pad_token_id` to `eos_token_id`:50256 for open-end generation.\n"
          ]
        },
        {
          "output_type": "stream",
          "name": "stdout",
          "text": [
            "Confira o que abre e o que fecha no feriado da Independência; confira as\n",
            "Bovespa fecha em alta nesta terça (23) mesmo sem dados positivos nos EUA\n",
            "Polícia Militar recupera reféns e troca tiros com grupo que assaltava Bancos\n"
          ]
        },
        {
          "output_type": "stream",
          "name": "stderr",
          "text": [
            "Setting `pad_token_id` to `eos_token_id`:50256 for open-end generation.\n"
          ]
        },
        {
          "output_type": "stream",
          "name": "stdout",
          "text": [
            "Polícia Militar recupera reféns e troca tiros com grupo que assaltava Bancos abrem inscrições e vagas na PB para concursos de trainee\n",
            "BB inicia migração de correntistas espanhóis para cartão\n",
            "Dólar opera estável com bom humor externo; Ibovespa\n"
          ]
        },
        {
          "output_type": "stream",
          "name": "stderr",
          "text": [
            "Setting `pad_token_id` to `eos_token_id`:50256 for open-end generation.\n"
          ]
        },
        {
          "output_type": "stream",
          "name": "stdout",
          "text": [
            "Dólar opera estável com bom humor externo; Ibovespa firma baixa\n",
            "Dólar é negociado a R$ 3,22, alta de 0,62%, em dia de correção no desempenho do PIB\n",
            "Bolsas dos EUA abrem em baixa após dados\n"
          ]
        },
        {
          "output_type": "stream",
          "name": "stderr",
          "text": [
            "Setting `pad_token_id` to `eos_token_id`:50256 for open-end generation.\n"
          ]
        },
        {
          "output_type": "stream",
          "name": "stdout",
          "text": [
            "Bolsas dos EUA abrem em baixa após dados dos EUA\n",
            "Ibovespa inicia negócios em alta\n",
            "Bandidos explodem bancos e dão fogo a policiais na Bahia\n",
            "Mercado reduz estimativa de crescimento do PIB brasileiro em 2017 de 2,3% para 2\n"
          ]
        },
        {
          "output_type": "stream",
          "name": "stderr",
          "text": [
            "Setting `pad_token_id` to `eos_token_id`:50256 for open-end generation.\n"
          ]
        },
        {
          "output_type": "stream",
          "name": "stdout",
          "text": [
            "Mercado reduz estimativa de crescimento do PIB brasileiro em 2017 de 2,3% para 2,5% em 2018\n",
            "Dólar fecha em alta após decisão do Copom\n",
            "Dólar sobe 0,57% por dados de emprego nos EUA e\n"
          ]
        },
        {
          "output_type": "stream",
          "name": "stderr",
          "text": [
            "Setting `pad_token_id` to `eos_token_id`:50256 for open-end generation.\n"
          ]
        },
        {
          "output_type": "stream",
          "name": "stdout",
          "text": [
            "Dólar sobe 0,57% por dados de emprego nos EUA e cautela com Previdência\n",
            "Com atraso, agência fecha em SP de novo e causa problemas para clientes\n",
            "Polícia acredita que homem usava dispositivo para subornar Polícia desarma quadrilha suspeita de tráfico de\n"
          ]
        },
        {
          "output_type": "stream",
          "name": "stderr",
          "text": [
            "Setting `pad_token_id` to `eos_token_id`:50256 for open-end generation.\n"
          ]
        },
        {
          "output_type": "stream",
          "name": "stdout",
          "text": [
            "Polícia acredita que homem usava dispositivo para subornar Polícia desarma quadrilha suspeita de tráfico de drogas em Itu\n",
            "BB eleva juro do cartão de crédito por três meses. Com juro menor, mercado de crédito já prevê retorno de dólares\n",
            "Bovespa cai\n"
          ]
        },
        {
          "output_type": "stream",
          "name": "stderr",
          "text": [
            "Setting `pad_token_id` to `eos_token_id`:50256 for open-end generation.\n"
          ]
        },
        {
          "output_type": "stream",
          "name": "stdout",
          "text": [
            "Bovespa cai pelo 4º pregão seguido\n",
            "Bolsas dos EUA fecham em baixa nesta terça após quatro dias de alta\n",
            "Dólar fecha a R$ 1,75; Bovespa opera em alta\n",
            "Bovespa opera sob influência\n"
          ]
        },
        {
          "output_type": "stream",
          "name": "stderr",
          "text": [
            "Setting `pad_token_id` to `eos_token_id`:50256 for open-end generation.\n"
          ]
        },
        {
          "output_type": "stream",
          "name": "stdout",
          "text": [
            "Bovespa opera sob influência de exterior e na China\n",
            "Brasil cresce 0,48% em 2010 e não prevê piora econômica para 2011\n",
            "Em PE, quadrilha metralha delegacia e faz assalto na frente da sede do BB\n",
            "Dilma diz que Brasil pode\n"
          ]
        },
        {
          "output_type": "stream",
          "name": "stderr",
          "text": [
            "Setting `pad_token_id` to `eos_token_id`:50256 for open-end generation.\n"
          ]
        },
        {
          "output_type": "stream",
          "name": "stdout",
          "text": [
            "Dilma diz que Brasil pode ser o maior exportadora do mundo\n",
            "Bovespa opera em alta, com mercado atento ao cenário político e ao Fed\n",
            "Em busca de novas empresas, Ibovespa reduz ganhos no pregão para 3,47\n"
          ]
        },
        {
          "output_type": "stream",
          "name": "stderr",
          "text": [
            "Setting `pad_token_id` to `eos_token_id`:50256 for open-end generation.\n"
          ]
        },
        {
          "output_type": "stream",
          "name": "stdout",
          "text": [
            "Em busca de novas empresas, Ibovespa reduz ganhos no pregão para 3,47%\n",
            "Veja a repercussão de declarações de Lula sobre o FMI\n",
            "Bandidos explodem caixas eletrônicos de banco de Brotas, RO\n",
            "Bovespa sobe 0\n"
          ]
        },
        {
          "output_type": "stream",
          "name": "stderr",
          "text": [
            "Setting `pad_token_id` to `eos_token_id`:50256 for open-end generation.\n"
          ]
        },
        {
          "output_type": "stream",
          "name": "stdout",
          "text": [
            "Bovespa sobe 0,27% na abertura dos negócios; dólar bate R$ 1,82\n",
            "Ações da Petrobras desabam após anúncio de nova medida de frete\n",
            "PIS/Pasep começa nesta sexta-feira para quem já\n"
          ]
        },
        {
          "output_type": "stream",
          "name": "stderr",
          "text": [
            "Setting `pad_token_id` to `eos_token_id`:50256 for open-end generation.\n"
          ]
        },
        {
          "output_type": "stream",
          "name": "stdout",
          "text": [
            "PIS/Pasep começa nesta sexta-feira para quem já tem CPF\n",
            "Quadrilha explode banco e rouba dinheiro de gerente, diz PM\n",
            "Bovespa abre em leve ligeira alta nesta quinta-feira\n",
            "Moodys rebaixa nota\n"
          ]
        },
        {
          "output_type": "stream",
          "name": "stderr",
          "text": [
            "Setting `pad_token_id` to `eos_token_id`:50256 for open-end generation.\n"
          ]
        },
        {
          "output_type": "stream",
          "name": "stdout",
          "text": [
            "Moodys rebaixa nota de crédito de cinco bancos brasileiros por má gestão\n",
            "Dilma se apresenta nesta sexta e critica pessimismo dos empresários\n",
            "Governo Bolsonaro autoriza aumento no prazo para pagamento da aposentadoria\n",
            "Bolsa cai 6% com piora da crise e ações do\n"
          ]
        },
        {
          "output_type": "stream",
          "name": "stderr",
          "text": [
            "Setting `pad_token_id` to `eos_token_id`:50256 for open-end generation.\n"
          ]
        },
        {
          "output_type": "stream",
          "name": "stdout",
          "text": [
            "Bolsa cai 6% com piora da crise e ações do Pão de Açúcar recuam\n",
            "Redação do Enem 2018: veja 20 concursos que vão concorrer por cada região do país\n",
            "Após perder espaço nos anos 1990, Bradesco tem a maior sequência de\n"
          ]
        },
        {
          "output_type": "stream",
          "name": "stderr",
          "text": [
            "Setting `pad_token_id` to `eos_token_id`:50256 for open-end generation.\n"
          ]
        },
        {
          "output_type": "stream",
          "name": "stdout",
          "text": [
            "Após perder espaço nos anos 1990, Bradesco tem a maior sequência de altas\n",
            "Bolsa recua mais de 1% após pesquisa eleitoral e piora de indicadores externo\n",
            "Após ser ofuscado pela Oi, ações da Natura preocupam\n",
            "BC quer evitar alta mais profunda do\n"
          ]
        },
        {
          "output_type": "stream",
          "name": "stderr",
          "text": [
            "Setting `pad_token_id` to `eos_token_id`:50256 for open-end generation.\n"
          ]
        },
        {
          "output_type": "stream",
          "name": "stdout",
          "text": [
            "BC quer evitar alta mais profunda do dólar neste ano e tenta manter o preço do real abaixo de R$ 4\n",
            "No primeiro semestre do ano, a queda das ações da BM&FBovespa é de 8,6%\n",
            "Polícia suspeita de\n"
          ]
        },
        {
          "output_type": "stream",
          "name": "stderr",
          "text": [
            "Setting `pad_token_id` to `eos_token_id`:50256 for open-end generation.\n"
          ]
        },
        {
          "output_type": "stream",
          "name": "stdout",
          "text": [
            "Polícia suspeita de golpe na Avenida Brasil\n",
            "Repatriação de imóveis pode dobrar em até três anos\n",
            "Exibição do filme O Homem que Te Amo com Cláudia Raia e mostra de filmes de Sergio Reis, são destaques grátis do festival\n",
            "Brasil\n"
          ]
        },
        {
          "output_type": "stream",
          "name": "stderr",
          "text": [
            "Setting `pad_token_id` to `eos_token_id`:50256 for open-end generation.\n"
          ]
        },
        {
          "output_type": "stream",
          "name": "stdout",
          "text": [
            "Brasil, SP\n",
            "Juros em casa devem disparar e fechar a terça-feira (11) em alta\n",
            "Banco Central lança novo mapa com as medidas econômicas recomendadas para o país\n",
            "Banco de alimentos do Jardim Itaú em São Carlos (SP) será\n"
          ]
        },
        {
          "output_type": "stream",
          "name": "stderr",
          "text": [
            "Setting `pad_token_id` to `eos_token_id`:50256 for open-end generation.\n"
          ]
        },
        {
          "output_type": "stream",
          "name": "stdout",
          "text": [
            "Banco de alimentos do Jardim Itaú em São Carlos (SP) será totalmente reconstruído\n",
            "‘O Tesouro tem que dar muito crédito ao setor privado’\n",
            "Banco Central Europeu reduz perspectiva de crescimento do Brasil\n",
            "Confira os eventos com atrações gratuitas em Itápolis,\n"
          ]
        },
        {
          "output_type": "stream",
          "name": "stderr",
          "text": [
            "Setting `pad_token_id` to `eos_token_id`:50256 for open-end generation.\n"
          ]
        },
        {
          "output_type": "stream",
          "name": "stdout",
          "text": [
            "Confira os eventos com atrações gratuitas em Itápolis, SP\n",
            "Dólar cai quase 1% por cautela com Europa; Bolsa sobe\n",
            "Com crise externa em pleno compasso, empresas recuam de rendimento\n",
            "Dilma descarta intervenção do BC em ajuste fiscal e\n"
          ]
        },
        {
          "output_type": "stream",
          "name": "stderr",
          "text": [
            "Setting `pad_token_id` to `eos_token_id`:50256 for open-end generation.\n"
          ]
        },
        {
          "output_type": "stream",
          "name": "stdout",
          "text": [
            "Dilma descarta intervenção do BC em ajuste fiscal e diz que não deve apoiar medidas privatizações\n",
            "Bovespa opera em alta no dia e na semana\n",
            "Criminosos explodem caixa eletrônico no Centro de Marapuã\n",
            "Banco Intermunicipal\n"
          ]
        },
        {
          "output_type": "stream",
          "name": "stderr",
          "text": [
            "Setting `pad_token_id` to `eos_token_id`:50256 for open-end generation.\n"
          ]
        },
        {
          "output_type": "stream",
          "name": "stdout",
          "text": [
            "Banco Intermunicipal realiza censo sobre religião e religião nas obras da avenida Paulista\n",
            "Após duas quedas, Bolsa tem a maior queda diária em um ano com crise\n",
            "Bancos dos EUA decidem vender ativos no Brasil\n",
            "O que abre e fecha no Rio no\n"
          ]
        },
        {
          "output_type": "stream",
          "name": "stderr",
          "text": [
            "Setting `pad_token_id` to `eos_token_id`:50256 for open-end generation.\n"
          ]
        },
        {
          "output_type": "stream",
          "name": "stdout",
          "text": [
            "O que abre e fecha no Rio no dia do jogo Brasil contra a Croácia\n",
            "Bancos de sangue precisam de ajuda de mais de 800 doadores em Petrolina\n",
            "Bolsonaro, candidato de Bolsonaro, diz que não acredita em Previdência\n",
            "Em três meses, número de\n"
          ]
        },
        {
          "output_type": "stream",
          "name": "stderr",
          "text": [
            "Setting `pad_token_id` to `eos_token_id`:50256 for open-end generation.\n"
          ]
        },
        {
          "output_type": "stream",
          "name": "stdout",
          "text": [
            "Em três meses, número de ataques a bancos continua alto no RS\n",
            "Dólar fecha em baixa nesta sexta, mas registra saída de R$ 1,3 bilhão\n",
            "Bovespa vira e passa a subir em dia de feriado nos EUA\n",
            "Lucro\n"
          ]
        },
        {
          "output_type": "stream",
          "name": "stderr",
          "text": [
            "Setting `pad_token_id` to `eos_token_id`:50256 for open-end generation.\n"
          ]
        },
        {
          "output_type": "stream",
          "name": "stdout",
          "text": [
            "Lucro da Ambev sobe mais de 3% com rumores de saída de executivo\n",
            "ENTREVISTA-Anbima lança novo carro e aposta em novo estilo de plataforma\n",
            "Brasil quer investir mais R$ 100 bi em ferrovias nos próximos\n"
          ]
        },
        {
          "output_type": "stream",
          "name": "stderr",
          "text": [
            "Setting `pad_token_id` to `eos_token_id`:50256 for open-end generation.\n"
          ]
        },
        {
          "output_type": "stream",
          "name": "stdout",
          "text": [
            "Brasil quer investir mais R$ 100 bi em ferrovias nos próximos dois anos\n",
            "Após três baixas, Ibovespa segue mercados internos e sobe 0,51%; dólar avança com exterior e Vale\n",
            "Ibovespa fecha com alta de 0,51%\n"
          ]
        },
        {
          "output_type": "stream",
          "name": "stderr",
          "text": [
            "Setting `pad_token_id` to `eos_token_id`:50256 for open-end generation.\n"
          ]
        },
        {
          "output_type": "stream",
          "name": "stdout",
          "text": [
            "Ibovespa fecha com alta de 0,51%\n",
            "Ibovespa abre alta de 1,55% e rompe os 63 mil pontos\n",
            "Governo diz que não é preocupação com plano comercial de R$ 9 bi\n",
            "Previsão é de chuva\n"
          ]
        },
        {
          "output_type": "stream",
          "name": "stderr",
          "text": [
            "Setting `pad_token_id` to `eos_token_id`:50256 for open-end generation.\n"
          ]
        },
        {
          "output_type": "stream",
          "name": "stdout",
          "text": [
            "Previsão é de chuva antes do carnaval em MG\n",
            "Dólar fecha em queda nesta quarta, em torno de R$ 3,20\n",
            "BB e BB-Saúde são as marcas mais valiosas do consumidor em julho, diz consultoria\n",
            "No Brasil,\n"
          ]
        },
        {
          "output_type": "stream",
          "name": "stderr",
          "text": [
            "Setting `pad_token_id` to `eos_token_id`:50256 for open-end generation.\n"
          ]
        },
        {
          "output_type": "stream",
          "name": "stdout",
          "text": [
            "No Brasil, Brasil conquista medalha olímpica em matemática\n",
            "No Japão, Dilma avalia plano de recuperação para economia\n",
            "Confira programação do Projeto Férias de Diversão para crianças com doenças que afetam a mãe\n",
            "Juros futuros recuam e vão parar de crescer\n"
          ]
        },
        {
          "output_type": "stream",
          "name": "stderr",
          "text": [
            "Setting `pad_token_id` to `eos_token_id`:50256 for open-end generation.\n"
          ]
        },
        {
          "output_type": "stream",
          "name": "stdout",
          "text": [
            "Juros futuros recuam e vão parar de crescer\n",
            "Brasil está entre países com mais casos de corrupção\n",
            "Com mercado financeiro, Bolsa sobe 5,2%\n",
            "Mais uma vítima está foragida de banco, afirma PM da Paraíba\n",
            "Bovespa\n"
          ]
        },
        {
          "output_type": "stream",
          "name": "stderr",
          "text": [
            "Setting `pad_token_id` to `eos_token_id`:50256 for open-end generation.\n"
          ]
        },
        {
          "output_type": "stream",
          "name": "stdout",
          "text": [
            "Bovespa fecha com desvalorização nesta sexta-feira\n",
            "Bovespa fecha em alta após quatro quedas seguidas na semana\n",
            "Dólar fecha em baixa e volta a R$ 4,15, menor valor desde 2008\n",
            "Ibovespa cai após anúncio de\n"
          ]
        },
        {
          "output_type": "stream",
          "name": "stderr",
          "text": [
            "Setting `pad_token_id` to `eos_token_id`:50256 for open-end generation.\n"
          ]
        },
        {
          "output_type": "stream",
          "name": "stdout",
          "text": [
            "Ibovespa cai após anúncio de fusão de petroleiras com a Brasil Brasil Offshore\n",
            "Criminosos destroem agência bancária\n",
            "Justiça de SP determina bloqueio de bens de envolvidos em assalto a Correios\n",
            "Caixa eletrônico é arrombado em supermercado de\n"
          ]
        },
        {
          "output_type": "stream",
          "name": "stderr",
          "text": [
            "Setting `pad_token_id` to `eos_token_id`:50256 for open-end generation.\n"
          ]
        },
        {
          "output_type": "stream",
          "name": "stdout",
          "text": [
            "Caixa eletrônico é arrombado em supermercado de Itu\n",
            "Bovespa opera em alta após dados dos EUA e em dia de poucos negócios\n",
            "Dólar sobe com anúncio de medidas fiscais e após feriado nos EUA\n",
            "Dólar fecha a R$ 1\n"
          ]
        },
        {
          "output_type": "stream",
          "name": "stderr",
          "text": [
            "Setting `pad_token_id` to `eos_token_id`:50256 for open-end generation.\n"
          ]
        },
        {
          "output_type": "stream",
          "name": "stdout",
          "text": [
            "Dólar fecha a R$ 1,76; Bovespa cede 0,33%\n",
            "Bovespa encerra o pregão em baixa apesar do maior volume em 14 meses\n",
            "Veja na íntegra todo o processo que movimentou a cidade de Ponta Grossa\n"
          ]
        },
        {
          "output_type": "stream",
          "name": "stderr",
          "text": [
            "Setting `pad_token_id` to `eos_token_id`:50256 for open-end generation.\n"
          ]
        },
        {
          "output_type": "stream",
          "name": "stdout",
          "text": [
            "Veja na íntegra todo o processo que movimentou a cidade de Ponta Grossa\n",
            "Homem é detido depois de sacar dinheiro dentro de banco em Itu\n",
            "Bovespa amplia queda, enquanto ações da Petrobras sobem\n",
            "Bovespa ganha 0,77% com\n"
          ]
        },
        {
          "output_type": "stream",
          "name": "stderr",
          "text": [
            "Setting `pad_token_id` to `eos_token_id`:50256 for open-end generation.\n"
          ]
        },
        {
          "output_type": "stream",
          "name": "stdout",
          "text": [
            "Bovespa ganha 0,77% com volume fraco\n",
            "Quadrilha que assaltou banco em Monte Alegre assalta dois bancos no estado\n",
            "Bovespa sobe pelo sexto dia e dólar encosta nos R$ 3,57\n",
            "Bovespa cai no\n"
          ]
        },
        {
          "output_type": "stream",
          "name": "stderr",
          "text": [
            "Setting `pad_token_id` to `eos_token_id`:50256 for open-end generation.\n"
          ]
        },
        {
          "output_type": "stream",
          "name": "stdout",
          "text": [
            "Bovespa cai no pregão desta terça\n",
            "Para Brasil, dólar está com mais de 3% da dívida pública\n",
            "Bolsa cai pressionada por dados da China e cautela externa\n",
            "Ibovespa recua com cena externa e cautela com eleição nos EUA\n"
          ]
        },
        {
          "output_type": "stream",
          "name": "stderr",
          "text": [
            "Setting `pad_token_id` to `eos_token_id`:50256 for open-end generation.\n"
          ]
        },
        {
          "output_type": "stream",
          "name": "stdout",
          "text": [
            "Ibovespa recua com cena externa e cautela com eleição nos EUA\n",
            "O que você precisa saber para começar este 30 de novembro de 2019\n",
            "Presidente da Petrobrás defende câmbio e pede que Dilma vete veto ao projeto\n",
            "Bovespa vira e passa\n"
          ]
        },
        {
          "output_type": "stream",
          "name": "stderr",
          "text": [
            "Setting `pad_token_id` to `eos_token_id`:50256 for open-end generation.\n"
          ]
        },
        {
          "output_type": "stream",
          "name": "stdout",
          "text": [
            "Bovespa vira e passa a operar em alta nesta segunda\n",
            "Petrobras registra lucro inferior a da Ambev, que tem prejuízo de R$ 1,7 bi\n",
            "Bovespa segue os EUA e tem leve queda nesta quinta-feira\n",
            "Banco Mundial\n"
          ]
        },
        {
          "output_type": "stream",
          "name": "stderr",
          "text": [
            "Setting `pad_token_id` to `eos_token_id`:50256 for open-end generation.\n"
          ]
        },
        {
          "output_type": "stream",
          "name": "stdout",
          "text": [
            "Banco Mundial\n",
            "Em São Paulo, bancos são arrombados por bandidos\n",
            "Dólar fecha próximo de R$ 2,17 em dia de agenda vazia Gênesis e a espera de bancos estrangeiros\n",
            "Criminosos explodem caixas eletrônicos do BB no Alto Solimões\n"
          ]
        },
        {
          "output_type": "stream",
          "name": "stderr",
          "text": [
            "Setting `pad_token_id` to `eos_token_id`:50256 for open-end generation.\n"
          ]
        },
        {
          "output_type": "stream",
          "name": "stdout",
          "text": [
            "Criminosos explodem caixas eletrônicos do BB no Alto Solimões\n",
            "Dólar opera em queda nesta sexta, com piora no cenário externo\n",
            "Com crise, dólar recua para R$ 3,40, segundo maior cotação do ano\n",
            "Debate sobre\n"
          ]
        },
        {
          "output_type": "stream",
          "name": "stderr",
          "text": [
            "Setting `pad_token_id` to `eos_token_id`:50256 for open-end generation.\n"
          ]
        },
        {
          "output_type": "stream",
          "name": "stdout",
          "text": [
            "Debate sobre segurança em aeroportos segue na Câmara e na Presidência\n",
            "Após queda de 19%, lucro da Petrobrás cresce 12,6% no 2o tri\n",
            "Dilma não defende ajuste fiscal, mas defende inclusão social\n",
            "Quadrilha explode caixas eletrônicos de agências no\n"
          ]
        },
        {
          "output_type": "stream",
          "name": "stderr",
          "text": [
            "Setting `pad_token_id` to `eos_token_id`:50256 for open-end generation.\n"
          ]
        },
        {
          "output_type": "stream",
          "name": "stdout",
          "text": [
            "Quadrilha explode caixas eletrônicos de agências no RN\n",
            "Dólar fecha a R$ 1,72 com preocupações com o Brasil e exterior; Bolsa cai 1,8%\n",
            "Bolsa de São Paulo: Ibovespa fecha em baixa de 0,47%\n"
          ]
        },
        {
          "output_type": "stream",
          "name": "stderr",
          "text": [
            "Setting `pad_token_id` to `eos_token_id`:50256 for open-end generation.\n"
          ]
        },
        {
          "output_type": "stream",
          "name": "stdout",
          "text": [
            "Bolsa de São Paulo: Ibovespa fecha em baixa de 0,47%\n",
            "Ex-deputado, Aécio acusa Banco do Brasil de irregularidades\n",
            "Veja o plano de ação para salvar a economia no fim de 2013\n",
            "Brasil pode fazer acordo com os\n"
          ]
        },
        {
          "output_type": "stream",
          "name": "stderr",
          "text": [
            "Setting `pad_token_id` to `eos_token_id`:50256 for open-end generation.\n"
          ]
        },
        {
          "output_type": "stream",
          "name": "stdout",
          "text": [
            "Brasil pode fazer acordo com os EUA no futuro, diz Lula\n",
            "Bovespa acompanha mercados mundiais e opera em baixa; dólar atinge R$ 1,72\n",
            "Polícia busca em MT um dos suspeitos de instalar chupa-cabra em agência bancária\n"
          ]
        },
        {
          "output_type": "stream",
          "name": "stderr",
          "text": [
            "Setting `pad_token_id` to `eos_token_id`:50256 for open-end generation.\n"
          ]
        },
        {
          "output_type": "stream",
          "name": "stdout",
          "text": [
            "Polícia busca em MT um dos suspeitos de instalar chupa-cabra em agência bancária\n",
            "Bolsonaro diz que governo fará reforma da Previdência para conter crise\n",
            "Bovespa segue bom humor externo e avança 0,15%; dólar atinge R$ 1,\n"
          ]
        },
        {
          "output_type": "stream",
          "name": "stderr",
          "text": [
            "Setting `pad_token_id` to `eos_token_id`:50256 for open-end generation.\n"
          ]
        },
        {
          "output_type": "stream",
          "name": "stdout",
          "text": [
            "Bovespa segue bom humor externo e avança 0,15%; dólar atinge R$ 1,66\n",
            "Conheça o banco de DNA de cães da raça Aurobiae\n",
            "Bovespa fecha em queda nesta segunda-feira\n",
            "Quadrilha\n"
          ]
        },
        {
          "output_type": "stream",
          "name": "stderr",
          "text": [
            "Setting `pad_token_id` to `eos_token_id`:50256 for open-end generation.\n"
          ]
        },
        {
          "output_type": "stream",
          "name": "stdout",
          "text": [
            "Quadrilha explode cofre de agência e assalta delegacia na Bahia\n",
            "Bolsonaro deixa de ser presidente da Câmara de Brasília\n",
            "Homem é sequestrado após furtos em banco na Grande Brasília\n",
            "Bovespa sobe após abertura de Wall Street e tem alta de 1,\n"
          ]
        },
        {
          "output_type": "stream",
          "name": "stderr",
          "text": [
            "Setting `pad_token_id` to `eos_token_id`:50256 for open-end generation.\n"
          ]
        },
        {
          "output_type": "stream",
          "name": "stdout",
          "text": [
            "Bovespa sobe após abertura de Wall Street e tem alta de 1,29% no mês\n",
            "Quadrilha explode caixas eletrônicos de agência bancária em Boa Vista do Rio\n",
            "‘O Brasil você quer para o futuro? Quero ir e ler algo’\n"
          ]
        },
        {
          "output_type": "stream",
          "name": "stderr",
          "text": [
            "Setting `pad_token_id` to `eos_token_id`:50256 for open-end generation.\n"
          ]
        },
        {
          "output_type": "stream",
          "name": "stdout",
          "text": [
            "‘O Brasil você quer para o futuro? Quero ir e ler algo’\n",
            "Homem é preso por suspeita de participação em explosão de caixas eletrônicos em Arandaiabaçu\n",
            "Bovespa opera em alta após atingir menor valor em mais de um mês\n"
          ]
        },
        {
          "output_type": "stream",
          "name": "stderr",
          "text": [
            "Setting `pad_token_id` to `eos_token_id`:50256 for open-end generation.\n"
          ]
        },
        {
          "output_type": "stream",
          "name": "stdout",
          "text": [
            "Bovespa opera em alta após atingir menor valor em mais de um mês\n",
            "Ibovespa fecha em alta de 0,21%\n",
            "Governo vai anunciar ações para combater crise e diz que economia brasileira está em crise\n",
            "Bovespa sobe para 67\n"
          ]
        },
        {
          "output_type": "stream",
          "name": "stderr",
          "text": [
            "Setting `pad_token_id` to `eos_token_id`:50256 for open-end generation.\n"
          ]
        },
        {
          "output_type": "stream",
          "name": "stdout",
          "text": [
            "Bovespa sobe para 67.918 pontos; dólar vale R$ 1,79\n",
            "O Brasil é muito grande para você mesmo quando é difícil para você para mim fazer, diz ministro da Fazenda\n",
            "Bolsa opera mais de 2 dias em alta após\n"
          ]
        },
        {
          "output_type": "stream",
          "name": "stderr",
          "text": [
            "Setting `pad_token_id` to `eos_token_id`:50256 for open-end generation.\n"
          ]
        },
        {
          "output_type": "stream",
          "name": "stdout",
          "text": [
            "Bolsa opera mais de 2 dias em alta após aumento de juros dos EUA; Bovespa sobe\n",
            "Homem é preso por falsidade ideológica ao fugir após agredir companheiro em Itu\n",
            "Ibovespa registra alta\n",
            "Presidente do BC diz que inflação é pequena\n"
          ]
        },
        {
          "output_type": "stream",
          "name": "stderr",
          "text": [
            "Setting `pad_token_id` to `eos_token_id`:50256 for open-end generation.\n"
          ]
        },
        {
          "output_type": "stream",
          "name": "stdout",
          "text": [
            "Presidente do BC diz que inflação é pequena para nível de governo\n",
            "Ações da Petrobras sobem em dia de divulgação do balanço\n",
            "Ações da Petrobras caem forte com expectativa de redução nos juros\n",
            "Homem que atirou em vigilante e matou ex-policial em\n"
          ]
        },
        {
          "output_type": "stream",
          "name": "stderr",
          "text": [
            "Setting `pad_token_id` to `eos_token_id`:50256 for open-end generation.\n"
          ]
        },
        {
          "output_type": "stream",
          "name": "stdout",
          "text": [
            "Homem que atirou em vigilante e matou ex-policial em Itaí\n",
            "Dólar tem maior baixa em 6 meses; Fazenda mantém previsão para inflação e juros no menor patamar do ano\n",
            "Ibovespa fecha pregão com valorização de 1,52%,\n"
          ]
        },
        {
          "output_type": "stream",
          "name": "stderr",
          "text": [
            "Setting `pad_token_id` to `eos_token_id`:50256 for open-end generation.\n"
          ]
        },
        {
          "output_type": "stream",
          "name": "stdout",
          "text": [
            "Ibovespa fecha pregão com valorização de 1,52%, aos 61.098 pontos\n",
            "Governo estuda elevar juro básico de 7,35% a 10,25% ao ano até 2022\n",
            "Polícia investiga possíveis ataques a banco no MA;\n"
          ]
        },
        {
          "output_type": "stream",
          "name": "stderr",
          "text": [
            "Setting `pad_token_id` to `eos_token_id`:50256 for open-end generation.\n"
          ]
        },
        {
          "output_type": "stream",
          "name": "stdout",
          "text": [
            "Polícia investiga possíveis ataques a banco no MA; vídeo\n",
            "Veja os destaques do Tem Notícias de Sorocaba nesta quarta-feira (13)\n",
            "Bovespa segue mau humor externo e cai; dólar atinge R afirmando que país é capaz de lidar com a\n"
          ]
        },
        {
          "output_type": "stream",
          "name": "stderr",
          "text": [
            "Setting `pad_token_id` to `eos_token_id`:50256 for open-end generation.\n"
          ]
        },
        {
          "output_type": "stream",
          "name": "stdout",
          "text": [
            "Bovespa segue mau humor externo e cai; dólar atinge R afirmando que país é capaz de lidar com a crise\n",
            "Agência de risco de B3 é a mais cara do País e fecha no azul\n",
            "Bolsa de São Paulo: Ibovespa abre\n"
          ]
        },
        {
          "output_type": "stream",
          "name": "stderr",
          "text": [
            "Setting `pad_token_id` to `eos_token_id`:50256 for open-end generation.\n"
          ]
        },
        {
          "output_type": "stream",
          "name": "stdout",
          "text": [
            "Bolsa de São Paulo: Ibovespa abre em alta de 0,63%\n",
            "Bolsas dos EUA correm para fechar com leve baixa\n",
            "Ibovespa retoma de rumo e retoma de rumo no início do pregão\n",
            "Bolsonaro diz que vai dar\n"
          ]
        },
        {
          "output_type": "stream",
          "name": "stderr",
          "text": [
            "Setting `pad_token_id` to `eos_token_id`:50256 for open-end generation.\n"
          ]
        },
        {
          "output_type": "stream",
          "name": "stdout",
          "text": [
            "Bolsonaro diz que vai dar R$ 400 milhões ao governo no 1º semestre\n",
            "Eclipse na Espanha causa dano menor aos mercados do mundo\n",
            "Bovespa encerra em leve queda, com cena externa e negócios mais voláteis\n",
            "Dólar opera\n"
          ]
        },
        {
          "output_type": "stream",
          "name": "stderr",
          "text": [
            "Setting `pad_token_id` to `eos_token_id`:50256 for open-end generation.\n"
          ]
        },
        {
          "output_type": "stream",
          "name": "stdout",
          "text": [
            "Dólar opera em alta, a R$ 1,79; Bovespa opera em leve queda\n",
            "Em Itu, Ituano recebe apoio para enfrentar o Rio São Bento em confronto\n",
            "Dólar muda de direção no final do pregão, mas mantém\n"
          ]
        },
        {
          "output_type": "stream",
          "name": "stderr",
          "text": [
            "Setting `pad_token_id` to `eos_token_id`:50256 for open-end generation.\n"
          ]
        },
        {
          "output_type": "stream",
          "name": "stdout",
          "text": [
            "Dólar muda de direção no final do pregão, mas mantém cotado abaixo de R$ 3\n",
            "Ibovespa fecha pregão com alta de 2,4%, aos 51.665 pontos\n",
            "Mercado cai estimativa por inflação, dados de emprego\n"
          ]
        },
        {
          "output_type": "stream",
          "name": "stderr",
          "text": [
            "Setting `pad_token_id` to `eos_token_id`:50256 for open-end generation.\n"
          ]
        },
        {
          "output_type": "stream",
          "name": "stdout",
          "text": [
            "Mercado cai estimativa por inflação, dados de emprego e juros nos Estados Unidos\n",
            "Bolsas americanas fecham em alta nesta sexta em relação a 2017\n",
            "Após queda de 3,5% na véspera, Ibovespa opera acima da linha de R$\n"
          ]
        },
        {
          "output_type": "stream",
          "name": "stderr",
          "text": [
            "Setting `pad_token_id` to `eos_token_id`:50256 for open-end generation.\n"
          ]
        },
        {
          "output_type": "stream",
          "name": "stdout",
          "text": [
            "Após queda de 3,5% na véspera, Ibovespa opera acima da linha de R$ 3,10\n",
            "Petrobras nega irregularidades na empresa e aponta falhas no sistema bancário\n",
            "Governo anuncia lei que prevê medida que pode incentivar a produtividade\n",
            "Boves\n"
          ]
        },
        {
          "output_type": "stream",
          "name": "stderr",
          "text": [
            "Setting `pad_token_id` to `eos_token_id`:50256 for open-end generation.\n"
          ]
        },
        {
          "output_type": "stream",
          "name": "stdout",
          "text": [
            "Bovespa sobe nesta segunda, puxada por alta da Petrobras e Vale\n",
            "No Rio, BC aumenta projeção de crescimento em 2017 para 1,3%\n",
            "BB corta juros à população até sexta-feira\n",
            "Dólar recua para R$ 4,\n"
          ]
        },
        {
          "output_type": "stream",
          "name": "stderr",
          "text": [
            "Setting `pad_token_id` to `eos_token_id`:50256 for open-end generation.\n"
          ]
        },
        {
          "output_type": "stream",
          "name": "stdout",
          "text": [
            "Dólar recua para R$ 4,09, menor nível desde 2006 após declarações de Miriam Belchior\n",
            "Ex-vice de Dirceu morre após ser preso em RO, diz polícia\n",
            "Brasil fica entre os dez mais valiosos do mundo; veja suas aplicações\n"
          ]
        },
        {
          "output_type": "stream",
          "name": "stderr",
          "text": [
            "Setting `pad_token_id` to `eos_token_id`:50256 for open-end generation.\n"
          ]
        },
        {
          "output_type": "stream",
          "name": "stdout",
          "text": [
            "Brasil fica entre os dez mais valiosos do mundo; veja suas aplicações\n",
            "Bovespa fecha em alta pelo 3º pregão seguido\n",
            "Grupo bíblica de Brasília busca adeptos de Jesus; veja fotos\n",
            "Petrobras anuncia aquisição para financiar área de pesquisa do Projeto Gu\n"
          ]
        },
        {
          "output_type": "stream",
          "name": "stderr",
          "text": [
            "Setting `pad_token_id` to `eos_token_id`:50256 for open-end generation.\n"
          ]
        },
        {
          "output_type": "stream",
          "name": "stdout",
          "text": [
            "Petrobras anuncia aquisição para financiar área de pesquisa do Projeto Guri nas regiões de Grand Canyon e Itaju\n",
            "Governo vai lançar banco de dados para avaliar exportações\n",
            "Banco do Brasil está à espera de dados preliminares sobre empréstimos em RR\n",
            "Bancos\n"
          ]
        },
        {
          "output_type": "stream",
          "name": "stderr",
          "text": [
            "Setting `pad_token_id` to `eos_token_id`:50256 for open-end generation.\n"
          ]
        },
        {
          "output_type": "stream",
          "name": "stdout",
          "text": [
            "Bancos privados e empresas têm lucro líquido de R$ 15,6 bilhões no 2º trimestre\n",
            "Bovespa fecha a semana com perda de 1,75%, aos 71.758 pontos\n",
            "Ibovespa fecha em baixa de 2,11\n"
          ]
        },
        {
          "output_type": "stream",
          "name": "stderr",
          "text": [
            "Setting `pad_token_id` to `eos_token_id`:50256 for open-end generation.\n"
          ]
        },
        {
          "output_type": "stream",
          "name": "stdout",
          "text": [
            "Ibovespa fecha em baixa de 2,11% com cautela e queda nos EUA\n",
            "Retrospectiva 2019 traz informações adicionais da região de Itapetininga\n",
            "Aversão a risco global pesa sobre Ibovespa; Fed indica que ações de bancos ainda\n"
          ]
        },
        {
          "output_type": "stream",
          "name": "stderr",
          "text": [
            "Setting `pad_token_id` to `eos_token_id`:50256 for open-end generation.\n"
          ]
        },
        {
          "output_type": "stream",
          "name": "stdout",
          "text": [
            "Aversão a risco global pesa sobre Ibovespa; Fed indica que ações de bancos ainda não lideram ganhos\n",
            "Banco do Brasil reduz para 25% oferta de crédito para pequenos e médios empreendedores\n",
            "Criminosos explodem caixas eletrônicos de duas agências em Cara\n"
          ]
        },
        {
          "output_type": "stream",
          "name": "stderr",
          "text": [
            "Setting `pad_token_id` to `eos_token_id`:50256 for open-end generation.\n"
          ]
        },
        {
          "output_type": "stream",
          "name": "stdout",
          "text": [
            "Criminosos explodem caixas eletrônicos de duas agências em Carapicuíba do Vale do Rio Pardo, RS\n",
            "Governo lança edital para contratar mais 20 para a Educação no País\n",
            "Ações da Petrobras caem mais de 2% e ajudam Bovespa\n"
          ]
        },
        {
          "output_type": "stream",
          "name": "stderr",
          "text": [
            "Setting `pad_token_id` to `eos_token_id`:50256 for open-end generation.\n"
          ]
        },
        {
          "output_type": "stream",
          "name": "stdout",
          "text": [
            "Ações da Petrobras caem mais de 2% e ajudam Bovespa a iniciar pregão no azul\n",
            "Bancos privados querem cobrar sobretaxa na alta do IBovespa muda de rumo nos primeiros negócios de março e opera em queda\n",
            "Bolsa inver\n"
          ]
        },
        {
          "output_type": "stream",
          "name": "stderr",
          "text": [
            "Setting `pad_token_id` to `eos_token_id`:50256 for open-end generation.\n"
          ]
        },
        {
          "output_type": "stream",
          "name": "stdout",
          "text": [
            "Bolsa inverte rumo no final e perde posto de maior inadimplência do mundo\n",
            "Ibovespa recua 0,63% após dados dos EUA e recuo da Petrobras\n",
            "Bovespa cai 0,75% com piora do cenário externo;\n"
          ]
        },
        {
          "output_type": "stream",
          "name": "stderr",
          "text": [
            "Setting `pad_token_id` to `eos_token_id`:50256 for open-end generation.\n"
          ]
        },
        {
          "output_type": "stream",
          "name": "stdout",
          "text": [
            "Bovespa cai 0,75% com piora do cenário externo; dólar atinge R$ 1,58\n",
            "Em livro, Paulo Cunha diz que Meirelles, Marcos Valério e Ciro Gomes são grandes amigos\n",
            "O Brasil é a potência e o mundo é a\n"
          ]
        },
        {
          "output_type": "stream",
          "name": "stderr",
          "text": [
            "Setting `pad_token_id` to `eos_token_id`:50256 for open-end generation.\n"
          ]
        },
        {
          "output_type": "stream",
          "name": "stdout",
          "text": [
            "O Brasil é a potência e o mundo é a potência\n",
            "O país está ficando cada vez mais isolado do mundo\n",
            "Após cair após quatro dias seguidos, Bovespa volta a retomar movimento em alta\n",
            "Confira o que abre e fecha no feriado de\n"
          ]
        },
        {
          "output_type": "stream",
          "name": "stderr",
          "text": [
            "Setting `pad_token_id` to `eos_token_id`:50256 for open-end generation.\n"
          ]
        },
        {
          "output_type": "stream",
          "name": "stdout",
          "text": [
            "Confira o que abre e fecha no feriado de Páscoa nos presídios de SP\n",
            "Polícia de MT cumpre mandados de busca e apreensão em agência do Banco do Brasil em Ibaté, SP\n",
            "Ibovespa recua 2,19% na abertura do pre\n"
          ]
        },
        {
          "output_type": "stream",
          "name": "stderr",
          "text": [
            "Setting `pad_token_id` to `eos_token_id`:50256 for open-end generation.\n"
          ]
        },
        {
          "output_type": "stream",
          "name": "stdout",
          "text": [
            "Ibovespa recua 2,19% na abertura do pregão e perde 5% no ano\n",
            "Onyx, de Eike Batista, ganha participação no Itaú Unibanco\n",
            "Dólar fecha em alta nesta segunda, com expectativa de liqu\n"
          ]
        },
        {
          "output_type": "stream",
          "name": "stderr",
          "text": [
            "Setting `pad_token_id` to `eos_token_id`:50256 for open-end generation.\n"
          ]
        },
        {
          "output_type": "stream",
          "name": "stdout",
          "text": [
            "Dólar fecha em alta nesta segunda, com expectativa de liquidez nos EUA\n",
            "Bovespa ensaia recuperação inicial, em dia de baixa\n",
            "Bolsas dos EUA fecham sem direção comum\n",
            "Ibovespa tem menor nível desde novembro por EUA\n"
          ]
        },
        {
          "output_type": "stream",
          "name": "stderr",
          "text": [
            "Setting `pad_token_id` to `eos_token_id`:50256 for open-end generation.\n"
          ]
        },
        {
          "output_type": "stream",
          "name": "stdout",
          "text": [
            "Ibovespa tem menor nível desde novembro por EUA\n",
            "BC aumenta a taxa Selic para 0,56% ao ano\n",
            "Mercado reduz estimativa de crescimento do Brasil em 2018 e vê PIB menor em 2015\n",
            "Dólar sobe em dia instável com Europa\n"
          ]
        },
        {
          "output_type": "stream",
          "name": "stderr",
          "text": [
            "Setting `pad_token_id` to `eos_token_id`:50256 for open-end generation.\n"
          ]
        },
        {
          "output_type": "stream",
          "name": "stdout",
          "text": [
            "Dólar sobe em dia instável com Europa e EUA\n",
            "Brasil tem expectativa por emprego, e inflação pode cair a 0,2% em março\n",
            "Bovespa começa 2012 em alta, mas dados fracos em junho\n",
            "Quadrilha usa maçarico para\n"
          ]
        },
        {
          "output_type": "stream",
          "name": "stderr",
          "text": [
            "Setting `pad_token_id` to `eos_token_id`:50256 for open-end generation.\n"
          ]
        },
        {
          "output_type": "stream",
          "name": "stdout",
          "text": [
            "Quadrilha usa maçarico para arrombar agência do Banco do Brasil em Jacundá\n",
            "Veja imagens da mostra Cinema Novo em Brasília\n",
            "Governo pode tirar programa que beneficia empresa\n",
            "Com entrada de US$ 1,85 bi, BC dos Emirados espera\n"
          ]
        },
        {
          "output_type": "stream",
          "name": "stderr",
          "text": [
            "Setting `pad_token_id` to `eos_token_id`:50256 for open-end generation.\n"
          ]
        },
        {
          "output_type": "stream",
          "name": "stdout",
          "text": [
            "Com entrada de US$ 1,85 bi, BC dos Emirados espera crescimento abaixo de 1,8% neste ano\n",
            "Banco de leite precisa de doações\n",
            "Ibovespa fecha no menor nível em um mês a partir desta segunda\n",
            "Após sete anos,\n"
          ]
        },
        {
          "output_type": "stream",
          "name": "stderr",
          "text": [
            "Setting `pad_token_id` to `eos_token_id`:50256 for open-end generation.\n"
          ]
        },
        {
          "output_type": "stream",
          "name": "stdout",
          "text": [
            "Após sete anos, Banco do Brasil vende 7,5 mil agências em SP\n",
            "Em pregão volátil, Bolsa sobe 2,4% e dólar cai com cena política e com Dilma\n",
            "Governo tenta defender a Amazônia como potência emergente\n",
            "Dólar opera\n"
          ]
        },
        {
          "output_type": "stream",
          "name": "stderr",
          "text": [
            "Setting `pad_token_id` to `eos_token_id`:50256 for open-end generation.\n"
          ]
        },
        {
          "output_type": "stream",
          "name": "stdout",
          "text": [
            "Dólar opera em queda, abaixo de R$ 2,80 após pesquisa dos EUA ter dado sinal vermelho\n",
            "Ibovespa fecha em queda de mais de 0,6%\n",
            "Desarmamento afeta comércio e economia do RN\n",
            "Bandidos explodem\n"
          ]
        },
        {
          "output_type": "stream",
          "name": "stderr",
          "text": [
            "Setting `pad_token_id` to `eos_token_id`:50256 for open-end generation.\n"
          ]
        },
        {
          "output_type": "stream",
          "name": "stdout",
          "text": [
            "Bandidos explodem caixa eletrônico em Sorocaba, SP\n",
            "Ex-diretor do BB é condenado a 20 anos de prisão por fraude no Banco do Brasil\n",
            "Ex-vice-prefeito de Itu é preso por tráfico de drogas\n",
            "Bovespa fecha em alta\n"
          ]
        },
        {
          "output_type": "stream",
          "name": "stderr",
          "text": [
            "Setting `pad_token_id` to `eos_token_id`:50256 for open-end generation.\n"
          ]
        },
        {
          "output_type": "stream",
          "name": "stdout",
          "text": [
            "Bovespa fecha em alta, mas cai abaixo de 95 mil pontos\n",
            "Bolsa dos EUA cai com preocupação sobre crise em Israel; dólar sobe\n",
            "Em meio a impasse sobre reforma da Previdência, governo federal eleva projeção de crescimento do Brasil para 7%\n"
          ]
        },
        {
          "output_type": "stream",
          "name": "stderr",
          "text": [
            "Setting `pad_token_id` to `eos_token_id`:50256 for open-end generation.\n"
          ]
        },
        {
          "output_type": "stream",
          "name": "stdout",
          "text": [
            "Em meio a impasse sobre reforma da Previdência, governo federal eleva projeção de crescimento do Brasil para 7%\n",
            "Banco Mundial alerta para instabilidade em fundos dos EUA\n",
            "Ibovespa cai depois de duas semanas e perde os 67 mil pontos\n",
            "Bandidos explodem\n"
          ]
        },
        {
          "output_type": "stream",
          "name": "stderr",
          "text": [
            "Setting `pad_token_id` to `eos_token_id`:50256 for open-end generation.\n"
          ]
        },
        {
          "output_type": "stream",
          "name": "stdout",
          "text": [
            "Bandidos explodem caixas eletrônicos em cidades do Sertão da BA\n",
            "Quadrilha rende funcionários de banco e troca tiros com policiais\n",
            "Receita paga R$ 438 milhões na segunda parcela do IPTU hoje\n",
            "Confira destaques do TEM Notícias - 1\n"
          ]
        },
        {
          "output_type": "stream",
          "name": "stderr",
          "text": [
            "Setting `pad_token_id` to `eos_token_id`:50256 for open-end generation.\n"
          ]
        },
        {
          "output_type": "stream",
          "name": "stdout",
          "text": [
            "Confira destaques do TEM Notícias - 1ª edição desta segunda-feira, 22/05/2011\n",
            "Ibovespa cai mais de 2% em dia de forte baixa\n",
            "Criminosos explodem agência do Banco do Brasil em Piraju\n"
          ]
        },
        {
          "output_type": "stream",
          "name": "stderr",
          "text": [
            "Setting `pad_token_id` to `eos_token_id`:50256 for open-end generation.\n"
          ]
        },
        {
          "output_type": "stream",
          "name": "stdout",
          "text": [
            "Criminosos explodem agência do Banco do Brasil em Piraju\n",
            "Dólar avança, mas mercado aguarda Previdência\n",
            "Governo quer arrecadar até R$ 7 bi com crédito no exterior em outubro\n",
            "Bovespa fecha em alta de 0,13%\n"
          ]
        },
        {
          "output_type": "stream",
          "name": "stderr",
          "text": [
            "Setting `pad_token_id` to `eos_token_id`:50256 for open-end generation.\n"
          ]
        },
        {
          "output_type": "stream",
          "name": "stdout",
          "text": [
            "Bovespa fecha em alta de 0,13%\n",
            "Bovespa tem dia de alta e opera em alta nesta sexta\n",
            "Bovespa opera sem tendência no final das pregões\n",
            "Bovespa opera em queda nesta sexta-feira, mas\n"
          ]
        },
        {
          "output_type": "stream",
          "name": "stderr",
          "text": [
            "Setting `pad_token_id` to `eos_token_id`:50256 for open-end generation.\n"
          ]
        },
        {
          "output_type": "stream",
          "name": "stdout",
          "text": [
            "Bovespa opera em queda nesta sexta-feira, mas mantém leve alta no ano\n",
            "Governo pode usar o FGTS para financiar obras de energia\n",
            "Com leilão de aeroportos, mercado de turismo terá maior entrada no ano\n",
            "Presidente da ANS é\n"
          ]
        },
        {
          "output_type": "stream",
          "name": "stderr",
          "text": [
            "Setting `pad_token_id` to `eos_token_id`:50256 for open-end generation.\n"
          ]
        },
        {
          "output_type": "stream",
          "name": "stdout",
          "text": [
            "Presidente da ANS é demitido por irregularidades\n",
            "Banco do Brasil tem lucro de R$ 4,3 bilhões no trimestre\n",
            "Mercado financeiro volta a elevar previsão de crescimento do PIB para 2017\n",
            "Dilma diz que Brasil ainda tem uma grande chance de voltar às taxas\n"
          ]
        },
        {
          "output_type": "stream",
          "name": "stderr",
          "text": [
            "Setting `pad_token_id` to `eos_token_id`:50256 for open-end generation.\n"
          ]
        },
        {
          "output_type": "stream",
          "name": "stdout",
          "text": [
            "Dilma diz que Brasil ainda tem uma grande chance de voltar às taxas de juros\n",
            "Grupo rouba caixas eletrônicos em São Domingos dos Campos, RJ\n",
            "Com PIB abaixo de 13% em setembro, Mantega anuncia redução do número de secretários\n",
            "BB e\n"
          ]
        },
        {
          "output_type": "stream",
          "name": "stderr",
          "text": [
            "Setting `pad_token_id` to `eos_token_id`:50256 for open-end generation.\n"
          ]
        },
        {
          "output_type": "stream",
          "name": "stdout",
          "text": [
            "BB e Banco do Brasil para tentar vender ações\n",
            "Polícia apreende 16 toneladas de maconha em Itu; vídeo\n",
            "Empresas brasileiras têm taxas máximas acima de 15% ao menos em 2013\n",
            "Polícia Rodoviária apreende mais de 700 quilos de maconha em Itu\n",
            "Com\n"
          ]
        },
        {
          "output_type": "stream",
          "name": "stderr",
          "text": [
            "Setting `pad_token_id` to `eos_token_id`:50256 for open-end generation.\n"
          ]
        },
        {
          "output_type": "stream",
          "name": "stdout",
          "text": [
            "Com com expectativas, Ibovespa sobe, mas caminha para pior mês desde novembro\n",
            "Ações do setor de bebidas lideram ganhos em 2017\n",
            "Mercado reduz projeção de crescimento econômico do Brasil em 2017, afirma IBGE\n",
            "BC nega que BC dê juros mais\n"
          ]
        },
        {
          "output_type": "stream",
          "name": "stderr",
          "text": [
            "Setting `pad_token_id` to `eos_token_id`:50256 for open-end generation.\n"
          ]
        },
        {
          "output_type": "stream",
          "name": "stdout",
          "text": [
            "BC nega que BC dê juros mais altas em 2012--fontes\n",
            "Banco do Brasil fecha agências em duas praças nesta quinta-feira na BA\n",
            "Itaú Unibanco prevê que Brasil pode crescer mais de 3% em 2019\n",
            "Bovespa opera em\n"
          ]
        },
        {
          "output_type": "stream",
          "name": "stderr",
          "text": [
            "Setting `pad_token_id` to `eos_token_id`:50256 for open-end generation.\n"
          ]
        },
        {
          "output_type": "stream",
          "name": "stdout",
          "text": [
            "Bovespa opera em alta impulsionada por Vale e CSN\n",
            "Ladrões tentam assaltar agência na Zona Oeste de SP\n",
            "Receita na PB diz que dados de crédito bancário em 2014 são insuficientes para processar empresas\n",
            "Ex-vice-prefeito de Itu que\n"
          ]
        },
        {
          "output_type": "stream",
          "name": "stderr",
          "text": [
            "Setting `pad_token_id` to `eos_token_id`:50256 for open-end generation.\n"
          ]
        },
        {
          "output_type": "stream",
          "name": "stdout",
          "text": [
            "Ex-vice-prefeito de Itu que pediu exoneração de prefeito por descumprir lei\n",
            "BNDES financia mais um terço do BNDES Rural\n",
            "Governo prepara medidas contra o agronegócio\n",
            "Polícia Rodoviária apreende em Araçoiaba de Minas um dos maiores depósitos\n"
          ]
        },
        {
          "output_type": "stream",
          "name": "stderr",
          "text": [
            "Setting `pad_token_id` to `eos_token_id`:50256 for open-end generation.\n"
          ]
        },
        {
          "output_type": "stream",
          "name": "stdout",
          "text": [
            "Polícia Rodoviária apreende em Araçoiaba de Minas um dos maiores depósitos de cédulas do mundo\n",
            "Dólar sobe e fecha abaixo de R$ 4,10\n",
            "Juros das empresas americanas fecham em alta até dezembro, diz Banco Mundial\n"
          ]
        },
        {
          "output_type": "stream",
          "name": "stderr",
          "text": [
            "Setting `pad_token_id` to `eos_token_id`:50256 for open-end generation.\n"
          ]
        },
        {
          "output_type": "stream",
          "name": "stdout",
          "text": [
            "Juros das empresas americanas fecham em alta até dezembro, diz Banco Mundial\n",
            "Homem suspeito de matar Patrícia Aline morre baleado em Jundiaí, SP\n",
            "Ibovespa fecha em alta de 0,45%\n",
            "Banco do Brasil de Piracicaba, SP, é\n"
          ]
        },
        {
          "output_type": "stream",
          "name": "stderr",
          "text": [
            "Setting `pad_token_id` to `eos_token_id`:50256 for open-end generation.\n"
          ]
        },
        {
          "output_type": "stream",
          "name": "stdout",
          "text": [
            "Banco do Brasil de Piracicaba, SP, é condenada a indenizar ex-mulher\n",
            "Dólar recua e fecha a R$ 3,08; Bovespa ganha 1,9% com Petrobras\n",
            "Em dia de otimismo com dados de emprego nos EUA\n"
          ]
        },
        {
          "output_type": "stream",
          "name": "stderr",
          "text": [
            "Setting `pad_token_id` to `eos_token_id`:50256 for open-end generation.\n"
          ]
        },
        {
          "output_type": "stream",
          "name": "stdout",
          "text": [
            "Em dia de otimismo com dados de emprego nos EUA, Bolsa tem valorização\n",
            "Dólar cai a R$ 3,40 com cenário político no radar; Bolsa tem leve alta\n",
            "Confira o que abre e o que fecha no feriado de Corpus Christi em\n"
          ]
        },
        {
          "output_type": "stream",
          "name": "stderr",
          "text": [
            "Setting `pad_token_id` to `eos_token_id`:50256 for open-end generation.\n"
          ]
        },
        {
          "output_type": "stream",
          "name": "stdout",
          "text": [
            "Confira o que abre e o que fecha no feriado de Corpus Christi em Porto Alegre\n",
            "Presidente da Oi quer ter capital na Usiminas\n",
            "Dilma diz não saber se está pronta para assumir o Banco Central\n",
            "Governo vai aumentar impostos das estatais, diz\n"
          ]
        },
        {
          "output_type": "stream",
          "name": "stderr",
          "text": [
            "Setting `pad_token_id` to `eos_token_id`:50256 for open-end generation.\n"
          ]
        },
        {
          "output_type": "stream",
          "name": "stdout",
          "text": [
            "Governo vai aumentar impostos das estatais, diz presidente do BB\n",
            "Em meio a crise, indústria dá sinais de recuperação\n",
            "OGX, de Eike, fecha parceria com empresa de mineração de carvão a R$ 21,8 bilhões\n",
            "Boves\n"
          ]
        },
        {
          "output_type": "stream",
          "name": "stderr",
          "text": [
            "Setting `pad_token_id` to `eos_token_id`:50256 for open-end generation.\n"
          ]
        },
        {
          "output_type": "stream",
          "name": "stdout",
          "text": [
            "Bovespa sobe 0,48%, puxada por ações da Petrobras\n",
            "Lucro do Santander cresce 12% em 2015, de US$ 1,15 bilhão\n",
            "Com ajuda da União Europeia, Ibovespa sobe e rompe os 71 mil pontos\n"
          ]
        },
        {
          "output_type": "stream",
          "name": "stderr",
          "text": [
            "Setting `pad_token_id` to `eos_token_id`:50256 for open-end generation.\n"
          ]
        },
        {
          "output_type": "stream",
          "name": "stdout",
          "text": [
            "Com ajuda da União Europeia, Ibovespa sobe e rompe os 71 mil pontos\n",
            "Bovespa fecha com valorização na contramão da véspera\n",
            "Caixa aponta que 3 milhões de pessoas são inelegíveis para pagamento do Imposto de Renda\n",
            "Bovespa perde\n"
          ]
        },
        {
          "output_type": "stream",
          "name": "stderr",
          "text": [
            "Setting `pad_token_id` to `eos_token_id`:50256 for open-end generation.\n"
          ]
        },
        {
          "output_type": "stream",
          "name": "stdout",
          "text": [
            "Bovespa perde 0,46%\n",
            "Receita libera consulta a lote residual do IR de 2016 para nascidos a 31 de dezembro\n",
            "FHC diz que não se sentia pressionado pelas revelações e que foi infeliz por apoiar campanha de Marina\n",
            "Justiça manda BB fazer\n"
          ]
        },
        {
          "output_type": "stream",
          "name": "stderr",
          "text": [
            "Setting `pad_token_id` to `eos_token_id`:50256 for open-end generation.\n"
          ]
        },
        {
          "output_type": "stream",
          "name": "stdout",
          "text": [
            "Justiça manda BB fazer nova perícia sobre ‘tralha’\n",
            "Com crise, bancários mudam horário de atendimento\n",
            "Lucro do Itaú Unibanco sobe 32,5% ao ano na Bovespa em 2015\n",
            "Bolsa inverte tendência e fecha em\n"
          ]
        },
        {
          "output_type": "stream",
          "name": "stderr",
          "text": [
            "Setting `pad_token_id` to `eos_token_id`:50256 for open-end generation.\n"
          ]
        },
        {
          "output_type": "stream",
          "name": "stdout",
          "text": [
            "Bolsa inverte tendência e fecha em alta nesta terça\n",
            "Caixa abre R$ 25 bilhões para construção de rodovias de R$ 6 bilhões, a maior patamar em um ano\n",
            "Após bater recorde, Ibovespa sobe 2%, para 67.519\n"
          ]
        },
        {
          "output_type": "stream",
          "name": "stderr",
          "text": [
            "Setting `pad_token_id` to `eos_token_id`:50256 for open-end generation.\n"
          ]
        },
        {
          "output_type": "stream",
          "name": "stdout",
          "text": [
            "Após bater recorde, Ibovespa sobe 2%, para 67.519 pontos; na semana, Ibovespa é negativo\n",
            "Bovespa cai mais de 2% após dado americano e dados de emprego nos EUA\n",
            "Polícia Militar apreende armas de\n"
          ]
        },
        {
          "output_type": "stream",
          "name": "stderr",
          "text": [
            "Setting `pad_token_id` to `eos_token_id`:50256 for open-end generation.\n"
          ]
        },
        {
          "output_type": "stream",
          "name": "stdout",
          "text": [
            "Polícia Militar apreende armas de fogo em frente ao Banco do Brasil de Imperatriz\n",
            "Governo anuncia R$ 22,4 bi para projetos sociais em 2019\n",
            "Veja as principais respostas do site sobre o tema na Câmara Municipal de Presidente Prudente\n",
            "Em dia de\n"
          ]
        },
        {
          "output_type": "stream",
          "name": "stderr",
          "text": [
            "Setting `pad_token_id` to `eos_token_id`:50256 for open-end generation.\n"
          ]
        },
        {
          "output_type": "stream",
          "name": "stdout",
          "text": [
            "Em dia de decisão americana na Justiça dos EUA, Bovespa ganha 1,37%; dólar vale R$ 1,71\n",
            "Com a queda da Selic,BC começa a fazer transações em bitcoin\n",
            "Ex-vice-prefeito de Itu faz\n"
          ]
        },
        {
          "output_type": "stream",
          "name": "stderr",
          "text": [
            "Setting `pad_token_id` to `eos_token_id`:50256 for open-end generation.\n"
          ]
        },
        {
          "output_type": "stream",
          "name": "stdout",
          "text": [
            "Ex-vice-prefeito de Itu faz pedido para ter RR extinto\n",
            "Para presidente do BC, governo Dilma pode ser alternativa de estímulo para economia\n",
            "Justiça de São Paulo proíbe bancos de liberar serviço de celular\n",
            "Caixa eletrônico é arrombado em agência\n"
          ]
        },
        {
          "output_type": "stream",
          "name": "stderr",
          "text": [
            "Setting `pad_token_id` to `eos_token_id`:50256 for open-end generation.\n"
          ]
        },
        {
          "output_type": "stream",
          "name": "stdout",
          "text": [
            "Caixa eletrônico é arrombado em agência de São Félix\n",
            "FGV: não podemos esquecer de volta os reflexos do pregão anterior\n",
            "No Acre, bancos devem investir em infraestrutura no primeiro semestre\n",
            "Após reunião com Maia, Haddad diz que PT era\n"
          ]
        },
        {
          "output_type": "stream",
          "name": "stderr",
          "text": [
            "Setting `pad_token_id` to `eos_token_id`:50256 for open-end generation.\n"
          ]
        },
        {
          "output_type": "stream",
          "name": "stdout",
          "text": [
            "Após reunião com Maia, Haddad diz que PT era contrário a Trump\n",
            "Polícia prende quadrilha suspeita de estelionato no RS\n",
            "Empresas de Eike, Smiles e BB estreiam em nova oferta\n",
            "Em dia de poucos negócios, Boves\n"
          ]
        },
        {
          "output_type": "stream",
          "name": "stderr",
          "text": [
            "Setting `pad_token_id` to `eos_token_id`:50256 for open-end generation.\n"
          ]
        },
        {
          "output_type": "stream",
          "name": "stdout",
          "text": [
            "Em dia de poucos negócios, Bovespa opera em queda\n",
            "Ofertas do Banco do Brasil foram as maiores do mês de maio\n",
            "Ibovespa segue baixa e marca 69 1713 pontos; dólar está perto de R$ 2,90\n"
          ]
        },
        {
          "output_type": "stream",
          "name": "stderr",
          "text": [
            "Setting `pad_token_id` to `eos_token_id`:50256 for open-end generation.\n"
          ]
        },
        {
          "output_type": "stream",
          "name": "stdout",
          "text": [
            "Ibovespa segue baixa e marca 69 1713 pontos; dólar está perto de R$ 2,90\n",
            "Preocupação mundial não derruba Bolsa; Ibovespa sobe 1%, mas perde força em dia de feriado\n",
            "Criminosos tentam roubar banco e fazem\n"
          ]
        },
        {
          "output_type": "stream",
          "name": "stderr",
          "text": [
            "Setting `pad_token_id` to `eos_token_id`:50256 for open-end generation.\n"
          ]
        },
        {
          "output_type": "stream",
          "name": "stdout",
          "text": [
            "Criminosos tentam roubar banco e fazem refém em GO\n",
            "Ibovespa sobe 1,63% e avança 2%; mercado vê desaceleração na China e piora na Europa\n",
            "Ibovespa retoma os 70 mil pontos e tem alta moderada; dólar sobe\n"
          ]
        },
        {
          "output_type": "stream",
          "name": "stderr",
          "text": [
            "Setting `pad_token_id` to `eos_token_id`:50256 for open-end generation.\n"
          ]
        },
        {
          "output_type": "stream",
          "name": "stdout",
          "text": [
            "Ibovespa retoma os 70 mil pontos e tem alta moderada; dólar sobe\n",
            "Brasil é opção para jovens em desenvolvimento\n",
            "Polícia investiga bandidos que explodiram agência bancária no Jardim Itaú de Itu, SP\n",
            "Criminosos rendem vigilantes e fecham\n"
          ]
        },
        {
          "output_type": "stream",
          "name": "stderr",
          "text": [
            "Setting `pad_token_id` to `eos_token_id`:50256 for open-end generation.\n"
          ]
        },
        {
          "output_type": "stream",
          "name": "stdout",
          "text": [
            "Criminosos rendem vigilantes e fecham frente à agência do Banco do Brasil em Parauapebas\n",
            "Dilma se reúne com empresários em Brasília\n",
            "Dólar fecha em alta nesta sexta e tem maior valor desde agosto de 2009\n",
            "BB fará oferta\n"
          ]
        },
        {
          "output_type": "stream",
          "name": "stderr",
          "text": [
            "Setting `pad_token_id` to `eos_token_id`:50256 for open-end generation.\n"
          ]
        },
        {
          "output_type": "stream",
          "name": "stdout",
          "text": [
            "BB fará oferta para negociar dívida com Itaú\n",
            "Bovespa tem abertura negativa na semana, mas fecha em alta de 2%\n",
            "Dólar encerra a semana com alta\n",
            "Governo pretende reduzir taxas, mas não reajustar IOF está se esgotando\n"
          ]
        },
        {
          "output_type": "stream",
          "name": "stderr",
          "text": [
            "Setting `pad_token_id` to `eos_token_id`:50256 for open-end generation.\n"
          ]
        },
        {
          "output_type": "stream",
          "name": "stdout",
          "text": [
            "Governo pretende reduzir taxas, mas não reajustar IOF está se esgotando\n",
            "Dólar cai em R$ 3,80 com saída de recursos do déficit do país\n",
            "Governo espera que alta do PIB do Banco do Brasil seja igual à do\n"
          ]
        },
        {
          "output_type": "stream",
          "name": "stderr",
          "text": [
            "Setting `pad_token_id` to `eos_token_id`:50256 for open-end generation.\n"
          ]
        },
        {
          "output_type": "stream",
          "name": "stdout",
          "text": [
            "Governo espera que alta do PIB do Banco do Brasil seja igual à do Bradesco\n",
            "Bolsonaro rebate críticas; economia brasileira e EUA devem conversar\n",
            "Homem é morto em confronto com policiais em Itaí\n",
            "Lucro do Santander Brasil cai 40,7% no\n"
          ]
        },
        {
          "output_type": "stream",
          "name": "stderr",
          "text": [
            "Setting `pad_token_id` to `eos_token_id`:50256 for open-end generation.\n"
          ]
        },
        {
          "output_type": "stream",
          "name": "stdout",
          "text": [
            "Lucro do Santander Brasil cai 40,7% no primeiro trimestre\n",
            "OGX e Vale sobem e atingem maior valor em 4 anos\n",
            "Veja os destaques do Tem Notícias desta sexta-feira (2) em Sorocaba e Jundiaí\n",
            "Itaú e BMG nego\n"
          ]
        },
        {
          "output_type": "stream",
          "name": "stderr",
          "text": [
            "Setting `pad_token_id` to `eos_token_id`:50256 for open-end generation.\n"
          ]
        },
        {
          "output_type": "stream",
          "name": "stdout",
          "text": [
            "Itaú e BMG negociam ações preferenciais\n",
            "Em dia de tensão política, dólar bate R$ 1,60; mercado monitora atuação do BC\n",
            "Criminosos fogem com R$ 6 mil de banco em Rio Preto, SP\n",
            "Bovespa sobe\n"
          ]
        },
        {
          "output_type": "stream",
          "name": "stderr",
          "text": [
            "Setting `pad_token_id` to `eos_token_id`:50256 for open-end generation.\n"
          ]
        },
        {
          "output_type": "stream",
          "name": "stdout",
          "text": [
            "Bovespa sobe 0,8% com investidores embolsando lucros\n",
            "Bovespa cai com exterior e mercado de trabalho\n",
            "Bovespa cai 0,23% e acumula alta de quase 5% na semana\n",
            "Dólar sobe a R$ 3\n"
          ]
        },
        {
          "output_type": "stream",
          "name": "stderr",
          "text": [
            "Setting `pad_token_id` to `eos_token_id`:50256 for open-end generation.\n"
          ]
        },
        {
          "output_type": "stream",
          "name": "stdout",
          "text": [
            "Dólar sobe a R$ 3,21 nesta quinta-feira\n",
            "Brasil vive terremoto e de olho no exterior, não quer voltar à crise\n",
            "Banco Central decreta intervenção no câmbio nesta terça e vê inflação cair\n",
            "Com cenário tenso, ação conjunta fecha\n"
          ]
        },
        {
          "output_type": "stream",
          "name": "stderr",
          "text": [
            "Setting `pad_token_id` to `eos_token_id`:50256 for open-end generation.\n"
          ]
        },
        {
          "output_type": "stream",
          "name": "stdout",
          "text": [
            "Com cenário tenso, ação conjunta fecha dólar à menor nível desde agosto de 2003 em 16 meses\n",
            "Bolsas dos EUA fecham em alta pelo quarto dia seguido\n",
            "Com estoque baixo, mercado discute dólar, BC e balanços\n",
            "Mercado prevê mais inflação\n"
          ]
        },
        {
          "output_type": "stream",
          "name": "stderr",
          "text": [
            "Setting `pad_token_id` to `eos_token_id`:50256 for open-end generation.\n"
          ]
        },
        {
          "output_type": "stream",
          "name": "stdout",
          "text": [
            "Mercado prevê mais inflação e baixa de juros em 2014\n",
            "Com queda no desemprego, investidores vão ao exterior para encarar desaceleração do PIB\n",
            "Bovespa fecha em alta nesta sexta-feira, mas termina a semana no vermelho Ornitrato de\n"
          ]
        },
        {
          "output_type": "stream",
          "name": "stderr",
          "text": [
            "Setting `pad_token_id` to `eos_token_id`:50256 for open-end generation.\n"
          ]
        },
        {
          "output_type": "stream",
          "name": "stdout",
          "text": [
            "Bovespa fecha em alta nesta sexta-feira, mas termina a semana no vermelho Ornitrato de algas vermelhas cresce em bancos de Leite de peixes são encontrados com problemas de estômago em Ribeirão Preto\n",
            "Criminosos atacam agência do Banco do Brasil em Cara\n"
          ]
        },
        {
          "output_type": "stream",
          "name": "stderr",
          "text": [
            "Setting `pad_token_id` to `eos_token_id`:50256 for open-end generation.\n"
          ]
        },
        {
          "output_type": "stream",
          "name": "stdout",
          "text": [
            "Criminosos atacam agência do Banco do Brasil em Caraji, no TO\n",
            "Governo estuda criar caixa eletrônico com sistema de segurança de R$2 bi\n",
            "Para empresários, queda de juros em relação ao real favorece aumento de exportações\n",
            "Caixa começa a pagar\n"
          ]
        },
        {
          "output_type": "stream",
          "name": "stderr",
          "text": [
            "Setting `pad_token_id` to `eos_token_id`:50256 for open-end generation.\n"
          ]
        },
        {
          "output_type": "stream",
          "name": "stdout",
          "text": [
            "Caixa começa a pagar restituição de débitos em agências do BB\n",
            "Veja como é o expediente no fim de semana no Rio de Janeiro\n",
            "Brasil tem 15 das 24 cidades com mais de 80% de eleitores inadimplentes\n",
            "Bolsa de\n"
          ]
        },
        {
          "output_type": "stream",
          "name": "stderr",
          "text": [
            "Setting `pad_token_id` to `eos_token_id`:50256 for open-end generation.\n"
          ]
        },
        {
          "output_type": "stream",
          "name": "stdout",
          "text": [
            "Bolsa de Wall Street em 12 dias\n",
            "Bovespa opera com instabilidade antes dos EUA; dólar vale R$ 1,73\n",
            "Mercado baixa estimativa de inflação para este ano e espera PIB maior este ano\n",
            "Dilma quer aumentar projeção de crescimento econômico global\n"
          ]
        },
        {
          "output_type": "stream",
          "name": "stderr",
          "text": [
            "Setting `pad_token_id` to `eos_token_id`:50256 for open-end generation.\n"
          ]
        },
        {
          "output_type": "stream",
          "name": "stdout",
          "text": [
            "Dilma quer aumentar projeção de crescimento econômico global em 2013\n",
            "Para Dilma, é preciso crescer o comércio bilateral e apoiar Dilma\n",
            "Dólar volta a subir em linha com mercado externo e Bolsa sobe\n",
            "No último dia do ano, Brasil registra ingresso de\n"
          ]
        },
        {
          "output_type": "stream",
          "name": "stderr",
          "text": [
            "Setting `pad_token_id` to `eos_token_id`:50256 for open-end generation.\n"
          ]
        },
        {
          "output_type": "stream",
          "name": "stdout",
          "text": [
            "No último dia do ano, Brasil registra ingresso de US$ 3 bi no acumulado\n",
            "Ações da Petrobrás caem 5% e levam Brasil a perder 6,4% no dólar\n",
            "Após ser alvo de criminosos, dupla de policiais é detida com pedras,\n"
          ]
        },
        {
          "output_type": "stream",
          "name": "stderr",
          "text": [
            "Setting `pad_token_id` to `eos_token_id`:50256 for open-end generation.\n"
          ]
        },
        {
          "output_type": "stream",
          "name": "stdout",
          "text": [
            "Após ser alvo de criminosos, dupla de policiais é detida com pedras, crack e cigarro escondidos por pés de maconha\n",
            "Bovespa cai quase 2% com piora externa e incertezas sobre meta fiscal nos EUA\n",
            "Para Dilma, crise é questão de ordem\n"
          ]
        },
        {
          "output_type": "stream",
          "name": "stderr",
          "text": [
            "Setting `pad_token_id` to `eos_token_id`:50256 for open-end generation.\n"
          ]
        },
        {
          "output_type": "stream",
          "name": "stdout",
          "text": [
            "Para Dilma, crise é questão de ordem\n",
            "Dólar vira e opera em alta nesta quinta\n",
            "Caixa Econômica aprova compra de dólares e fecha negócio\n",
            "Dilma defende ‘aproviso da vontade’ da Previdência\n",
            "Banco Central corta taxa básica de juros pela 1\n"
          ]
        },
        {
          "output_type": "stream",
          "name": "stderr",
          "text": [
            "Setting `pad_token_id` to `eos_token_id`:50256 for open-end generation.\n"
          ]
        },
        {
          "output_type": "stream",
          "name": "stdout",
          "text": [
            "Banco Central corta taxa básica de juros pela 1ª vez desde 2010\n",
            "Bovespa recua 1,6% na abertura; dólar bate R$ 1,68\n",
            "Bancos apostam em menos burocracia e transparência nas contas ao consumidor\n",
            "Explosões\n"
          ]
        },
        {
          "output_type": "stream",
          "name": "stderr",
          "text": [
            "Setting `pad_token_id` to `eos_token_id`:50256 for open-end generation.\n"
          ]
        },
        {
          "output_type": "stream",
          "name": "stdout",
          "text": [
            "Explosões em bancos de Uberaba deixam mortos e feridos\n",
            "Bolsa recua 1,5% e dólar fecha abaixo de R$ 3,30 pelo segundo dia seguido\n",
            "O que vale em comprar um imóvel com o nome do seu dono?\n",
            "Veja 5\n"
          ]
        },
        {
          "output_type": "stream",
          "name": "stderr",
          "text": [
            "Setting `pad_token_id` to `eos_token_id`:50256 for open-end generation.\n"
          ]
        },
        {
          "output_type": "stream",
          "name": "stdout",
          "text": [
            "Veja 5 atrações em São Paulo durante o Tem Notícias desta quinta-feira\n",
            "Dólar fecha a R$ 1,77; Bovespa opera em alta\n",
            "Redução de juros e calotes nos EUA não são suficientes para a retomada de crescimento\n"
          ]
        },
        {
          "output_type": "stream",
          "name": "stderr",
          "text": [
            "Setting `pad_token_id` to `eos_token_id`:50256 for open-end generation.\n"
          ]
        },
        {
          "output_type": "stream",
          "name": "stdout",
          "text": [
            "Redução de juros e calotes nos EUA não são suficientes para a retomada de crescimento cetônica\n",
            "Novo sistema de rastreamento de trânsito se resolve em um dia\n",
            "Após 1 ano na prisão, juiz da PB condena ex-sócio por falsidade ideológica\n"
          ]
        },
        {
          "output_type": "stream",
          "name": "stderr",
          "text": [
            "Setting `pad_token_id` to `eos_token_id`:50256 for open-end generation.\n"
          ]
        },
        {
          "output_type": "stream",
          "name": "stdout",
          "text": [
            "Após 1 ano na prisão, juiz da PB condena ex-sócio por falsidade ideológica\n",
            "Brasil perde 0,67% no Aberto da Rússia\n",
            "Veja em que é #FATO ou #FAKE no primeiro caso da morte de delegado em 2012\n"
          ]
        },
        {
          "output_type": "stream",
          "name": "stderr",
          "text": [
            "Setting `pad_token_id` to `eos_token_id`:50256 for open-end generation.\n"
          ]
        },
        {
          "output_type": "stream",
          "name": "stdout",
          "text": [
            "Veja em que é #FATO ou #FAKE no primeiro caso da morte de delegado em 2012:\n",
            "Bovespa tem maior queda semanal em 13 meses e fecha em baixa\n",
            "Dólar sobe a R$ 3,14 e Bolsa cai\n"
          ]
        },
        {
          "output_type": "stream",
          "name": "stderr",
          "text": [
            "Setting `pad_token_id` to `eos_token_id`:50256 for open-end generation.\n"
          ]
        },
        {
          "output_type": "stream",
          "name": "stdout",
          "text": [
            "Dólar sobe a R$ 3,14 e Bolsa cai com piora nas pesquisas eleitorais nos EUA e queda do PIB da China\n",
            "Caixa eletrônico é arrombado em agência bancária no Rio Doce (parte 1)\n",
            "Bancos e Correios precisam de novos\n"
          ]
        },
        {
          "output_type": "stream",
          "name": "stderr",
          "text": [
            "Setting `pad_token_id` to `eos_token_id`:50256 for open-end generation.\n"
          ]
        },
        {
          "output_type": "stream",
          "name": "stdout",
          "text": [
            "Bancos e Correios precisam de novos donos\n",
            "Bovespa fecha em baixa, com pressão da Vale e cautela sobre PIB global\n",
            "Bovespa cai quase 2% com cenário político; dólar marca R$ 1,761\n",
            "Bovespa deve\n"
          ]
        },
        {
          "output_type": "stream",
          "name": "stderr",
          "text": [
            "Setting `pad_token_id` to `eos_token_id`:50256 for open-end generation.\n"
          ]
        },
        {
          "output_type": "stream",
          "name": "stdout",
          "text": [
            "Bovespa deve iniciar pregão em baixa\n",
            "Brasil recebe primeiro avião europeu pela primeira vez da crise\n",
            "Com base no Congresso, Temer diz que o impeachment será assunto oficial do STF\n",
            "Lucro do Itaú Unibanco cresce 25,96% no\n"
          ]
        },
        {
          "output_type": "stream",
          "name": "stderr",
          "text": [
            "Setting `pad_token_id` to `eos_token_id`:50256 for open-end generation.\n"
          ]
        },
        {
          "output_type": "stream",
          "name": "stdout",
          "text": [
            "Lucro do Itaú Unibanco cresce 25,96% no 1º trimestre\n",
            "Governo quer elevar tarifas da gasolina em até 3% a partir do fim de 2014\n",
            "Bolsa cai 0,29%, mas ainda tem maior volume em mais de duas semanas\n"
          ]
        },
        {
          "output_type": "stream",
          "name": "stderr",
          "text": [
            "Setting `pad_token_id` to `eos_token_id`:50256 for open-end generation.\n"
          ]
        },
        {
          "output_type": "stream",
          "name": "stdout",
          "text": [
            "Bolsa cai 0,29%, mas ainda tem maior volume em mais de duas semanas\n",
            "‘Passeio público: veja detalhes da nova forma de governança’, diz presidente da Câmara\n",
            "Em Itu, SP, Câmara Municipal pede afastamento de prefeito na gestão\n"
          ]
        },
        {
          "output_type": "stream",
          "name": "stderr",
          "text": [
            "Setting `pad_token_id` to `eos_token_id`:50256 for open-end generation.\n"
          ]
        },
        {
          "output_type": "stream",
          "name": "stdout",
          "text": [
            "Em Itu, SP, Câmara Municipal pede afastamento de prefeito na gestão de Erenice\n",
            "Dúvidas de emprego podem ter como razão a alta dos juros nos EUA\n",
            "Abilio Diniz se manifesta no comando do Banco Central do Brasil\n",
            "Bolsa sobe\n"
          ]
        },
        {
          "output_type": "stream",
          "name": "stderr",
          "text": [
            "Setting `pad_token_id` to `eos_token_id`:50256 for open-end generation.\n"
          ]
        },
        {
          "output_type": "stream",
          "name": "stdout",
          "text": [
            "Bolsa sobe mais de 3% com exterior, e Ibovespa termina o pregão com baixa de 1,56%\n",
            "Bancos brasileiros precisam de investimentos de US$ 3,5 trilhões, diz governo\n",
            "Lucro líquido da Sete Brasil sobe\n"
          ]
        },
        {
          "output_type": "stream",
          "name": "stderr",
          "text": [
            "Setting `pad_token_id` to `eos_token_id`:50256 for open-end generation.\n"
          ]
        },
        {
          "output_type": "stream",
          "name": "stdout",
          "text": [
            "Lucro líquido da Sete Brasil sobe 15% e soma R$ 5 bi no ano\n",
            "Bovespa fecha em queda de 0,49% pressionada por ações da Vale e Petrobras\n",
            "Ladrões tentam furtar banco e explodem caixas eletrônicos no\n"
          ]
        },
        {
          "output_type": "stream",
          "name": "stderr",
          "text": [
            "Setting `pad_token_id` to `eos_token_id`:50256 for open-end generation.\n"
          ]
        },
        {
          "output_type": "stream",
          "name": "stdout",
          "text": [
            "Ladrões tentam furtar banco e explodem caixas eletrônicos no interior de PE\n",
            "Banco de Leite Humano de Maringá está com estoque baixo\n",
            "Bovespa cai com preocupação de investidores no exterior; dólar é negociado a R$ 2,696\n"
          ]
        },
        {
          "output_type": "stream",
          "name": "stderr",
          "text": [
            "Setting `pad_token_id` to `eos_token_id`:50256 for open-end generation.\n"
          ]
        },
        {
          "output_type": "stream",
          "name": "stdout",
          "text": [
            "Bovespa cai com preocupação de investidores no exterior; dólar é negociado a R$ 2,696\n",
            "Dólar fecha a R$ 1,76; Bovespa inverte tendência e passa a cair\n",
            "BNDES aprova a compra de 4,\n"
          ]
        },
        {
          "output_type": "stream",
          "name": "stderr",
          "text": [
            "Setting `pad_token_id` to `eos_token_id`:50256 for open-end generation.\n"
          ]
        },
        {
          "output_type": "stream",
          "name": "stdout",
          "text": [
            "BNDES aprova a compra de 4,6 mil barris de óleo de barris de óleo no Rio Madeira\n",
            "Itaú amplia oferta de ações e sobe mais de 1%, puxada por ações da Vale\n",
            "Banco Panamericano pode virar banco de capitais\n",
            "Banco diz\n"
          ]
        },
        {
          "output_type": "stream",
          "name": "stderr",
          "text": [
            "Setting `pad_token_id` to `eos_token_id`:50256 for open-end generation.\n"
          ]
        },
        {
          "output_type": "stream",
          "name": "stdout",
          "text": [
            "Banco diz não ter informações sobre acordo da Odebrecht com o TCU\n",
            "Com mais espaço, Bovespa opera em queda nesta sexta-feira\n",
            "Bandidos entram em agência da polícia e assaltam banco no centro de Teresina\n",
            "Dilma propõe reforma da Previdência\n"
          ]
        },
        {
          "output_type": "stream",
          "name": "stderr",
          "text": [
            "Setting `pad_token_id` to `eos_token_id`:50256 for open-end generation.\n"
          ]
        },
        {
          "output_type": "stream",
          "name": "stdout",
          "text": [
            "Dilma propõe reforma da Previdência no Senado\n",
            "Ibovespa muda de direção e sobe para 70.718 pontos\n",
            "BC americano prevê juro mais forte nos EUA no 2º trimestre\n",
            "Confira os destaques do Tem Notícias desta sexta-feira (\n"
          ]
        },
        {
          "output_type": "stream",
          "name": "stderr",
          "text": [
            "Setting `pad_token_id` to `eos_token_id`:50256 for open-end generation.\n"
          ]
        },
        {
          "output_type": "stream",
          "name": "stdout",
          "text": [
            "Confira os destaques do Tem Notícias desta sexta-feira (18) em Sorocaba e região\n",
            "Dólar fecha em alta após corte de estímulo da BRF\n",
            "Banco Santander lucra R$ 5,24 bi nos primeiros anos e lidera índice desde 2003\n"
          ]
        },
        {
          "output_type": "stream",
          "name": "stderr",
          "text": [
            "Setting `pad_token_id` to `eos_token_id`:50256 for open-end generation.\n"
          ]
        },
        {
          "output_type": "stream",
          "name": "stdout",
          "text": [
            "Banco Santander lucra R$ 5,24 bi nos primeiros anos e lidera índice desde 2003\n",
            "Brasil pode ter mais PIB que os de seus países vizinhos, diz pesquisa\n",
            "Caixa começa a consultar credores sobre oferta da OGX\n",
            "Bovespa opera em\n"
          ]
        },
        {
          "output_type": "stream",
          "name": "stderr",
          "text": [
            "Setting `pad_token_id` to `eos_token_id`:50256 for open-end generation.\n"
          ]
        },
        {
          "output_type": "stream",
          "name": "stdout",
          "text": [
            "Bovespa opera em alta pelo quarto pregão do mês\n",
            "Bolsas dos Estados Unidos fecham em forte alta puxada por Petrobras\n",
            "Atividade econômica tem saldo positivo e dólar cai 0,77%\n",
            "Bovespa fecha em alta, com\n"
          ]
        },
        {
          "output_type": "stream",
          "name": "stderr",
          "text": [
            "Setting `pad_token_id` to `eos_token_id`:50256 for open-end generation.\n"
          ]
        },
        {
          "output_type": "stream",
          "name": "stdout",
          "text": [
            "Bovespa fecha em alta, com cautela sobre cenário político\n",
            "Petrobras perde R$ 5 bi com risco de queda de ações da Petrobras\n",
            "Após assalto a banco, bombeiros voltam a combater a criminalidade de Itapetininga, SP\n",
            "BNDES aprova compra de fatia\n"
          ]
        },
        {
          "output_type": "stream",
          "name": "stderr",
          "text": [
            "Setting `pad_token_id` to `eos_token_id`:50256 for open-end generation.\n"
          ]
        },
        {
          "output_type": "stream",
          "name": "stdout",
          "text": [
            "BNDES aprova compra de fatia de bancos Schahin e Unibanco\n",
            "Confira os gols dos titulares da seleção em todo o Brasil\n",
            "Dólar opera em alta após ata do Copom, apesar de incertezas sobre juros nos EUA\n",
            "Dólar\n"
          ]
        },
        {
          "output_type": "stream",
          "name": "stderr",
          "text": [
            "Setting `pad_token_id` to `eos_token_id`:50256 for open-end generation.\n"
          ]
        },
        {
          "output_type": "stream",
          "name": "stdout",
          "text": [
            "Dólar avança quase 2% e bate R$ 2,18\n",
            "Bolsa segue exterior e ensaia virada antes das eleições\n",
            "Banco oferece empréstimo para compra de caixas eletrônicos\n",
            "Feirão-Temas, a nova máxima inflacionária do Brasil, é fechada\n"
          ]
        },
        {
          "output_type": "stream",
          "name": "stderr",
          "text": [
            "Setting `pad_token_id` to `eos_token_id`:50256 for open-end generation.\n"
          ]
        },
        {
          "output_type": "stream",
          "name": "stdout",
          "text": [
            "Feirão-Temas, a nova máxima inflacionária do Brasil, é fechada\n",
            "Caixa eletrônico é arrombado na zona sul de Ribeirão Preto, SP\n",
            "Governo estuda investir R$ 6,2 bi com Petrobras para melhorar qualidade de água\n"
          ]
        },
        {
          "output_type": "stream",
          "name": "stderr",
          "text": [
            "Setting `pad_token_id` to `eos_token_id`:50256 for open-end generation.\n"
          ]
        },
        {
          "output_type": "stream",
          "name": "stdout",
          "text": [
            "Governo estuda investir R$ 6,2 bi com Petrobras para melhorar qualidade de água, diz leitora\n",
            "Ibovespa segue em alta e marca 64.910 pontos pela primeira vez em sete pregões\n",
            "Dólar fecha em alta nesta quinta\n"
          ]
        },
        {
          "output_type": "stream",
          "name": "stderr",
          "text": [
            "Setting `pad_token_id` to `eos_token_id`:50256 for open-end generation.\n"
          ]
        },
        {
          "output_type": "stream",
          "name": "stdout",
          "text": [
            "Dólar fecha em alta nesta quinta; Grécia avança\n",
            "BB Seguridade reduz previsão de alta do PIB para 2017 e 2018\n",
            "Banco de leite de hospital necessita urgente\n",
            "Bovespa sobe 1% com melhora de confiança na economia no exterior; dólar\n"
          ]
        },
        {
          "output_type": "stream",
          "name": "stderr",
          "text": [
            "Setting `pad_token_id` to `eos_token_id`:50256 for open-end generation.\n"
          ]
        },
        {
          "output_type": "stream",
          "name": "stdout",
          "text": [
            "Bovespa sobe 1% com melhora de confiança na economia no exterior; dólar vale R$ 1,76\n",
            "Com expectativa de que Dilma sinaliza escolha de Eduardo Cunha, dólar fecha a R$ 1,74\n",
            "Dólar fecha no menor patamar\n"
          ]
        },
        {
          "output_type": "stream",
          "name": "stderr",
          "text": [
            "Setting `pad_token_id` to `eos_token_id`:50256 for open-end generation.\n"
          ]
        },
        {
          "output_type": "stream",
          "name": "stdout",
          "text": [
            "Dólar fecha no menor patamar em quase 10 meses e volta a subir no último pregão da semana\n",
            "O que isso diz sobre o Brasil e a Argentina?\n",
            "Ações da Petrobras sobem mais de 6% e ajudam dólar a operar em queda\n"
          ]
        },
        {
          "output_type": "stream",
          "name": "stderr",
          "text": [
            "Setting `pad_token_id` to `eos_token_id`:50256 for open-end generation.\n"
          ]
        },
        {
          "output_type": "stream",
          "name": "stdout",
          "text": [
            "Ações da Petrobras sobem mais de 6% e ajudam dólar a operar em queda\n",
            "Brasil foi salvo pelo investimento estrangeiro, diz leitora\n",
            "BB amplia crédito imobiliário para 10% ao ano\n",
            "Confira como são as eleições na Bahia neste sábado (31\n"
          ]
        },
        {
          "output_type": "stream",
          "name": "stderr",
          "text": [
            "Setting `pad_token_id` to `eos_token_id`:50256 for open-end generation.\n"
          ]
        },
        {
          "output_type": "stream",
          "name": "stdout",
          "text": [
            "Confira como são as eleições na Bahia neste sábado (31)\n",
            "Ibovespa fecha pregão com baixa de 1,28% e marca 63.429 pontos\n",
            "Mercado negocia dólar com os EUA; Bolsa cai\n",
            "Mercado reduz estimativa para inflação\n"
          ]
        },
        {
          "output_type": "stream",
          "name": "stderr",
          "text": [
            "Setting `pad_token_id` to `eos_token_id`:50256 for open-end generation.\n"
          ]
        },
        {
          "output_type": "stream",
          "name": "stdout",
          "text": [
            "Mercado reduz estimativa para inflação de 2014 e vê crescimento maior em 2018\n",
            "Ofertas envolvendo fundos de pensão pesam no 2º tri e setor de energia cai\n",
            "Quadrilha explode caixas eletrônicos de bancos e atira contra policiais; leia declaração de ataque\n"
          ]
        },
        {
          "output_type": "stream",
          "name": "stderr",
          "text": [
            "Setting `pad_token_id` to `eos_token_id`:50256 for open-end generation.\n"
          ]
        },
        {
          "output_type": "stream",
          "name": "stdout",
          "text": [
            "Quadrilha explode caixas eletrônicos de bancos e atira contra policiais; leia declaração de ataque a São Luís\n",
            "Com atraso nas contas do presidente, caixa tem alta de 5,1%\n",
            "Bovespa fecha em alta pelo terceiro dia seguido com mercado à\n"
          ]
        },
        {
          "output_type": "stream",
          "name": "stderr",
          "text": [
            "Setting `pad_token_id` to `eos_token_id`:50256 for open-end generation.\n"
          ]
        },
        {
          "output_type": "stream",
          "name": "stdout",
          "text": [
            "Bovespa fecha em alta pelo terceiro dia seguido com mercado à espera de relatório do BC dos EUA\n",
            "Bovespa encerra semana em leve queda puxado por Vale e Petrobras\n",
            "Nomes do grupo B e outros oito presos, de acordo com Ministério Público\n"
          ]
        },
        {
          "output_type": "stream",
          "name": "stderr",
          "text": [
            "Setting `pad_token_id` to `eos_token_id`:50256 for open-end generation.\n"
          ]
        },
        {
          "output_type": "stream",
          "name": "stdout",
          "text": [
            "Nomes do grupo B e outros oito presos, de acordo com Ministério Público italiano\n",
            "Bovespa ganha 0,67% no fechamento, impulsionado por Wall Street\n",
            "Agência do Banco do Japão é alvo de criminosos em Macapá\n",
            "Banco de leite materno\n",
            "Banco de leite materno precisa de doações e doações de órgãos\n",
            "Petrobras dispara com possível venda de fatia na Vale\n",
            "BNDES e bancos criam canal de investimento e mantêm financiamentos nos Estados\n",
            "Governo anuncia redução de juros em 15% para bancos e comércio no futuro\n"
          ]
        }
      ],
      "source": [
        "  noticias = generate_noticias(iteration_model_path, model_name, 500)\n",
        "  save_noticias_geradas(iteration_model_path, noticias)"
      ]
    }
  ],
  "metadata": {
    "accelerator": "GPU",
    "colab": {
      "provenance": []
    },
    "kernelspec": {
      "display_name": "Python 3",
      "name": "python3"
    },
    "widgets": {
      "application/vnd.jupyter.widget-state+json": {
        "4d32e544f7504f67bb62c9f04870bf71": {
          "model_module": "@jupyter-widgets/controls",
          "model_name": "HBoxModel",
          "model_module_version": "1.5.0",
          "state": {
            "_dom_classes": [],
            "_model_module": "@jupyter-widgets/controls",
            "_model_module_version": "1.5.0",
            "_model_name": "HBoxModel",
            "_view_count": null,
            "_view_module": "@jupyter-widgets/controls",
            "_view_module_version": "1.5.0",
            "_view_name": "HBoxView",
            "box_style": "",
            "children": [
              "IPY_MODEL_735f3b6330bb46d6893cbd64fae236c1",
              "IPY_MODEL_2bf029c8769d428b82884ba2f99ca01a",
              "IPY_MODEL_8d36e1db24dd4ad5a074bf9d60645fd4"
            ],
            "layout": "IPY_MODEL_aa32d651ebea48038c1e36448278c6ea"
          }
        },
        "735f3b6330bb46d6893cbd64fae236c1": {
          "model_module": "@jupyter-widgets/controls",
          "model_name": "HTMLModel",
          "model_module_version": "1.5.0",
          "state": {
            "_dom_classes": [],
            "_model_module": "@jupyter-widgets/controls",
            "_model_module_version": "1.5.0",
            "_model_name": "HTMLModel",
            "_view_count": null,
            "_view_module": "@jupyter-widgets/controls",
            "_view_module_version": "1.5.0",
            "_view_name": "HTMLView",
            "description": "",
            "description_tooltip": null,
            "layout": "IPY_MODEL_3f3efa0c0d934d58a2bdcc3c9720b8b0",
            "placeholder": "​",
            "style": "IPY_MODEL_2c037928e28e4b34bab396d7534358ef",
            "value": "Downloading (…)okenizer_config.json: 100%"
          }
        },
        "2bf029c8769d428b82884ba2f99ca01a": {
          "model_module": "@jupyter-widgets/controls",
          "model_name": "FloatProgressModel",
          "model_module_version": "1.5.0",
          "state": {
            "_dom_classes": [],
            "_model_module": "@jupyter-widgets/controls",
            "_model_module_version": "1.5.0",
            "_model_name": "FloatProgressModel",
            "_view_count": null,
            "_view_module": "@jupyter-widgets/controls",
            "_view_module_version": "1.5.0",
            "_view_name": "ProgressView",
            "bar_style": "success",
            "description": "",
            "description_tooltip": null,
            "layout": "IPY_MODEL_7f3ae047d5e74ef1968ce3e99b82c529",
            "max": 92,
            "min": 0,
            "orientation": "horizontal",
            "style": "IPY_MODEL_4aabda273ac04e5e92f06442991c151d",
            "value": 92
          }
        },
        "8d36e1db24dd4ad5a074bf9d60645fd4": {
          "model_module": "@jupyter-widgets/controls",
          "model_name": "HTMLModel",
          "model_module_version": "1.5.0",
          "state": {
            "_dom_classes": [],
            "_model_module": "@jupyter-widgets/controls",
            "_model_module_version": "1.5.0",
            "_model_name": "HTMLModel",
            "_view_count": null,
            "_view_module": "@jupyter-widgets/controls",
            "_view_module_version": "1.5.0",
            "_view_name": "HTMLView",
            "description": "",
            "description_tooltip": null,
            "layout": "IPY_MODEL_81aba38e2cff4f29b24bfc738a3081d5",
            "placeholder": "​",
            "style": "IPY_MODEL_ac4644bc83864b64bc95bb73fcfa95aa",
            "value": " 92.0/92.0 [00:00&lt;00:00, 2.95kB/s]"
          }
        },
        "aa32d651ebea48038c1e36448278c6ea": {
          "model_module": "@jupyter-widgets/base",
          "model_name": "LayoutModel",
          "model_module_version": "1.2.0",
          "state": {
            "_model_module": "@jupyter-widgets/base",
            "_model_module_version": "1.2.0",
            "_model_name": "LayoutModel",
            "_view_count": null,
            "_view_module": "@jupyter-widgets/base",
            "_view_module_version": "1.2.0",
            "_view_name": "LayoutView",
            "align_content": null,
            "align_items": null,
            "align_self": null,
            "border": null,
            "bottom": null,
            "display": null,
            "flex": null,
            "flex_flow": null,
            "grid_area": null,
            "grid_auto_columns": null,
            "grid_auto_flow": null,
            "grid_auto_rows": null,
            "grid_column": null,
            "grid_gap": null,
            "grid_row": null,
            "grid_template_areas": null,
            "grid_template_columns": null,
            "grid_template_rows": null,
            "height": null,
            "justify_content": null,
            "justify_items": null,
            "left": null,
            "margin": null,
            "max_height": null,
            "max_width": null,
            "min_height": null,
            "min_width": null,
            "object_fit": null,
            "object_position": null,
            "order": null,
            "overflow": null,
            "overflow_x": null,
            "overflow_y": null,
            "padding": null,
            "right": null,
            "top": null,
            "visibility": null,
            "width": null
          }
        },
        "3f3efa0c0d934d58a2bdcc3c9720b8b0": {
          "model_module": "@jupyter-widgets/base",
          "model_name": "LayoutModel",
          "model_module_version": "1.2.0",
          "state": {
            "_model_module": "@jupyter-widgets/base",
            "_model_module_version": "1.2.0",
            "_model_name": "LayoutModel",
            "_view_count": null,
            "_view_module": "@jupyter-widgets/base",
            "_view_module_version": "1.2.0",
            "_view_name": "LayoutView",
            "align_content": null,
            "align_items": null,
            "align_self": null,
            "border": null,
            "bottom": null,
            "display": null,
            "flex": null,
            "flex_flow": null,
            "grid_area": null,
            "grid_auto_columns": null,
            "grid_auto_flow": null,
            "grid_auto_rows": null,
            "grid_column": null,
            "grid_gap": null,
            "grid_row": null,
            "grid_template_areas": null,
            "grid_template_columns": null,
            "grid_template_rows": null,
            "height": null,
            "justify_content": null,
            "justify_items": null,
            "left": null,
            "margin": null,
            "max_height": null,
            "max_width": null,
            "min_height": null,
            "min_width": null,
            "object_fit": null,
            "object_position": null,
            "order": null,
            "overflow": null,
            "overflow_x": null,
            "overflow_y": null,
            "padding": null,
            "right": null,
            "top": null,
            "visibility": null,
            "width": null
          }
        },
        "2c037928e28e4b34bab396d7534358ef": {
          "model_module": "@jupyter-widgets/controls",
          "model_name": "DescriptionStyleModel",
          "model_module_version": "1.5.0",
          "state": {
            "_model_module": "@jupyter-widgets/controls",
            "_model_module_version": "1.5.0",
            "_model_name": "DescriptionStyleModel",
            "_view_count": null,
            "_view_module": "@jupyter-widgets/base",
            "_view_module_version": "1.2.0",
            "_view_name": "StyleView",
            "description_width": ""
          }
        },
        "7f3ae047d5e74ef1968ce3e99b82c529": {
          "model_module": "@jupyter-widgets/base",
          "model_name": "LayoutModel",
          "model_module_version": "1.2.0",
          "state": {
            "_model_module": "@jupyter-widgets/base",
            "_model_module_version": "1.2.0",
            "_model_name": "LayoutModel",
            "_view_count": null,
            "_view_module": "@jupyter-widgets/base",
            "_view_module_version": "1.2.0",
            "_view_name": "LayoutView",
            "align_content": null,
            "align_items": null,
            "align_self": null,
            "border": null,
            "bottom": null,
            "display": null,
            "flex": null,
            "flex_flow": null,
            "grid_area": null,
            "grid_auto_columns": null,
            "grid_auto_flow": null,
            "grid_auto_rows": null,
            "grid_column": null,
            "grid_gap": null,
            "grid_row": null,
            "grid_template_areas": null,
            "grid_template_columns": null,
            "grid_template_rows": null,
            "height": null,
            "justify_content": null,
            "justify_items": null,
            "left": null,
            "margin": null,
            "max_height": null,
            "max_width": null,
            "min_height": null,
            "min_width": null,
            "object_fit": null,
            "object_position": null,
            "order": null,
            "overflow": null,
            "overflow_x": null,
            "overflow_y": null,
            "padding": null,
            "right": null,
            "top": null,
            "visibility": null,
            "width": null
          }
        },
        "4aabda273ac04e5e92f06442991c151d": {
          "model_module": "@jupyter-widgets/controls",
          "model_name": "ProgressStyleModel",
          "model_module_version": "1.5.0",
          "state": {
            "_model_module": "@jupyter-widgets/controls",
            "_model_module_version": "1.5.0",
            "_model_name": "ProgressStyleModel",
            "_view_count": null,
            "_view_module": "@jupyter-widgets/base",
            "_view_module_version": "1.2.0",
            "_view_name": "StyleView",
            "bar_color": null,
            "description_width": ""
          }
        },
        "81aba38e2cff4f29b24bfc738a3081d5": {
          "model_module": "@jupyter-widgets/base",
          "model_name": "LayoutModel",
          "model_module_version": "1.2.0",
          "state": {
            "_model_module": "@jupyter-widgets/base",
            "_model_module_version": "1.2.0",
            "_model_name": "LayoutModel",
            "_view_count": null,
            "_view_module": "@jupyter-widgets/base",
            "_view_module_version": "1.2.0",
            "_view_name": "LayoutView",
            "align_content": null,
            "align_items": null,
            "align_self": null,
            "border": null,
            "bottom": null,
            "display": null,
            "flex": null,
            "flex_flow": null,
            "grid_area": null,
            "grid_auto_columns": null,
            "grid_auto_flow": null,
            "grid_auto_rows": null,
            "grid_column": null,
            "grid_gap": null,
            "grid_row": null,
            "grid_template_areas": null,
            "grid_template_columns": null,
            "grid_template_rows": null,
            "height": null,
            "justify_content": null,
            "justify_items": null,
            "left": null,
            "margin": null,
            "max_height": null,
            "max_width": null,
            "min_height": null,
            "min_width": null,
            "object_fit": null,
            "object_position": null,
            "order": null,
            "overflow": null,
            "overflow_x": null,
            "overflow_y": null,
            "padding": null,
            "right": null,
            "top": null,
            "visibility": null,
            "width": null
          }
        },
        "ac4644bc83864b64bc95bb73fcfa95aa": {
          "model_module": "@jupyter-widgets/controls",
          "model_name": "DescriptionStyleModel",
          "model_module_version": "1.5.0",
          "state": {
            "_model_module": "@jupyter-widgets/controls",
            "_model_module_version": "1.5.0",
            "_model_name": "DescriptionStyleModel",
            "_view_count": null,
            "_view_module": "@jupyter-widgets/base",
            "_view_module_version": "1.2.0",
            "_view_name": "StyleView",
            "description_width": ""
          }
        },
        "0723ba08975e4cc7971014067b032aa3": {
          "model_module": "@jupyter-widgets/controls",
          "model_name": "HBoxModel",
          "model_module_version": "1.5.0",
          "state": {
            "_dom_classes": [],
            "_model_module": "@jupyter-widgets/controls",
            "_model_module_version": "1.5.0",
            "_model_name": "HBoxModel",
            "_view_count": null,
            "_view_module": "@jupyter-widgets/controls",
            "_view_module_version": "1.5.0",
            "_view_name": "HBoxView",
            "box_style": "",
            "children": [
              "IPY_MODEL_323a1f07e60c4b05bf65e448dd8c3f8e",
              "IPY_MODEL_25df6d26ec31494bb78caabc4c0ae615",
              "IPY_MODEL_a7c31625bc68449ebcf8e319751d9ce4"
            ],
            "layout": "IPY_MODEL_584e28ae21964e0a894fdada58e4fc57"
          }
        },
        "323a1f07e60c4b05bf65e448dd8c3f8e": {
          "model_module": "@jupyter-widgets/controls",
          "model_name": "HTMLModel",
          "model_module_version": "1.5.0",
          "state": {
            "_dom_classes": [],
            "_model_module": "@jupyter-widgets/controls",
            "_model_module_version": "1.5.0",
            "_model_name": "HTMLModel",
            "_view_count": null,
            "_view_module": "@jupyter-widgets/controls",
            "_view_module_version": "1.5.0",
            "_view_name": "HTMLView",
            "description": "",
            "description_tooltip": null,
            "layout": "IPY_MODEL_112c3428c5e44466928074ed2cea6317",
            "placeholder": "​",
            "style": "IPY_MODEL_60564489b3574c9f820a88336f6bfa9e",
            "value": "Downloading (…)lve/main/config.json: 100%"
          }
        },
        "25df6d26ec31494bb78caabc4c0ae615": {
          "model_module": "@jupyter-widgets/controls",
          "model_name": "FloatProgressModel",
          "model_module_version": "1.5.0",
          "state": {
            "_dom_classes": [],
            "_model_module": "@jupyter-widgets/controls",
            "_model_module_version": "1.5.0",
            "_model_name": "FloatProgressModel",
            "_view_count": null,
            "_view_module": "@jupyter-widgets/controls",
            "_view_module_version": "1.5.0",
            "_view_name": "ProgressView",
            "bar_style": "success",
            "description": "",
            "description_tooltip": null,
            "layout": "IPY_MODEL_8397c6b281e74749b097782eb9af1dca",
            "max": 666,
            "min": 0,
            "orientation": "horizontal",
            "style": "IPY_MODEL_9781bd462c0942a3a88d8ed984f215fe",
            "value": 666
          }
        },
        "a7c31625bc68449ebcf8e319751d9ce4": {
          "model_module": "@jupyter-widgets/controls",
          "model_name": "HTMLModel",
          "model_module_version": "1.5.0",
          "state": {
            "_dom_classes": [],
            "_model_module": "@jupyter-widgets/controls",
            "_model_module_version": "1.5.0",
            "_model_name": "HTMLModel",
            "_view_count": null,
            "_view_module": "@jupyter-widgets/controls",
            "_view_module_version": "1.5.0",
            "_view_name": "HTMLView",
            "description": "",
            "description_tooltip": null,
            "layout": "IPY_MODEL_4de1050752154f72b0a3aa3c93eb6dac",
            "placeholder": "​",
            "style": "IPY_MODEL_968c10c70a5748fe9758d05bdae326d2",
            "value": " 666/666 [00:00&lt;00:00, 15.4kB/s]"
          }
        },
        "584e28ae21964e0a894fdada58e4fc57": {
          "model_module": "@jupyter-widgets/base",
          "model_name": "LayoutModel",
          "model_module_version": "1.2.0",
          "state": {
            "_model_module": "@jupyter-widgets/base",
            "_model_module_version": "1.2.0",
            "_model_name": "LayoutModel",
            "_view_count": null,
            "_view_module": "@jupyter-widgets/base",
            "_view_module_version": "1.2.0",
            "_view_name": "LayoutView",
            "align_content": null,
            "align_items": null,
            "align_self": null,
            "border": null,
            "bottom": null,
            "display": null,
            "flex": null,
            "flex_flow": null,
            "grid_area": null,
            "grid_auto_columns": null,
            "grid_auto_flow": null,
            "grid_auto_rows": null,
            "grid_column": null,
            "grid_gap": null,
            "grid_row": null,
            "grid_template_areas": null,
            "grid_template_columns": null,
            "grid_template_rows": null,
            "height": null,
            "justify_content": null,
            "justify_items": null,
            "left": null,
            "margin": null,
            "max_height": null,
            "max_width": null,
            "min_height": null,
            "min_width": null,
            "object_fit": null,
            "object_position": null,
            "order": null,
            "overflow": null,
            "overflow_x": null,
            "overflow_y": null,
            "padding": null,
            "right": null,
            "top": null,
            "visibility": null,
            "width": null
          }
        },
        "112c3428c5e44466928074ed2cea6317": {
          "model_module": "@jupyter-widgets/base",
          "model_name": "LayoutModel",
          "model_module_version": "1.2.0",
          "state": {
            "_model_module": "@jupyter-widgets/base",
            "_model_module_version": "1.2.0",
            "_model_name": "LayoutModel",
            "_view_count": null,
            "_view_module": "@jupyter-widgets/base",
            "_view_module_version": "1.2.0",
            "_view_name": "LayoutView",
            "align_content": null,
            "align_items": null,
            "align_self": null,
            "border": null,
            "bottom": null,
            "display": null,
            "flex": null,
            "flex_flow": null,
            "grid_area": null,
            "grid_auto_columns": null,
            "grid_auto_flow": null,
            "grid_auto_rows": null,
            "grid_column": null,
            "grid_gap": null,
            "grid_row": null,
            "grid_template_areas": null,
            "grid_template_columns": null,
            "grid_template_rows": null,
            "height": null,
            "justify_content": null,
            "justify_items": null,
            "left": null,
            "margin": null,
            "max_height": null,
            "max_width": null,
            "min_height": null,
            "min_width": null,
            "object_fit": null,
            "object_position": null,
            "order": null,
            "overflow": null,
            "overflow_x": null,
            "overflow_y": null,
            "padding": null,
            "right": null,
            "top": null,
            "visibility": null,
            "width": null
          }
        },
        "60564489b3574c9f820a88336f6bfa9e": {
          "model_module": "@jupyter-widgets/controls",
          "model_name": "DescriptionStyleModel",
          "model_module_version": "1.5.0",
          "state": {
            "_model_module": "@jupyter-widgets/controls",
            "_model_module_version": "1.5.0",
            "_model_name": "DescriptionStyleModel",
            "_view_count": null,
            "_view_module": "@jupyter-widgets/base",
            "_view_module_version": "1.2.0",
            "_view_name": "StyleView",
            "description_width": ""
          }
        },
        "8397c6b281e74749b097782eb9af1dca": {
          "model_module": "@jupyter-widgets/base",
          "model_name": "LayoutModel",
          "model_module_version": "1.2.0",
          "state": {
            "_model_module": "@jupyter-widgets/base",
            "_model_module_version": "1.2.0",
            "_model_name": "LayoutModel",
            "_view_count": null,
            "_view_module": "@jupyter-widgets/base",
            "_view_module_version": "1.2.0",
            "_view_name": "LayoutView",
            "align_content": null,
            "align_items": null,
            "align_self": null,
            "border": null,
            "bottom": null,
            "display": null,
            "flex": null,
            "flex_flow": null,
            "grid_area": null,
            "grid_auto_columns": null,
            "grid_auto_flow": null,
            "grid_auto_rows": null,
            "grid_column": null,
            "grid_gap": null,
            "grid_row": null,
            "grid_template_areas": null,
            "grid_template_columns": null,
            "grid_template_rows": null,
            "height": null,
            "justify_content": null,
            "justify_items": null,
            "left": null,
            "margin": null,
            "max_height": null,
            "max_width": null,
            "min_height": null,
            "min_width": null,
            "object_fit": null,
            "object_position": null,
            "order": null,
            "overflow": null,
            "overflow_x": null,
            "overflow_y": null,
            "padding": null,
            "right": null,
            "top": null,
            "visibility": null,
            "width": null
          }
        },
        "9781bd462c0942a3a88d8ed984f215fe": {
          "model_module": "@jupyter-widgets/controls",
          "model_name": "ProgressStyleModel",
          "model_module_version": "1.5.0",
          "state": {
            "_model_module": "@jupyter-widgets/controls",
            "_model_module_version": "1.5.0",
            "_model_name": "ProgressStyleModel",
            "_view_count": null,
            "_view_module": "@jupyter-widgets/base",
            "_view_module_version": "1.2.0",
            "_view_name": "StyleView",
            "bar_color": null,
            "description_width": ""
          }
        },
        "4de1050752154f72b0a3aa3c93eb6dac": {
          "model_module": "@jupyter-widgets/base",
          "model_name": "LayoutModel",
          "model_module_version": "1.2.0",
          "state": {
            "_model_module": "@jupyter-widgets/base",
            "_model_module_version": "1.2.0",
            "_model_name": "LayoutModel",
            "_view_count": null,
            "_view_module": "@jupyter-widgets/base",
            "_view_module_version": "1.2.0",
            "_view_name": "LayoutView",
            "align_content": null,
            "align_items": null,
            "align_self": null,
            "border": null,
            "bottom": null,
            "display": null,
            "flex": null,
            "flex_flow": null,
            "grid_area": null,
            "grid_auto_columns": null,
            "grid_auto_flow": null,
            "grid_auto_rows": null,
            "grid_column": null,
            "grid_gap": null,
            "grid_row": null,
            "grid_template_areas": null,
            "grid_template_columns": null,
            "grid_template_rows": null,
            "height": null,
            "justify_content": null,
            "justify_items": null,
            "left": null,
            "margin": null,
            "max_height": null,
            "max_width": null,
            "min_height": null,
            "min_width": null,
            "object_fit": null,
            "object_position": null,
            "order": null,
            "overflow": null,
            "overflow_x": null,
            "overflow_y": null,
            "padding": null,
            "right": null,
            "top": null,
            "visibility": null,
            "width": null
          }
        },
        "968c10c70a5748fe9758d05bdae326d2": {
          "model_module": "@jupyter-widgets/controls",
          "model_name": "DescriptionStyleModel",
          "model_module_version": "1.5.0",
          "state": {
            "_model_module": "@jupyter-widgets/controls",
            "_model_module_version": "1.5.0",
            "_model_name": "DescriptionStyleModel",
            "_view_count": null,
            "_view_module": "@jupyter-widgets/base",
            "_view_module_version": "1.2.0",
            "_view_name": "StyleView",
            "description_width": ""
          }
        },
        "75b59e1c872b42e4a94d12bc6f661abb": {
          "model_module": "@jupyter-widgets/controls",
          "model_name": "HBoxModel",
          "model_module_version": "1.5.0",
          "state": {
            "_dom_classes": [],
            "_model_module": "@jupyter-widgets/controls",
            "_model_module_version": "1.5.0",
            "_model_name": "HBoxModel",
            "_view_count": null,
            "_view_module": "@jupyter-widgets/controls",
            "_view_module_version": "1.5.0",
            "_view_name": "HBoxView",
            "box_style": "",
            "children": [
              "IPY_MODEL_a4272e5700a44ab695a4141814aec22e",
              "IPY_MODEL_d2100ae9bb66484e9163b0c396bafce8",
              "IPY_MODEL_a55a502145ff41c0a237857fa34b5616"
            ],
            "layout": "IPY_MODEL_c53f4be15b604896ad736ade698ba690"
          }
        },
        "a4272e5700a44ab695a4141814aec22e": {
          "model_module": "@jupyter-widgets/controls",
          "model_name": "HTMLModel",
          "model_module_version": "1.5.0",
          "state": {
            "_dom_classes": [],
            "_model_module": "@jupyter-widgets/controls",
            "_model_module_version": "1.5.0",
            "_model_name": "HTMLModel",
            "_view_count": null,
            "_view_module": "@jupyter-widgets/controls",
            "_view_module_version": "1.5.0",
            "_view_name": "HTMLView",
            "description": "",
            "description_tooltip": null,
            "layout": "IPY_MODEL_63949a269dda423bb9846d7066414900",
            "placeholder": "​",
            "style": "IPY_MODEL_fab92313d4134de1b70c7bb047c4814e",
            "value": "Downloading (…)olve/main/vocab.json: 100%"
          }
        },
        "d2100ae9bb66484e9163b0c396bafce8": {
          "model_module": "@jupyter-widgets/controls",
          "model_name": "FloatProgressModel",
          "model_module_version": "1.5.0",
          "state": {
            "_dom_classes": [],
            "_model_module": "@jupyter-widgets/controls",
            "_model_module_version": "1.5.0",
            "_model_name": "FloatProgressModel",
            "_view_count": null,
            "_view_module": "@jupyter-widgets/controls",
            "_view_module_version": "1.5.0",
            "_view_name": "ProgressView",
            "bar_style": "success",
            "description": "",
            "description_tooltip": null,
            "layout": "IPY_MODEL_0ebcb0bf7bac4ee797f7bb405891bd95",
            "max": 849961,
            "min": 0,
            "orientation": "horizontal",
            "style": "IPY_MODEL_7f5767c3bece43f8989213069b18cf15",
            "value": 849961
          }
        },
        "a55a502145ff41c0a237857fa34b5616": {
          "model_module": "@jupyter-widgets/controls",
          "model_name": "HTMLModel",
          "model_module_version": "1.5.0",
          "state": {
            "_dom_classes": [],
            "_model_module": "@jupyter-widgets/controls",
            "_model_module_version": "1.5.0",
            "_model_name": "HTMLModel",
            "_view_count": null,
            "_view_module": "@jupyter-widgets/controls",
            "_view_module_version": "1.5.0",
            "_view_name": "HTMLView",
            "description": "",
            "description_tooltip": null,
            "layout": "IPY_MODEL_a96084ae823049708f90555f47c92193",
            "placeholder": "​",
            "style": "IPY_MODEL_b408903d7c1f454e8efeadc912d50cce",
            "value": " 850k/850k [00:00&lt;00:00, 7.59MB/s]"
          }
        },
        "c53f4be15b604896ad736ade698ba690": {
          "model_module": "@jupyter-widgets/base",
          "model_name": "LayoutModel",
          "model_module_version": "1.2.0",
          "state": {
            "_model_module": "@jupyter-widgets/base",
            "_model_module_version": "1.2.0",
            "_model_name": "LayoutModel",
            "_view_count": null,
            "_view_module": "@jupyter-widgets/base",
            "_view_module_version": "1.2.0",
            "_view_name": "LayoutView",
            "align_content": null,
            "align_items": null,
            "align_self": null,
            "border": null,
            "bottom": null,
            "display": null,
            "flex": null,
            "flex_flow": null,
            "grid_area": null,
            "grid_auto_columns": null,
            "grid_auto_flow": null,
            "grid_auto_rows": null,
            "grid_column": null,
            "grid_gap": null,
            "grid_row": null,
            "grid_template_areas": null,
            "grid_template_columns": null,
            "grid_template_rows": null,
            "height": null,
            "justify_content": null,
            "justify_items": null,
            "left": null,
            "margin": null,
            "max_height": null,
            "max_width": null,
            "min_height": null,
            "min_width": null,
            "object_fit": null,
            "object_position": null,
            "order": null,
            "overflow": null,
            "overflow_x": null,
            "overflow_y": null,
            "padding": null,
            "right": null,
            "top": null,
            "visibility": null,
            "width": null
          }
        },
        "63949a269dda423bb9846d7066414900": {
          "model_module": "@jupyter-widgets/base",
          "model_name": "LayoutModel",
          "model_module_version": "1.2.0",
          "state": {
            "_model_module": "@jupyter-widgets/base",
            "_model_module_version": "1.2.0",
            "_model_name": "LayoutModel",
            "_view_count": null,
            "_view_module": "@jupyter-widgets/base",
            "_view_module_version": "1.2.0",
            "_view_name": "LayoutView",
            "align_content": null,
            "align_items": null,
            "align_self": null,
            "border": null,
            "bottom": null,
            "display": null,
            "flex": null,
            "flex_flow": null,
            "grid_area": null,
            "grid_auto_columns": null,
            "grid_auto_flow": null,
            "grid_auto_rows": null,
            "grid_column": null,
            "grid_gap": null,
            "grid_row": null,
            "grid_template_areas": null,
            "grid_template_columns": null,
            "grid_template_rows": null,
            "height": null,
            "justify_content": null,
            "justify_items": null,
            "left": null,
            "margin": null,
            "max_height": null,
            "max_width": null,
            "min_height": null,
            "min_width": null,
            "object_fit": null,
            "object_position": null,
            "order": null,
            "overflow": null,
            "overflow_x": null,
            "overflow_y": null,
            "padding": null,
            "right": null,
            "top": null,
            "visibility": null,
            "width": null
          }
        },
        "fab92313d4134de1b70c7bb047c4814e": {
          "model_module": "@jupyter-widgets/controls",
          "model_name": "DescriptionStyleModel",
          "model_module_version": "1.5.0",
          "state": {
            "_model_module": "@jupyter-widgets/controls",
            "_model_module_version": "1.5.0",
            "_model_name": "DescriptionStyleModel",
            "_view_count": null,
            "_view_module": "@jupyter-widgets/base",
            "_view_module_version": "1.2.0",
            "_view_name": "StyleView",
            "description_width": ""
          }
        },
        "0ebcb0bf7bac4ee797f7bb405891bd95": {
          "model_module": "@jupyter-widgets/base",
          "model_name": "LayoutModel",
          "model_module_version": "1.2.0",
          "state": {
            "_model_module": "@jupyter-widgets/base",
            "_model_module_version": "1.2.0",
            "_model_name": "LayoutModel",
            "_view_count": null,
            "_view_module": "@jupyter-widgets/base",
            "_view_module_version": "1.2.0",
            "_view_name": "LayoutView",
            "align_content": null,
            "align_items": null,
            "align_self": null,
            "border": null,
            "bottom": null,
            "display": null,
            "flex": null,
            "flex_flow": null,
            "grid_area": null,
            "grid_auto_columns": null,
            "grid_auto_flow": null,
            "grid_auto_rows": null,
            "grid_column": null,
            "grid_gap": null,
            "grid_row": null,
            "grid_template_areas": null,
            "grid_template_columns": null,
            "grid_template_rows": null,
            "height": null,
            "justify_content": null,
            "justify_items": null,
            "left": null,
            "margin": null,
            "max_height": null,
            "max_width": null,
            "min_height": null,
            "min_width": null,
            "object_fit": null,
            "object_position": null,
            "order": null,
            "overflow": null,
            "overflow_x": null,
            "overflow_y": null,
            "padding": null,
            "right": null,
            "top": null,
            "visibility": null,
            "width": null
          }
        },
        "7f5767c3bece43f8989213069b18cf15": {
          "model_module": "@jupyter-widgets/controls",
          "model_name": "ProgressStyleModel",
          "model_module_version": "1.5.0",
          "state": {
            "_model_module": "@jupyter-widgets/controls",
            "_model_module_version": "1.5.0",
            "_model_name": "ProgressStyleModel",
            "_view_count": null,
            "_view_module": "@jupyter-widgets/base",
            "_view_module_version": "1.2.0",
            "_view_name": "StyleView",
            "bar_color": null,
            "description_width": ""
          }
        },
        "a96084ae823049708f90555f47c92193": {
          "model_module": "@jupyter-widgets/base",
          "model_name": "LayoutModel",
          "model_module_version": "1.2.0",
          "state": {
            "_model_module": "@jupyter-widgets/base",
            "_model_module_version": "1.2.0",
            "_model_name": "LayoutModel",
            "_view_count": null,
            "_view_module": "@jupyter-widgets/base",
            "_view_module_version": "1.2.0",
            "_view_name": "LayoutView",
            "align_content": null,
            "align_items": null,
            "align_self": null,
            "border": null,
            "bottom": null,
            "display": null,
            "flex": null,
            "flex_flow": null,
            "grid_area": null,
            "grid_auto_columns": null,
            "grid_auto_flow": null,
            "grid_auto_rows": null,
            "grid_column": null,
            "grid_gap": null,
            "grid_row": null,
            "grid_template_areas": null,
            "grid_template_columns": null,
            "grid_template_rows": null,
            "height": null,
            "justify_content": null,
            "justify_items": null,
            "left": null,
            "margin": null,
            "max_height": null,
            "max_width": null,
            "min_height": null,
            "min_width": null,
            "object_fit": null,
            "object_position": null,
            "order": null,
            "overflow": null,
            "overflow_x": null,
            "overflow_y": null,
            "padding": null,
            "right": null,
            "top": null,
            "visibility": null,
            "width": null
          }
        },
        "b408903d7c1f454e8efeadc912d50cce": {
          "model_module": "@jupyter-widgets/controls",
          "model_name": "DescriptionStyleModel",
          "model_module_version": "1.5.0",
          "state": {
            "_model_module": "@jupyter-widgets/controls",
            "_model_module_version": "1.5.0",
            "_model_name": "DescriptionStyleModel",
            "_view_count": null,
            "_view_module": "@jupyter-widgets/base",
            "_view_module_version": "1.2.0",
            "_view_name": "StyleView",
            "description_width": ""
          }
        },
        "4e6642cb92b84f3c84f2bc2f0487bd2f": {
          "model_module": "@jupyter-widgets/controls",
          "model_name": "HBoxModel",
          "model_module_version": "1.5.0",
          "state": {
            "_dom_classes": [],
            "_model_module": "@jupyter-widgets/controls",
            "_model_module_version": "1.5.0",
            "_model_name": "HBoxModel",
            "_view_count": null,
            "_view_module": "@jupyter-widgets/controls",
            "_view_module_version": "1.5.0",
            "_view_name": "HBoxView",
            "box_style": "",
            "children": [
              "IPY_MODEL_78980779dc29480aa034f1740ba120b5",
              "IPY_MODEL_97e2c62d6fe14a578f96dc18fd64e511",
              "IPY_MODEL_9ffd3ecedde04e9b8f692488d5b5c443"
            ],
            "layout": "IPY_MODEL_52c15fe1751d4f5cbffef77856f2012c"
          }
        },
        "78980779dc29480aa034f1740ba120b5": {
          "model_module": "@jupyter-widgets/controls",
          "model_name": "HTMLModel",
          "model_module_version": "1.5.0",
          "state": {
            "_dom_classes": [],
            "_model_module": "@jupyter-widgets/controls",
            "_model_module_version": "1.5.0",
            "_model_name": "HTMLModel",
            "_view_count": null,
            "_view_module": "@jupyter-widgets/controls",
            "_view_module_version": "1.5.0",
            "_view_name": "HTMLView",
            "description": "",
            "description_tooltip": null,
            "layout": "IPY_MODEL_e2bb18de331241d28a75d30b4a2141b3",
            "placeholder": "​",
            "style": "IPY_MODEL_728d3955afd24d3ca5a2bf58cc01815c",
            "value": "Downloading (…)olve/main/merges.txt: 100%"
          }
        },
        "97e2c62d6fe14a578f96dc18fd64e511": {
          "model_module": "@jupyter-widgets/controls",
          "model_name": "FloatProgressModel",
          "model_module_version": "1.5.0",
          "state": {
            "_dom_classes": [],
            "_model_module": "@jupyter-widgets/controls",
            "_model_module_version": "1.5.0",
            "_model_name": "FloatProgressModel",
            "_view_count": null,
            "_view_module": "@jupyter-widgets/controls",
            "_view_module_version": "1.5.0",
            "_view_name": "ProgressView",
            "bar_style": "success",
            "description": "",
            "description_tooltip": null,
            "layout": "IPY_MODEL_2811efff7d7740ecbd18da4d339488d3",
            "max": 508261,
            "min": 0,
            "orientation": "horizontal",
            "style": "IPY_MODEL_fb193ead35c146c4861ef92933efc3fd",
            "value": 508261
          }
        },
        "9ffd3ecedde04e9b8f692488d5b5c443": {
          "model_module": "@jupyter-widgets/controls",
          "model_name": "HTMLModel",
          "model_module_version": "1.5.0",
          "state": {
            "_dom_classes": [],
            "_model_module": "@jupyter-widgets/controls",
            "_model_module_version": "1.5.0",
            "_model_name": "HTMLModel",
            "_view_count": null,
            "_view_module": "@jupyter-widgets/controls",
            "_view_module_version": "1.5.0",
            "_view_name": "HTMLView",
            "description": "",
            "description_tooltip": null,
            "layout": "IPY_MODEL_be6f6aa85866431cb2573be6d36af5b8",
            "placeholder": "​",
            "style": "IPY_MODEL_fb42e354eac744c18f6853e8b4b3ef98",
            "value": " 508k/508k [00:00&lt;00:00, 4.06MB/s]"
          }
        },
        "52c15fe1751d4f5cbffef77856f2012c": {
          "model_module": "@jupyter-widgets/base",
          "model_name": "LayoutModel",
          "model_module_version": "1.2.0",
          "state": {
            "_model_module": "@jupyter-widgets/base",
            "_model_module_version": "1.2.0",
            "_model_name": "LayoutModel",
            "_view_count": null,
            "_view_module": "@jupyter-widgets/base",
            "_view_module_version": "1.2.0",
            "_view_name": "LayoutView",
            "align_content": null,
            "align_items": null,
            "align_self": null,
            "border": null,
            "bottom": null,
            "display": null,
            "flex": null,
            "flex_flow": null,
            "grid_area": null,
            "grid_auto_columns": null,
            "grid_auto_flow": null,
            "grid_auto_rows": null,
            "grid_column": null,
            "grid_gap": null,
            "grid_row": null,
            "grid_template_areas": null,
            "grid_template_columns": null,
            "grid_template_rows": null,
            "height": null,
            "justify_content": null,
            "justify_items": null,
            "left": null,
            "margin": null,
            "max_height": null,
            "max_width": null,
            "min_height": null,
            "min_width": null,
            "object_fit": null,
            "object_position": null,
            "order": null,
            "overflow": null,
            "overflow_x": null,
            "overflow_y": null,
            "padding": null,
            "right": null,
            "top": null,
            "visibility": null,
            "width": null
          }
        },
        "e2bb18de331241d28a75d30b4a2141b3": {
          "model_module": "@jupyter-widgets/base",
          "model_name": "LayoutModel",
          "model_module_version": "1.2.0",
          "state": {
            "_model_module": "@jupyter-widgets/base",
            "_model_module_version": "1.2.0",
            "_model_name": "LayoutModel",
            "_view_count": null,
            "_view_module": "@jupyter-widgets/base",
            "_view_module_version": "1.2.0",
            "_view_name": "LayoutView",
            "align_content": null,
            "align_items": null,
            "align_self": null,
            "border": null,
            "bottom": null,
            "display": null,
            "flex": null,
            "flex_flow": null,
            "grid_area": null,
            "grid_auto_columns": null,
            "grid_auto_flow": null,
            "grid_auto_rows": null,
            "grid_column": null,
            "grid_gap": null,
            "grid_row": null,
            "grid_template_areas": null,
            "grid_template_columns": null,
            "grid_template_rows": null,
            "height": null,
            "justify_content": null,
            "justify_items": null,
            "left": null,
            "margin": null,
            "max_height": null,
            "max_width": null,
            "min_height": null,
            "min_width": null,
            "object_fit": null,
            "object_position": null,
            "order": null,
            "overflow": null,
            "overflow_x": null,
            "overflow_y": null,
            "padding": null,
            "right": null,
            "top": null,
            "visibility": null,
            "width": null
          }
        },
        "728d3955afd24d3ca5a2bf58cc01815c": {
          "model_module": "@jupyter-widgets/controls",
          "model_name": "DescriptionStyleModel",
          "model_module_version": "1.5.0",
          "state": {
            "_model_module": "@jupyter-widgets/controls",
            "_model_module_version": "1.5.0",
            "_model_name": "DescriptionStyleModel",
            "_view_count": null,
            "_view_module": "@jupyter-widgets/base",
            "_view_module_version": "1.2.0",
            "_view_name": "StyleView",
            "description_width": ""
          }
        },
        "2811efff7d7740ecbd18da4d339488d3": {
          "model_module": "@jupyter-widgets/base",
          "model_name": "LayoutModel",
          "model_module_version": "1.2.0",
          "state": {
            "_model_module": "@jupyter-widgets/base",
            "_model_module_version": "1.2.0",
            "_model_name": "LayoutModel",
            "_view_count": null,
            "_view_module": "@jupyter-widgets/base",
            "_view_module_version": "1.2.0",
            "_view_name": "LayoutView",
            "align_content": null,
            "align_items": null,
            "align_self": null,
            "border": null,
            "bottom": null,
            "display": null,
            "flex": null,
            "flex_flow": null,
            "grid_area": null,
            "grid_auto_columns": null,
            "grid_auto_flow": null,
            "grid_auto_rows": null,
            "grid_column": null,
            "grid_gap": null,
            "grid_row": null,
            "grid_template_areas": null,
            "grid_template_columns": null,
            "grid_template_rows": null,
            "height": null,
            "justify_content": null,
            "justify_items": null,
            "left": null,
            "margin": null,
            "max_height": null,
            "max_width": null,
            "min_height": null,
            "min_width": null,
            "object_fit": null,
            "object_position": null,
            "order": null,
            "overflow": null,
            "overflow_x": null,
            "overflow_y": null,
            "padding": null,
            "right": null,
            "top": null,
            "visibility": null,
            "width": null
          }
        },
        "fb193ead35c146c4861ef92933efc3fd": {
          "model_module": "@jupyter-widgets/controls",
          "model_name": "ProgressStyleModel",
          "model_module_version": "1.5.0",
          "state": {
            "_model_module": "@jupyter-widgets/controls",
            "_model_module_version": "1.5.0",
            "_model_name": "ProgressStyleModel",
            "_view_count": null,
            "_view_module": "@jupyter-widgets/base",
            "_view_module_version": "1.2.0",
            "_view_name": "StyleView",
            "bar_color": null,
            "description_width": ""
          }
        },
        "be6f6aa85866431cb2573be6d36af5b8": {
          "model_module": "@jupyter-widgets/base",
          "model_name": "LayoutModel",
          "model_module_version": "1.2.0",
          "state": {
            "_model_module": "@jupyter-widgets/base",
            "_model_module_version": "1.2.0",
            "_model_name": "LayoutModel",
            "_view_count": null,
            "_view_module": "@jupyter-widgets/base",
            "_view_module_version": "1.2.0",
            "_view_name": "LayoutView",
            "align_content": null,
            "align_items": null,
            "align_self": null,
            "border": null,
            "bottom": null,
            "display": null,
            "flex": null,
            "flex_flow": null,
            "grid_area": null,
            "grid_auto_columns": null,
            "grid_auto_flow": null,
            "grid_auto_rows": null,
            "grid_column": null,
            "grid_gap": null,
            "grid_row": null,
            "grid_template_areas": null,
            "grid_template_columns": null,
            "grid_template_rows": null,
            "height": null,
            "justify_content": null,
            "justify_items": null,
            "left": null,
            "margin": null,
            "max_height": null,
            "max_width": null,
            "min_height": null,
            "min_width": null,
            "object_fit": null,
            "object_position": null,
            "order": null,
            "overflow": null,
            "overflow_x": null,
            "overflow_y": null,
            "padding": null,
            "right": null,
            "top": null,
            "visibility": null,
            "width": null
          }
        },
        "fb42e354eac744c18f6853e8b4b3ef98": {
          "model_module": "@jupyter-widgets/controls",
          "model_name": "DescriptionStyleModel",
          "model_module_version": "1.5.0",
          "state": {
            "_model_module": "@jupyter-widgets/controls",
            "_model_module_version": "1.5.0",
            "_model_name": "DescriptionStyleModel",
            "_view_count": null,
            "_view_module": "@jupyter-widgets/base",
            "_view_module_version": "1.2.0",
            "_view_name": "StyleView",
            "description_width": ""
          }
        },
        "ff8eeb63ecc0492398796637055a37a8": {
          "model_module": "@jupyter-widgets/controls",
          "model_name": "HBoxModel",
          "model_module_version": "1.5.0",
          "state": {
            "_dom_classes": [],
            "_model_module": "@jupyter-widgets/controls",
            "_model_module_version": "1.5.0",
            "_model_name": "HBoxModel",
            "_view_count": null,
            "_view_module": "@jupyter-widgets/controls",
            "_view_module_version": "1.5.0",
            "_view_name": "HBoxView",
            "box_style": "",
            "children": [
              "IPY_MODEL_ac238d844a3a482a9ca6a9b894da156b",
              "IPY_MODEL_7902d976410e4c0db305b13342ba9b96",
              "IPY_MODEL_fb335ee33a734169bdc122ac0ed2e61b"
            ],
            "layout": "IPY_MODEL_0517f19a6c704e10a89b911bbeb4ac0b"
          }
        },
        "ac238d844a3a482a9ca6a9b894da156b": {
          "model_module": "@jupyter-widgets/controls",
          "model_name": "HTMLModel",
          "model_module_version": "1.5.0",
          "state": {
            "_dom_classes": [],
            "_model_module": "@jupyter-widgets/controls",
            "_model_module_version": "1.5.0",
            "_model_name": "HTMLModel",
            "_view_count": null,
            "_view_module": "@jupyter-widgets/controls",
            "_view_module_version": "1.5.0",
            "_view_name": "HTMLView",
            "description": "",
            "description_tooltip": null,
            "layout": "IPY_MODEL_1f79911a57ba42b1b425b57dfc4c6e40",
            "placeholder": "​",
            "style": "IPY_MODEL_1d02624bfdf1412e8ca88dd5a4cb2dcf",
            "value": "Downloading (…)cial_tokens_map.json: 100%"
          }
        },
        "7902d976410e4c0db305b13342ba9b96": {
          "model_module": "@jupyter-widgets/controls",
          "model_name": "FloatProgressModel",
          "model_module_version": "1.5.0",
          "state": {
            "_dom_classes": [],
            "_model_module": "@jupyter-widgets/controls",
            "_model_module_version": "1.5.0",
            "_model_name": "FloatProgressModel",
            "_view_count": null,
            "_view_module": "@jupyter-widgets/controls",
            "_view_module_version": "1.5.0",
            "_view_name": "ProgressView",
            "bar_style": "success",
            "description": "",
            "description_tooltip": null,
            "layout": "IPY_MODEL_df34237fec0f46cebf25d03480096de4",
            "max": 120,
            "min": 0,
            "orientation": "horizontal",
            "style": "IPY_MODEL_eba5e7a2cfe446cba8c43b6a8cf7c4fe",
            "value": 120
          }
        },
        "fb335ee33a734169bdc122ac0ed2e61b": {
          "model_module": "@jupyter-widgets/controls",
          "model_name": "HTMLModel",
          "model_module_version": "1.5.0",
          "state": {
            "_dom_classes": [],
            "_model_module": "@jupyter-widgets/controls",
            "_model_module_version": "1.5.0",
            "_model_name": "HTMLModel",
            "_view_count": null,
            "_view_module": "@jupyter-widgets/controls",
            "_view_module_version": "1.5.0",
            "_view_name": "HTMLView",
            "description": "",
            "description_tooltip": null,
            "layout": "IPY_MODEL_72a55c1e45cd4b959653171d293f00e7",
            "placeholder": "​",
            "style": "IPY_MODEL_ddad9518ed2e41f387cc159fc21b77e1",
            "value": " 120/120 [00:00&lt;00:00, 2.20kB/s]"
          }
        },
        "0517f19a6c704e10a89b911bbeb4ac0b": {
          "model_module": "@jupyter-widgets/base",
          "model_name": "LayoutModel",
          "model_module_version": "1.2.0",
          "state": {
            "_model_module": "@jupyter-widgets/base",
            "_model_module_version": "1.2.0",
            "_model_name": "LayoutModel",
            "_view_count": null,
            "_view_module": "@jupyter-widgets/base",
            "_view_module_version": "1.2.0",
            "_view_name": "LayoutView",
            "align_content": null,
            "align_items": null,
            "align_self": null,
            "border": null,
            "bottom": null,
            "display": null,
            "flex": null,
            "flex_flow": null,
            "grid_area": null,
            "grid_auto_columns": null,
            "grid_auto_flow": null,
            "grid_auto_rows": null,
            "grid_column": null,
            "grid_gap": null,
            "grid_row": null,
            "grid_template_areas": null,
            "grid_template_columns": null,
            "grid_template_rows": null,
            "height": null,
            "justify_content": null,
            "justify_items": null,
            "left": null,
            "margin": null,
            "max_height": null,
            "max_width": null,
            "min_height": null,
            "min_width": null,
            "object_fit": null,
            "object_position": null,
            "order": null,
            "overflow": null,
            "overflow_x": null,
            "overflow_y": null,
            "padding": null,
            "right": null,
            "top": null,
            "visibility": null,
            "width": null
          }
        },
        "1f79911a57ba42b1b425b57dfc4c6e40": {
          "model_module": "@jupyter-widgets/base",
          "model_name": "LayoutModel",
          "model_module_version": "1.2.0",
          "state": {
            "_model_module": "@jupyter-widgets/base",
            "_model_module_version": "1.2.0",
            "_model_name": "LayoutModel",
            "_view_count": null,
            "_view_module": "@jupyter-widgets/base",
            "_view_module_version": "1.2.0",
            "_view_name": "LayoutView",
            "align_content": null,
            "align_items": null,
            "align_self": null,
            "border": null,
            "bottom": null,
            "display": null,
            "flex": null,
            "flex_flow": null,
            "grid_area": null,
            "grid_auto_columns": null,
            "grid_auto_flow": null,
            "grid_auto_rows": null,
            "grid_column": null,
            "grid_gap": null,
            "grid_row": null,
            "grid_template_areas": null,
            "grid_template_columns": null,
            "grid_template_rows": null,
            "height": null,
            "justify_content": null,
            "justify_items": null,
            "left": null,
            "margin": null,
            "max_height": null,
            "max_width": null,
            "min_height": null,
            "min_width": null,
            "object_fit": null,
            "object_position": null,
            "order": null,
            "overflow": null,
            "overflow_x": null,
            "overflow_y": null,
            "padding": null,
            "right": null,
            "top": null,
            "visibility": null,
            "width": null
          }
        },
        "1d02624bfdf1412e8ca88dd5a4cb2dcf": {
          "model_module": "@jupyter-widgets/controls",
          "model_name": "DescriptionStyleModel",
          "model_module_version": "1.5.0",
          "state": {
            "_model_module": "@jupyter-widgets/controls",
            "_model_module_version": "1.5.0",
            "_model_name": "DescriptionStyleModel",
            "_view_count": null,
            "_view_module": "@jupyter-widgets/base",
            "_view_module_version": "1.2.0",
            "_view_name": "StyleView",
            "description_width": ""
          }
        },
        "df34237fec0f46cebf25d03480096de4": {
          "model_module": "@jupyter-widgets/base",
          "model_name": "LayoutModel",
          "model_module_version": "1.2.0",
          "state": {
            "_model_module": "@jupyter-widgets/base",
            "_model_module_version": "1.2.0",
            "_model_name": "LayoutModel",
            "_view_count": null,
            "_view_module": "@jupyter-widgets/base",
            "_view_module_version": "1.2.0",
            "_view_name": "LayoutView",
            "align_content": null,
            "align_items": null,
            "align_self": null,
            "border": null,
            "bottom": null,
            "display": null,
            "flex": null,
            "flex_flow": null,
            "grid_area": null,
            "grid_auto_columns": null,
            "grid_auto_flow": null,
            "grid_auto_rows": null,
            "grid_column": null,
            "grid_gap": null,
            "grid_row": null,
            "grid_template_areas": null,
            "grid_template_columns": null,
            "grid_template_rows": null,
            "height": null,
            "justify_content": null,
            "justify_items": null,
            "left": null,
            "margin": null,
            "max_height": null,
            "max_width": null,
            "min_height": null,
            "min_width": null,
            "object_fit": null,
            "object_position": null,
            "order": null,
            "overflow": null,
            "overflow_x": null,
            "overflow_y": null,
            "padding": null,
            "right": null,
            "top": null,
            "visibility": null,
            "width": null
          }
        },
        "eba5e7a2cfe446cba8c43b6a8cf7c4fe": {
          "model_module": "@jupyter-widgets/controls",
          "model_name": "ProgressStyleModel",
          "model_module_version": "1.5.0",
          "state": {
            "_model_module": "@jupyter-widgets/controls",
            "_model_module_version": "1.5.0",
            "_model_name": "ProgressStyleModel",
            "_view_count": null,
            "_view_module": "@jupyter-widgets/base",
            "_view_module_version": "1.2.0",
            "_view_name": "StyleView",
            "bar_color": null,
            "description_width": ""
          }
        },
        "72a55c1e45cd4b959653171d293f00e7": {
          "model_module": "@jupyter-widgets/base",
          "model_name": "LayoutModel",
          "model_module_version": "1.2.0",
          "state": {
            "_model_module": "@jupyter-widgets/base",
            "_model_module_version": "1.2.0",
            "_model_name": "LayoutModel",
            "_view_count": null,
            "_view_module": "@jupyter-widgets/base",
            "_view_module_version": "1.2.0",
            "_view_name": "LayoutView",
            "align_content": null,
            "align_items": null,
            "align_self": null,
            "border": null,
            "bottom": null,
            "display": null,
            "flex": null,
            "flex_flow": null,
            "grid_area": null,
            "grid_auto_columns": null,
            "grid_auto_flow": null,
            "grid_auto_rows": null,
            "grid_column": null,
            "grid_gap": null,
            "grid_row": null,
            "grid_template_areas": null,
            "grid_template_columns": null,
            "grid_template_rows": null,
            "height": null,
            "justify_content": null,
            "justify_items": null,
            "left": null,
            "margin": null,
            "max_height": null,
            "max_width": null,
            "min_height": null,
            "min_width": null,
            "object_fit": null,
            "object_position": null,
            "order": null,
            "overflow": null,
            "overflow_x": null,
            "overflow_y": null,
            "padding": null,
            "right": null,
            "top": null,
            "visibility": null,
            "width": null
          }
        },
        "ddad9518ed2e41f387cc159fc21b77e1": {
          "model_module": "@jupyter-widgets/controls",
          "model_name": "DescriptionStyleModel",
          "model_module_version": "1.5.0",
          "state": {
            "_model_module": "@jupyter-widgets/controls",
            "_model_module_version": "1.5.0",
            "_model_name": "DescriptionStyleModel",
            "_view_count": null,
            "_view_module": "@jupyter-widgets/base",
            "_view_module_version": "1.2.0",
            "_view_name": "StyleView",
            "description_width": ""
          }
        },
        "b0b4805b3b7b4803ac6a4c4bed4e3ed5": {
          "model_module": "@jupyter-widgets/controls",
          "model_name": "HBoxModel",
          "model_module_version": "1.5.0",
          "state": {
            "_dom_classes": [],
            "_model_module": "@jupyter-widgets/controls",
            "_model_module_version": "1.5.0",
            "_model_name": "HBoxModel",
            "_view_count": null,
            "_view_module": "@jupyter-widgets/controls",
            "_view_module_version": "1.5.0",
            "_view_name": "HBoxView",
            "box_style": "",
            "children": [
              "IPY_MODEL_3b985a2103564665a6f7ada52da2a803",
              "IPY_MODEL_e32d148aa02f4e07b6727ebf5573e7a4",
              "IPY_MODEL_dd7e480ef34f41579ef448ad9a90dd74"
            ],
            "layout": "IPY_MODEL_c04575f47ffd4175b2d9aa51c60d160e"
          }
        },
        "3b985a2103564665a6f7ada52da2a803": {
          "model_module": "@jupyter-widgets/controls",
          "model_name": "HTMLModel",
          "model_module_version": "1.5.0",
          "state": {
            "_dom_classes": [],
            "_model_module": "@jupyter-widgets/controls",
            "_model_module_version": "1.5.0",
            "_model_name": "HTMLModel",
            "_view_count": null,
            "_view_module": "@jupyter-widgets/controls",
            "_view_module_version": "1.5.0",
            "_view_name": "HTMLView",
            "description": "",
            "description_tooltip": null,
            "layout": "IPY_MODEL_212a05706c924f859d4d6bb9186f926d",
            "placeholder": "​",
            "style": "IPY_MODEL_58c22e7656fe41aeba5bc7331615eb2f",
            "value": "Downloading pytorch_model.bin: 100%"
          }
        },
        "e32d148aa02f4e07b6727ebf5573e7a4": {
          "model_module": "@jupyter-widgets/controls",
          "model_name": "FloatProgressModel",
          "model_module_version": "1.5.0",
          "state": {
            "_dom_classes": [],
            "_model_module": "@jupyter-widgets/controls",
            "_model_module_version": "1.5.0",
            "_model_name": "FloatProgressModel",
            "_view_count": null,
            "_view_module": "@jupyter-widgets/controls",
            "_view_module_version": "1.5.0",
            "_view_name": "ProgressView",
            "bar_style": "success",
            "description": "",
            "description_tooltip": null,
            "layout": "IPY_MODEL_4dec70bc825e453489fbb0bb2a8689e2",
            "max": 510378682,
            "min": 0,
            "orientation": "horizontal",
            "style": "IPY_MODEL_cdc0643e12d945069ea3e3903d3c67f4",
            "value": 510378682
          }
        },
        "dd7e480ef34f41579ef448ad9a90dd74": {
          "model_module": "@jupyter-widgets/controls",
          "model_name": "HTMLModel",
          "model_module_version": "1.5.0",
          "state": {
            "_dom_classes": [],
            "_model_module": "@jupyter-widgets/controls",
            "_model_module_version": "1.5.0",
            "_model_name": "HTMLModel",
            "_view_count": null,
            "_view_module": "@jupyter-widgets/controls",
            "_view_module_version": "1.5.0",
            "_view_name": "HTMLView",
            "description": "",
            "description_tooltip": null,
            "layout": "IPY_MODEL_bee1536f2ecb4f8f9bc874a15f709805",
            "placeholder": "​",
            "style": "IPY_MODEL_d27626df1c444508b7e5309d4da26be5",
            "value": " 510M/510M [00:32&lt;00:00, 16.9MB/s]"
          }
        },
        "c04575f47ffd4175b2d9aa51c60d160e": {
          "model_module": "@jupyter-widgets/base",
          "model_name": "LayoutModel",
          "model_module_version": "1.2.0",
          "state": {
            "_model_module": "@jupyter-widgets/base",
            "_model_module_version": "1.2.0",
            "_model_name": "LayoutModel",
            "_view_count": null,
            "_view_module": "@jupyter-widgets/base",
            "_view_module_version": "1.2.0",
            "_view_name": "LayoutView",
            "align_content": null,
            "align_items": null,
            "align_self": null,
            "border": null,
            "bottom": null,
            "display": null,
            "flex": null,
            "flex_flow": null,
            "grid_area": null,
            "grid_auto_columns": null,
            "grid_auto_flow": null,
            "grid_auto_rows": null,
            "grid_column": null,
            "grid_gap": null,
            "grid_row": null,
            "grid_template_areas": null,
            "grid_template_columns": null,
            "grid_template_rows": null,
            "height": null,
            "justify_content": null,
            "justify_items": null,
            "left": null,
            "margin": null,
            "max_height": null,
            "max_width": null,
            "min_height": null,
            "min_width": null,
            "object_fit": null,
            "object_position": null,
            "order": null,
            "overflow": null,
            "overflow_x": null,
            "overflow_y": null,
            "padding": null,
            "right": null,
            "top": null,
            "visibility": null,
            "width": null
          }
        },
        "212a05706c924f859d4d6bb9186f926d": {
          "model_module": "@jupyter-widgets/base",
          "model_name": "LayoutModel",
          "model_module_version": "1.2.0",
          "state": {
            "_model_module": "@jupyter-widgets/base",
            "_model_module_version": "1.2.0",
            "_model_name": "LayoutModel",
            "_view_count": null,
            "_view_module": "@jupyter-widgets/base",
            "_view_module_version": "1.2.0",
            "_view_name": "LayoutView",
            "align_content": null,
            "align_items": null,
            "align_self": null,
            "border": null,
            "bottom": null,
            "display": null,
            "flex": null,
            "flex_flow": null,
            "grid_area": null,
            "grid_auto_columns": null,
            "grid_auto_flow": null,
            "grid_auto_rows": null,
            "grid_column": null,
            "grid_gap": null,
            "grid_row": null,
            "grid_template_areas": null,
            "grid_template_columns": null,
            "grid_template_rows": null,
            "height": null,
            "justify_content": null,
            "justify_items": null,
            "left": null,
            "margin": null,
            "max_height": null,
            "max_width": null,
            "min_height": null,
            "min_width": null,
            "object_fit": null,
            "object_position": null,
            "order": null,
            "overflow": null,
            "overflow_x": null,
            "overflow_y": null,
            "padding": null,
            "right": null,
            "top": null,
            "visibility": null,
            "width": null
          }
        },
        "58c22e7656fe41aeba5bc7331615eb2f": {
          "model_module": "@jupyter-widgets/controls",
          "model_name": "DescriptionStyleModel",
          "model_module_version": "1.5.0",
          "state": {
            "_model_module": "@jupyter-widgets/controls",
            "_model_module_version": "1.5.0",
            "_model_name": "DescriptionStyleModel",
            "_view_count": null,
            "_view_module": "@jupyter-widgets/base",
            "_view_module_version": "1.2.0",
            "_view_name": "StyleView",
            "description_width": ""
          }
        },
        "4dec70bc825e453489fbb0bb2a8689e2": {
          "model_module": "@jupyter-widgets/base",
          "model_name": "LayoutModel",
          "model_module_version": "1.2.0",
          "state": {
            "_model_module": "@jupyter-widgets/base",
            "_model_module_version": "1.2.0",
            "_model_name": "LayoutModel",
            "_view_count": null,
            "_view_module": "@jupyter-widgets/base",
            "_view_module_version": "1.2.0",
            "_view_name": "LayoutView",
            "align_content": null,
            "align_items": null,
            "align_self": null,
            "border": null,
            "bottom": null,
            "display": null,
            "flex": null,
            "flex_flow": null,
            "grid_area": null,
            "grid_auto_columns": null,
            "grid_auto_flow": null,
            "grid_auto_rows": null,
            "grid_column": null,
            "grid_gap": null,
            "grid_row": null,
            "grid_template_areas": null,
            "grid_template_columns": null,
            "grid_template_rows": null,
            "height": null,
            "justify_content": null,
            "justify_items": null,
            "left": null,
            "margin": null,
            "max_height": null,
            "max_width": null,
            "min_height": null,
            "min_width": null,
            "object_fit": null,
            "object_position": null,
            "order": null,
            "overflow": null,
            "overflow_x": null,
            "overflow_y": null,
            "padding": null,
            "right": null,
            "top": null,
            "visibility": null,
            "width": null
          }
        },
        "cdc0643e12d945069ea3e3903d3c67f4": {
          "model_module": "@jupyter-widgets/controls",
          "model_name": "ProgressStyleModel",
          "model_module_version": "1.5.0",
          "state": {
            "_model_module": "@jupyter-widgets/controls",
            "_model_module_version": "1.5.0",
            "_model_name": "ProgressStyleModel",
            "_view_count": null,
            "_view_module": "@jupyter-widgets/base",
            "_view_module_version": "1.2.0",
            "_view_name": "StyleView",
            "bar_color": null,
            "description_width": ""
          }
        },
        "bee1536f2ecb4f8f9bc874a15f709805": {
          "model_module": "@jupyter-widgets/base",
          "model_name": "LayoutModel",
          "model_module_version": "1.2.0",
          "state": {
            "_model_module": "@jupyter-widgets/base",
            "_model_module_version": "1.2.0",
            "_model_name": "LayoutModel",
            "_view_count": null,
            "_view_module": "@jupyter-widgets/base",
            "_view_module_version": "1.2.0",
            "_view_name": "LayoutView",
            "align_content": null,
            "align_items": null,
            "align_self": null,
            "border": null,
            "bottom": null,
            "display": null,
            "flex": null,
            "flex_flow": null,
            "grid_area": null,
            "grid_auto_columns": null,
            "grid_auto_flow": null,
            "grid_auto_rows": null,
            "grid_column": null,
            "grid_gap": null,
            "grid_row": null,
            "grid_template_areas": null,
            "grid_template_columns": null,
            "grid_template_rows": null,
            "height": null,
            "justify_content": null,
            "justify_items": null,
            "left": null,
            "margin": null,
            "max_height": null,
            "max_width": null,
            "min_height": null,
            "min_width": null,
            "object_fit": null,
            "object_position": null,
            "order": null,
            "overflow": null,
            "overflow_x": null,
            "overflow_y": null,
            "padding": null,
            "right": null,
            "top": null,
            "visibility": null,
            "width": null
          }
        },
        "d27626df1c444508b7e5309d4da26be5": {
          "model_module": "@jupyter-widgets/controls",
          "model_name": "DescriptionStyleModel",
          "model_module_version": "1.5.0",
          "state": {
            "_model_module": "@jupyter-widgets/controls",
            "_model_module_version": "1.5.0",
            "_model_name": "DescriptionStyleModel",
            "_view_count": null,
            "_view_module": "@jupyter-widgets/base",
            "_view_module_version": "1.2.0",
            "_view_name": "StyleView",
            "description_width": ""
          }
        }
      }
    }
  },
  "nbformat": 4,
  "nbformat_minor": 0
}