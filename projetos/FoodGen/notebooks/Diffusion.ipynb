{
 "cells": [
  {
   "cell_type": "code",
   "execution_count": 1,
   "metadata": {},
   "outputs": [],
   "source": [
    "import os\n",
    "os.environ[\"PYTORCH_CUDA_ALLOC_CONF\"] = \"max_split_size_mb:128\""
   ]
  },
  {
   "cell_type": "code",
   "execution_count": 2,
   "metadata": {
    "colab": {
     "base_uri": "https://localhost:8080/"
    },
    "id": "U4hCuDXptNn3",
    "outputId": "7a9b72d6-151b-405c-89be-5b4c0fc3aa63"
   },
   "outputs": [
    {
     "name": "stdout",
     "output_type": "stream",
     "text": [
      "Using device: cuda\n"
     ]
    }
   ],
   "source": [
    "# Importando as diversas bibliotecas necessárias para o funcionamento do modelo\n",
    "import torch\n",
    "import torchvision\n",
    "from torch import nn\n",
    "from torch.nn import functional as F\n",
    "from torch.utils.data import DataLoader\n",
    "from diffusers import DDPMScheduler, UNet2DModel\n",
    "from matplotlib import pyplot as plt\n",
    "import os\n",
    "import warnings\n",
    "from torchvision.datasets import Food101\n",
    "from PIL import Image\n",
    "import numpy as np\n",
    "from torchvision import transforms\n",
    "torch.cuda.empty_cache() \n",
    "\n",
    "# Selecionando uma GPU, caso esteja disponível\n",
    "device = torch.device(\"cuda\" if torch.cuda.is_available() else \"cpu\")\n",
    "print(f'Using device: {device}')"
   ]
  },
  {
   "cell_type": "code",
   "execution_count": 3,
   "metadata": {
    "colab": {
     "base_uri": "https://localhost:8080/"
    },
    "id": "jWs5tsjMtRGZ",
    "outputId": "d13d506e-9ef0-472f-afc7-3363508a1614"
   },
   "outputs": [],
   "source": [
    "food101set = torchvision.datasets.Food101('./data', download=False)"
   ]
  },
  {
   "cell_type": "code",
   "execution_count": 4,
   "metadata": {
    "id": "cJVS8HmptcI4"
   },
   "outputs": [],
   "source": [
    "batch_size = 32\n",
    "img_size = 64\n",
    "transformer = torchvision.transforms.Compose([\n",
    "    torchvision.transforms.Resize((img_size, img_size)),\n",
    "    transforms.RandomHorizontalFlip(),  # Randomly flip (data augmentation)\n",
    "    transforms.ToTensor(),  # Converte para tensor (0, 1)\n",
    "    transforms.Normalize([0.5], [0.5]),  # Mapear para (-1, 1)\n",
    "])\n",
    "food101set.transform = transformer"
   ]
  },
  {
   "cell_type": "code",
   "execution_count": 5,
   "metadata": {
    "id": "aDk0itRhtn-N"
   },
   "outputs": [],
   "source": [
    "train_dataloader = torch.utils.data.DataLoader(\n",
    "    food101set, batch_size=batch_size, shuffle=True\n",
    ")"
   ]
  },
  {
   "cell_type": "code",
   "execution_count": 6,
   "metadata": {
    "id": "zGfLXqqIupU5"
   },
   "outputs": [],
   "source": [
    "from diffusers import UNet2DModel\n",
    "\n",
    "# Criando o modelo\n",
    "model = UNet2DModel(\n",
    "    sample_size=img_size,  # resolução da imagem\n",
    "    in_channels=3,  # o número de canais de entrada (3 por ser RGB)\n",
    "    out_channels=3,  # o número de canais de saída\n",
    "    layers_per_block=2,  # quantas camadas de ResNet serão utilziada em cada bloco da UNet\n",
    "    block_out_channels=(64, 128, 128, 256),  # quanto mais canais, mais parâmetros\n",
    "    down_block_types=(\n",
    "        \"DownBlock2D\",  # bloco de downsampling da ResNet\n",
    "        \"DownBlock2D\",\n",
    "        \"AttnDownBlock2D\",  # bloco de downsampling da ResNet com self-attention\n",
    "        \"AttnDownBlock2D\",\n",
    "    ),\n",
    "    up_block_types=(\n",
    "        \"AttnUpBlock2D\",\n",
    "        \"AttnUpBlock2D\",  # bloco de upsampling da ResNet com self-attention\n",
    "        \"UpBlock2D\",\n",
    "        \"UpBlock2D\",  # bloco de upsampling da ResNet\n",
    "    ),\n",
    ")\n",
    "model.to(device);"
   ]
  },
  {
   "cell_type": "code",
   "execution_count": 7,
   "metadata": {
    "id": "0-ZAHgpMu4wZ"
   },
   "outputs": [],
   "source": [
    "from tqdm import tqdm\n",
    "from diffusers import DDPMScheduler"
   ]
  },
  {
   "cell_type": "code",
   "execution_count": 8,
   "metadata": {},
   "outputs": [
    {
     "data": {
      "text/plain": [
       "12"
      ]
     },
     "execution_count": 8,
     "metadata": {},
     "output_type": "execute_result"
    }
   ],
   "source": [
    "import gc\n",
    "gc.collect()\n"
   ]
  },
  {
   "cell_type": "code",
   "execution_count": 9,
   "metadata": {
    "colab": {
     "base_uri": "https://localhost:8080/",
     "height": 453
    },
    "id": "FOIHUMfOu8Gp",
    "outputId": "c5df459d-c4df-42ee-f475-be8c653edcf0"
   },
   "outputs": [
    {
     "name": "stderr",
     "output_type": "stream",
     "text": [
      "Training:   0%|                                          | 0/15 [00:00<?, ?it/s]/home/rafael/.local/lib/python3.10/site-packages/diffusers/configuration_utils.py:134: FutureWarning: Accessing config attribute `num_train_timesteps` directly via 'DDPMScheduler' object attribute is deprecated. Please access 'num_train_timesteps' over 'DDPMScheduler's config object instead, e.g. 'scheduler.config.num_train_timesteps'.\n",
      "  deprecate(\"direct config name access\", \"1.0.0\", deprecation_message, standard_warn=False)\n",
      "Training:  33%|█████████▎                  | 5/15 [2:01:18<4:02:05, 1452.58s/it]"
     ]
    },
    {
     "name": "stdout",
     "output_type": "stream",
     "text": [
      "Epoch:5, loss: 0.05234462515422697\n"
     ]
    },
    {
     "name": "stderr",
     "output_type": "stream",
     "text": [
      "Training:  67%|██████████████████         | 10/15 [4:02:07<2:00:47, 1449.43s/it]"
     ]
    },
    {
     "name": "stdout",
     "output_type": "stream",
     "text": [
      "Epoch:10, loss: 0.05045292750347053\n"
     ]
    },
    {
     "name": "stderr",
     "output_type": "stream",
     "text": [
      "Training: 100%|█████████████████████████████| 15/15 [6:03:06<00:00, 1452.41s/it]"
     ]
    },
    {
     "name": "stdout",
     "output_type": "stream",
     "text": [
      "Epoch:15, loss: 0.04889219097959859\n"
     ]
    },
    {
     "name": "stderr",
     "output_type": "stream",
     "text": [
      "\n"
     ]
    }
   ],
   "source": [
    "# Setando nosso scheduler de ruído\n",
    "noise_scheduler = DDPMScheduler(\n",
    "    num_train_timesteps=1000, beta_schedule=\"squaredcos_cap_v2\"\n",
    ")\n",
    "\n",
    "# Criando o loop de treinamento\n",
    "optimizer = torch.optim.AdamW(model.parameters(), lr=4e-4)\n",
    "\n",
    "losses = []\n",
    "num_epochs = 15\n",
    "\n",
    "for epoch in tqdm(range(num_epochs), desc = 'Training'):\n",
    "    for step, batch in enumerate(train_dataloader):\n",
    "        clean_images = batch[0].to(device)\n",
    "        # Ruído a ser inserido nas imagens\n",
    "        noise = torch.randn(clean_images.shape).to(clean_images.device)\n",
    "        bs = clean_images.shape[0]\n",
    "\n",
    "        # Selecionando um timesteps aleatório para cada imagem\n",
    "        timesteps = torch.randint(\n",
    "            0, noise_scheduler.num_train_timesteps, (bs,), device=clean_images.device\n",
    "        ).long()\n",
    "\n",
    "        # Adicionando ruído às imagens limpas de acordo com o valor do ruído em cada timestep\n",
    "        noisy_images = noise_scheduler.add_noise(clean_images, noise, timesteps)\n",
    "\n",
    "        # Fazendo a predição do modelo\n",
    "        noise_pred = model(noisy_images, timesteps, return_dict=False)[0]\n",
    "\n",
    "        # Calculando a função de custo\n",
    "        loss = F.mse_loss(noise_pred, noise)\n",
    "        loss.backward(loss)\n",
    "        losses.append(loss.item())\n",
    "\n",
    "        # Atualizando os parâmetros (pesos) do modelo com o otimizador\n",
    "        optimizer.step()\n",
    "        optimizer.zero_grad()\n",
    "\n",
    "    # Printando o processo a cada 5 épocas\n",
    "    if (epoch + 1) % 5 == 0:\n",
    "        loss_last_epoch = sum(losses[-len(train_dataloader) :]) / len(train_dataloader)\n",
    "        print(f\"Epoch:{epoch+1}, loss: {loss_last_epoch}\")"
   ]
  },
  {
   "cell_type": "code",
   "execution_count": 10,
   "metadata": {
    "id": "JykReGePvQla"
   },
   "outputs": [
    {
     "data": {
      "image/png": "[encoded data removed]",
      "text/plain": [
       "<Figure size 1200x400 with 2 Axes>"
      ]
     },
     "metadata": {},
     "output_type": "display_data"
    }
   ],
   "source": [
    "fig, axs = plt.subplots(1, 2, figsize=(12, 4))\n",
    "axs[0].plot(losses)\n",
    "axs[1].plot(np.log(losses))\n",
    "plt.show()"
   ]
  },
  {
   "cell_type": "code",
   "execution_count": 13,
   "metadata": {
    "id": "6kZTXPxLvTPE"
   },
   "outputs": [
    {
     "data": {
      "application/vnd.jupyter.widget-view+json": {
       "model_id": "f1cc1908ffc14d838aea3963fe46eb27",
       "version_major": 2,
       "version_minor": 0
      },
      "text/plain": [
       "  0%|          | 0/1000 [00:00<?, ?it/s]"
      ]
     },
     "metadata": {},
     "output_type": "display_data"
    },
    {
     "data": {
      "image/png": "[encoded data removed]",
      "text/plain": [
       "<PIL.Image.Image image mode=RGB size=64x64 at 0x7F066D789540>"
      ]
     },
     "execution_count": 13,
     "metadata": {},
     "output_type": "execute_result"
    }
   ],
   "source": [
    "from diffusers import DDPMPipeline\n",
    "\n",
    "image_pipe = DDPMPipeline(unet=model, scheduler=noise_scheduler)\n",
    "pipeline_output = image_pipe()\n",
    "pipeline_output.images[0]"
   ]
  },
  {
   "cell_type": "code",
   "execution_count": null,
   "metadata": {
    "id": "ORHd5GIKvUwH"
   },
   "outputs": [],
   "source": []
  },
  {
   "cell_type": "code",
   "execution_count": null,
   "metadata": {},
   "outputs": [],
   "source": []
  }
 ],
 "metadata": {
  "accelerator": "GPU",
  "colab": {
   "gpuType": "T4",
   "provenance": []
  },
  "kernelspec": {
   "display_name": "Python 3 (ipykernel)",
   "language": "python",
   "name": "python3"
  },
  "language_info": {
   "codemirror_mode": {
    "name": "ipython",
    "version": 3
   },
   "file_extension": ".py",
   "mimetype": "text/x-python",
   "name": "python",
   "nbconvert_exporter": "python",
   "pygments_lexer": "ipython3",
   "version": "3.10.12"
  }
 },
 "nbformat": 4,
 "nbformat_minor": 4
}
