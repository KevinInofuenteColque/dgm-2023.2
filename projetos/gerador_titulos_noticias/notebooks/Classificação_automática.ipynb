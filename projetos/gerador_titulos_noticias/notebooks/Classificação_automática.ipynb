{
  "nbformat": 4,
  "nbformat_minor": 0,
  "metadata": {
    "colab": {
      "provenance": [],
      "gpuType": "T4"
    },
    "kernelspec": {
      "name": "python3",
      "display_name": "Python 3"
    },
    "language_info": {
      "name": "python"
    },
    "accelerator": "GPU"
  },
  "cells": [
    {
      "cell_type": "code",
      "execution_count": 1,
      "metadata": {
        "id": "_6THWyvcXwd5"
      },
      "outputs": [],
      "source": [
        "!pip install -q transformers"
      ]
    },
    {
      "cell_type": "code",
      "source": [
        "from transformers import pipeline\n",
        "sentiment_pipeline = pipeline(model = \"lxyuan/distilbert-base-multilingual-cased-sentiments-student\", device=0)\n",
        "data = [\"I love you\", \"I hate you\"]\n",
        "sentiment_pipeline(data)"
      ],
      "metadata": {
        "colab": {
          "base_uri": "https://localhost:8080/"
        },
        "id": "ywKcj4gHX11V",
        "outputId": "e7df9d12-d481-4ead-991a-c92234bf27f5"
      },
      "execution_count": 13,
      "outputs": [
        {
          "output_type": "execute_result",
          "data": {
            "text/plain": [
              "[{'label': 'positive', 'score': 0.9696226716041565},\n",
              " {'label': 'negative', 'score': 0.8973514437675476}]"
            ]
          },
          "metadata": {},
          "execution_count": 13
        }
      ]
    },
    {
      "cell_type": "code",
      "source": [
        "from google.colab import drive\n",
        "import os\n",
        "\n",
        "drive.mount('/content/drive')"
      ],
      "metadata": {
        "colab": {
          "base_uri": "https://localhost:8080/"
        },
        "id": "TJejgrpyYcah",
        "outputId": "a986f1bb-7adf-4637-c8bf-2f66e7cd64e6"
      },
      "execution_count": 3,
      "outputs": [
        {
          "output_type": "stream",
          "name": "stdout",
          "text": [
            "Mounted at /content/drive\n"
          ]
        }
      ]
    },
    {
      "cell_type": "code",
      "source": [
        "data = open(\"/content/drive/MyDrive/gpt2-noticias/dataset_final.txt\", \"r\").readlines()\n",
        "len(data)"
      ],
      "metadata": {
        "colab": {
          "base_uri": "https://localhost:8080/"
        },
        "id": "FZrAPHPKYkPH",
        "outputId": "cbc6e4d4-278f-4006-c8b3-0cdf86d9f31e"
      },
      "execution_count": 15,
      "outputs": [
        {
          "output_type": "execute_result",
          "data": {
            "text/plain": [
              "229639"
            ]
          },
          "metadata": {},
          "execution_count": 15
        }
      ]
    },
    {
      "cell_type": "code",
      "source": [
        "sentiment = sentiment_pipeline(data)"
      ],
      "metadata": {
        "id": "11hZV3sckFzm"
      },
      "execution_count": 16,
      "outputs": []
    },
    {
      "cell_type": "code",
      "source": [
        "statistics = {\"p\" : {'ate50':{'len':0, 's':[]}, '50':{'len':0, 's':[]}, '60':{'len':0, 's':[]}, '70':{'len':0, 's':[]}, '80':{'len':0, 's':[]}, '90':{'len':0, 's':[]}},\n",
        "              \"n\" : {'ate50':{'len':0, 's':[]}, '50':{'len':0, 's':[]}, '60':{'len':0, 's':[]}, '70':{'len':0, 's':[]}, '80':{'len':0, 's':[]}, '90':{'len':0, 's':[]}}}\n",
        "\n",
        "for i in range(len(sentiment)):\n",
        "  if sentiment[i]['label'] == 'positive':\n",
        "    if sentiment[i]['score'] < 0.5:\n",
        "      statistics['p']['ate50']['len']+=1\n",
        "      statistics['p']['ate50']['s'].append(data[i])\n",
        "    elif sentiment[i]['score'] < 0.6:\n",
        "      statistics['p']['50']['len']+=1\n",
        "      statistics['p']['50']['s'].append(data[i])\n",
        "    elif sentiment[i]['score'] < 0.7:\n",
        "      statistics['p']['60']['len']+=1\n",
        "      statistics['p']['60']['s'].append(data[i])\n",
        "    elif sentiment[i]['score'] < 0.8:\n",
        "      statistics['p']['70']['len']+=1\n",
        "      statistics['p']['70']['s'].append(data[i])\n",
        "    elif sentiment[i]['score'] < 0.9:\n",
        "      statistics['p']['80']['len']+=1\n",
        "      statistics['p']['80']['s'].append(data[i])\n",
        "    else:\n",
        "      statistics['p']['90']['len']+=1\n",
        "      statistics['p']['90']['s'].append(data[i])\n",
        "\n",
        "  if sentiment[i]['label'] == 'negative':\n",
        "    if sentiment[i]['score'] < 0.5:\n",
        "      statistics['n']['ate50']['len']+=1\n",
        "      statistics['n']['ate50']['s'].append(data[i])\n",
        "    elif sentiment[i]['score'] < 0.6:\n",
        "      statistics['n']['50']['len']+=1\n",
        "      statistics['n']['50']['s'].append(data[i])\n",
        "    elif sentiment[i]['score'] < 0.7:\n",
        "      statistics['n']['60']['len']+=1\n",
        "      statistics['n']['60']['s'].append(data[i])\n",
        "    elif sentiment[i]['score'] < 0.8:\n",
        "      statistics['n']['70']['len']+=1\n",
        "      statistics['n']['70']['s'].append(data[i])\n",
        "    elif sentiment[i]['score'] < 0.9:\n",
        "      statistics['n']['80']['len']+=1\n",
        "      statistics['n']['80']['s'].append(data[i])\n",
        "    else:\n",
        "      statistics['n']['90']['len']+=1\n",
        "      statistics['n']['90']['s'].append(data[i])"
      ],
      "metadata": {
        "id": "-dyd7bXTftT8"
      },
      "execution_count": 17,
      "outputs": []
    },
    {
      "cell_type": "code",
      "source": [
        "#statistics"
      ],
      "metadata": {
        "id": "oAGreINUKqkY"
      },
      "execution_count": 7,
      "outputs": []
    },
    {
      "cell_type": "code",
      "source": [
        "ver = 'pierre-final'\n",
        "\n",
        "for i in range(50,100,10):\n",
        "  for s in ['p','n']:\n",
        "    file = open(f'/content/drive/MyDrive/gpt2-noticias/dataset_{s}_artf{ver}_{str(i)}.txt','w')\n",
        "    file.writelines(statistics[s][str(i)]['s'])\n",
        "    file.close()\n"
      ],
      "metadata": {
        "id": "cG9dn4iGlt6t"
      },
      "execution_count": 18,
      "outputs": []
    },
    {
      "cell_type": "code",
      "source": [
        "print('pos')\n",
        "for i in range(50,100,10):\n",
        "  print(f\"{i} : {statistics['p'][str(i)]['len']}\")\n",
        "\n",
        "print('neg')\n",
        "for i in range(50,100,10):\n",
        "  print(f\"{i} : {statistics['n'][str(i)]['len']}\")"
      ],
      "metadata": {
        "id": "WYmeBe4eCg_-",
        "colab": {
          "base_uri": "https://localhost:8080/"
        },
        "outputId": "01475030-1057-4008-f7e0-f07413ce646f"
      },
      "execution_count": 19,
      "outputs": [
        {
          "output_type": "stream",
          "name": "stdout",
          "text": [
            "pos\n",
            "50 : 40857\n",
            "60 : 18277\n",
            "70 : 7881\n",
            "80 : 3492\n",
            "90 : 674\n",
            "neg\n",
            "50 : 30460\n",
            "60 : 20262\n",
            "70 : 14015\n",
            "80 : 4372\n",
            "90 : 421\n"
          ]
        }
      ]
    }
  ]
}