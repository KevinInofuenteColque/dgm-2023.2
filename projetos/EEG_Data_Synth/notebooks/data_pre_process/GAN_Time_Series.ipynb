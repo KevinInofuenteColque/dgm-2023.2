{
 "cells": [
  {
   "cell_type": "code",
   "execution_count": 1,
   "id": "8da9e354-8014-49ae-9dee-643e6fd0981a",
   "metadata": {},
   "outputs": [],
   "source": [
    "import torch\n",
    "import torch.nn as nn\n",
    "import torch.optim as optim\n",
    "from torch.utils.data import DataLoader, TensorDataset\n",
    "import torchvision\n",
    "import torchvision.transforms as transforms\n"
   ]
  },
  {
   "cell_type": "code",
   "execution_count": 3,
   "id": "a671c994-faa2-4273-8176-b67f4860d293",
   "metadata": {},
   "outputs": [],
   "source": [
    "class Generator(nn.Module):\n",
    "    def __init__(self, input_dim, label_dim, output_dim):\n",
    "        super(Generator, self).__init__()\n",
    "        # Define your generator architecture here\n",
    "        # Use ConvTranspose2d layers to upsample the input noise and labels\n",
    "        # Concatenate labels to the input at each layer\n",
    "        # Apply BatchNorm and activation functions like ReLU\n",
    "        # The final layer should produce output_dim channels\n",
    "\n",
    "class Discriminator(nn.Module):\n",
    "    def __init__(self, input_dim, label_dim):\n",
    "        super(Discriminator, self).__init__()\n",
    "        # Define your discriminator architecture here\n",
    "        # Use Conv2d layers to process the input images with labels\n",
    "        # Concatenate labels to the input at each layer\n",
    "        # Apply BatchNorm and activation functions like LeakyReLU\n",
    "        # The final layer should produce a single output (real/fake)\n"
   ]
  },
  {
   "cell_type": "code",
   "execution_count": 4,
   "id": "9a7216be-037d-4949-99d2-75976f731003",
   "metadata": {},
   "outputs": [
    {
     "ename": "NameError",
     "evalue": "name 'input_dim' is not defined",
     "output_type": "error",
     "traceback": [
      "\u001b[0;31m---------------------------------------------------------------------------\u001b[0m",
      "\u001b[0;31mNameError\u001b[0m                                 Traceback (most recent call last)",
      "Cell \u001b[0;32mIn[4], line 2\u001b[0m\n\u001b[1;32m      1\u001b[0m \u001b[38;5;66;03m# Generator, Discriminator, and loss functions\u001b[39;00m\n\u001b[0;32m----> 2\u001b[0m generator \u001b[38;5;241m=\u001b[39m Generator(\u001b[43minput_dim\u001b[49m, label_dim, output_dim)\n\u001b[1;32m      3\u001b[0m discriminator \u001b[38;5;241m=\u001b[39m Discriminator(input_dim, label_dim)\n\u001b[1;32m      4\u001b[0m criterion \u001b[38;5;241m=\u001b[39m nn\u001b[38;5;241m.\u001b[39mBCELoss()  \u001b[38;5;66;03m# Binary Cross-Entropy Loss for GANs\u001b[39;00m\n",
      "\u001b[0;31mNameError\u001b[0m: name 'input_dim' is not defined"
     ]
    }
   ],
   "source": [
    "# Generator, Discriminator, and loss functions\n",
    "generator = Generator(input_dim, label_dim, output_dim)\n",
    "discriminator = Discriminator(input_dim, label_dim)\n",
    "criterion = nn.BCELoss()  # Binary Cross-Entropy Loss for GANs\n",
    "\n",
    "# Optimizers\n",
    "optimizer_G = optim.Adam(generator.parameters(), lr=0.0002, betas=(0.5, 0.999))\n",
    "optimizer_D = optim.Adam(discriminator.parameters(), lr=0.0002, betas=(0.5, 0.999))\n"
   ]
  },
  {
   "cell_type": "code",
   "execution_count": null,
   "id": "b1c5937a-2d86-4c66-bde4-d8765d2f914e",
   "metadata": {},
   "outputs": [],
   "source": []
  }
 ],
 "metadata": {
  "kernelspec": {
   "display_name": "Python 3 (ipykernel)",
   "language": "python",
   "name": "python3"
  },
  "language_info": {
   "codemirror_mode": {
    "name": "ipython",
    "version": 3
   },
   "file_extension": ".py",
   "mimetype": "text/x-python",
   "name": "python",
   "nbconvert_exporter": "python",
   "pygments_lexer": "ipython3",
   "version": "3.11.0rc1"
  }
 },
 "nbformat": 4,
 "nbformat_minor": 5
}
